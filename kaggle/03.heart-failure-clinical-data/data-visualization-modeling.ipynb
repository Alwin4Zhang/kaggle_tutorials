{
 "cells": [
  {
   "cell_type": "markdown",
   "metadata": {
    "papermill": {
     "duration": 0.015229,
     "end_time": "2020-08-29T01:04:46.446763",
     "exception": false,
     "start_time": "2020-08-29T01:04:46.431534",
     "status": "completed"
    },
    "tags": []
   },
   "source": [
    "<h1><center>Heart Failure Prediction: Analysis and modeling</center></h1>\n",
    "\n",
    "<center><img src=\"https://pediatricheartspecialists.com/images/answers/Normal_Heart_Anatomy_and_Blood_Flow.jpg\"></center>\n"
   ]
  },
  {
   "cell_type": "markdown",
   "metadata": {
    "papermill": {
     "duration": 0.014096,
     "end_time": "2020-08-29T01:04:46.474353",
     "exception": false,
     "start_time": "2020-08-29T01:04:46.460257",
     "status": "completed"
    },
    "tags": []
   },
   "source": [
    "<a id=\"top\"></a>\n",
    "\n",
    "<div class=\"list-group\" id=\"list-tab\" role=\"tablist\">\n",
    "<h3 class=\"list-group-item list-group-item-action active\" data-toggle=\"list\" style='background:purple; border:0' role=\"tab\" aria-controls=\"home\"><center>Quick navigation</center></h3>\n",
    "\n",
    "* [1. Data analysis and Visualization](#1)\n",
    "* [2. Modeling](#2)\n",
    "* [3. Optimization](#3)\n"
   ]
  },
  {
   "cell_type": "code",
   "execution_count": 1,
   "metadata": {
    "_cell_guid": "b1076dfc-b9ad-4769-8c92-a6c4dae69d19",
    "_kg_hide-input": true,
    "_kg_hide-output": true,
    "_uuid": "8f2839f25d086af736a60e9eeb907d3b93b6e0e5",
    "execution": {
     "iopub.execute_input": "2020-08-29T01:04:46.512509Z",
     "iopub.status.busy": "2020-08-29T01:04:46.511709Z",
     "iopub.status.idle": "2020-08-29T01:04:51.456455Z",
     "shell.execute_reply": "2020-08-29T01:04:51.455763Z"
    },
    "papermill": {
     "duration": 4.969218,
     "end_time": "2020-08-29T01:04:51.456607",
     "exception": false,
     "start_time": "2020-08-29T01:04:46.487389",
     "status": "completed"
    },
    "tags": []
   },
   "outputs": [
    {
     "name": "stdout",
     "output_type": "stream",
     "text": [
      "/kaggle/input/heart-failure-clinical-data/heart_failure_clinical_records_dataset.csv\n"
     ]
    }
   ],
   "source": [
    "# This Python 3 environment comes with many helpful analytics libraries installed\n",
    "# It is defined by the kaggle/python Docker image: https://github.com/kaggle/docker-python\n",
    "# For example, here's several helpful packages to load\n",
    "\n",
    "import numpy as np # linear algebra\n",
    "import pandas as pd # data processing, CSV file I/O (e.g. pd.read_csv)\n",
    "\n",
    "# Input data files are available in the read-only \"../input/\" directory\n",
    "# For example, running this (by clicking run or pressing Shift+Enter) will list all files under the input directory\n",
    "\n",
    "import os\n",
    "for dirname, _, filenames in os.walk('/kaggle/input'):\n",
    "    for filename in filenames:\n",
    "        print(os.path.join(dirname, filename))\n",
    "\n",
    "import plotly.graph_objs as go\n",
    "import plotly.figure_factory as ff\n",
    "import plotly.express as px\n",
    "import matplotlib.pyplot as plt\n",
    "from sklearn.model_selection import train_test_split\n",
    "from sklearn.linear_model import LogisticRegression\n",
    "from sklearn.metrics import plot_confusion_matrix, f1_score, recall_score, precision_score, accuracy_score\n",
    "from lightgbm import LGBMClassifier\n",
    "from xgboost import XGBClassifier\n",
    "from sklearn.feature_selection import RFE\n",
    "from sklearn.tree import DecisionTreeClassifier\n",
    "import optuna\n",
    "from optuna.samplers import TPESampler\n",
    "from sklearn.pipeline import Pipeline"
   ]
  },
  {
   "cell_type": "markdown",
   "metadata": {
    "papermill": {
     "duration": 0.012882,
     "end_time": "2020-08-29T01:04:51.482869",
     "exception": false,
     "start_time": "2020-08-29T01:04:51.469987",
     "status": "completed"
    },
    "tags": []
   },
   "source": [
    "<a id=\"1\"></a>\n",
    "<h2 style='background:purple; border:0; color:white'><center>Data analysis and Visualization<center><h2>"
   ]
  },
  {
   "cell_type": "markdown",
   "metadata": {
    "papermill": {
     "duration": 0.012552,
     "end_time": "2020-08-29T01:04:51.508521",
     "exception": false,
     "start_time": "2020-08-29T01:04:51.495969",
     "status": "completed"
    },
    "tags": []
   },
   "source": [
    "### In this section we are going to do quick overview of available variables"
   ]
  },
  {
   "cell_type": "code",
   "execution_count": 2,
   "metadata": {
    "_cell_guid": "79c7e3d0-c299-4dcb-8224-4455121ee9b0",
    "_kg_hide-input": true,
    "_uuid": "d629ff2d2480ee46fbb7e2d37f6b5fab8052498a",
    "execution": {
     "iopub.execute_input": "2020-08-29T01:04:51.556159Z",
     "iopub.status.busy": "2020-08-29T01:04:51.543872Z",
     "iopub.status.idle": "2020-08-29T01:04:51.598098Z",
     "shell.execute_reply": "2020-08-29T01:04:51.598792Z"
    },
    "papermill": {
     "duration": 0.077473,
     "end_time": "2020-08-29T01:04:51.598967",
     "exception": false,
     "start_time": "2020-08-29T01:04:51.521494",
     "status": "completed"
    },
    "tags": []
   },
   "outputs": [
    {
     "data": {
      "text/html": [
       "<div>\n",
       "<style scoped>\n",
       "    .dataframe tbody tr th:only-of-type {\n",
       "        vertical-align: middle;\n",
       "    }\n",
       "\n",
       "    .dataframe tbody tr th {\n",
       "        vertical-align: top;\n",
       "    }\n",
       "\n",
       "    .dataframe thead th {\n",
       "        text-align: right;\n",
       "    }\n",
       "</style>\n",
       "<table border=\"1\" class=\"dataframe\">\n",
       "  <thead>\n",
       "    <tr style=\"text-align: right;\">\n",
       "      <th></th>\n",
       "      <th>age</th>\n",
       "      <th>anaemia</th>\n",
       "      <th>creatinine_phosphokinase</th>\n",
       "      <th>diabetes</th>\n",
       "      <th>ejection_fraction</th>\n",
       "      <th>high_blood_pressure</th>\n",
       "      <th>platelets</th>\n",
       "      <th>serum_creatinine</th>\n",
       "      <th>serum_sodium</th>\n",
       "      <th>sex</th>\n",
       "      <th>smoking</th>\n",
       "      <th>time</th>\n",
       "      <th>DEATH_EVENT</th>\n",
       "    </tr>\n",
       "  </thead>\n",
       "  <tbody>\n",
       "    <tr>\n",
       "      <th>0</th>\n",
       "      <td>75.0</td>\n",
       "      <td>0</td>\n",
       "      <td>582</td>\n",
       "      <td>0</td>\n",
       "      <td>20</td>\n",
       "      <td>1</td>\n",
       "      <td>265000.00</td>\n",
       "      <td>1.9</td>\n",
       "      <td>130</td>\n",
       "      <td>1</td>\n",
       "      <td>0</td>\n",
       "      <td>4</td>\n",
       "      <td>1</td>\n",
       "    </tr>\n",
       "    <tr>\n",
       "      <th>1</th>\n",
       "      <td>55.0</td>\n",
       "      <td>0</td>\n",
       "      <td>7861</td>\n",
       "      <td>0</td>\n",
       "      <td>38</td>\n",
       "      <td>0</td>\n",
       "      <td>263358.03</td>\n",
       "      <td>1.1</td>\n",
       "      <td>136</td>\n",
       "      <td>1</td>\n",
       "      <td>0</td>\n",
       "      <td>6</td>\n",
       "      <td>1</td>\n",
       "    </tr>\n",
       "    <tr>\n",
       "      <th>2</th>\n",
       "      <td>65.0</td>\n",
       "      <td>0</td>\n",
       "      <td>146</td>\n",
       "      <td>0</td>\n",
       "      <td>20</td>\n",
       "      <td>0</td>\n",
       "      <td>162000.00</td>\n",
       "      <td>1.3</td>\n",
       "      <td>129</td>\n",
       "      <td>1</td>\n",
       "      <td>1</td>\n",
       "      <td>7</td>\n",
       "      <td>1</td>\n",
       "    </tr>\n",
       "    <tr>\n",
       "      <th>3</th>\n",
       "      <td>50.0</td>\n",
       "      <td>1</td>\n",
       "      <td>111</td>\n",
       "      <td>0</td>\n",
       "      <td>20</td>\n",
       "      <td>0</td>\n",
       "      <td>210000.00</td>\n",
       "      <td>1.9</td>\n",
       "      <td>137</td>\n",
       "      <td>1</td>\n",
       "      <td>0</td>\n",
       "      <td>7</td>\n",
       "      <td>1</td>\n",
       "    </tr>\n",
       "    <tr>\n",
       "      <th>4</th>\n",
       "      <td>65.0</td>\n",
       "      <td>1</td>\n",
       "      <td>160</td>\n",
       "      <td>1</td>\n",
       "      <td>20</td>\n",
       "      <td>0</td>\n",
       "      <td>327000.00</td>\n",
       "      <td>2.7</td>\n",
       "      <td>116</td>\n",
       "      <td>0</td>\n",
       "      <td>0</td>\n",
       "      <td>8</td>\n",
       "      <td>1</td>\n",
       "    </tr>\n",
       "  </tbody>\n",
       "</table>\n",
       "</div>"
      ],
      "text/plain": [
       "    age  anaemia  creatinine_phosphokinase  diabetes  ejection_fraction  \\\n",
       "0  75.0        0                       582         0                 20   \n",
       "1  55.0        0                      7861         0                 38   \n",
       "2  65.0        0                       146         0                 20   \n",
       "3  50.0        1                       111         0                 20   \n",
       "4  65.0        1                       160         1                 20   \n",
       "\n",
       "   high_blood_pressure  platelets  serum_creatinine  serum_sodium  sex  \\\n",
       "0                    1  265000.00               1.9           130    1   \n",
       "1                    0  263358.03               1.1           136    1   \n",
       "2                    0  162000.00               1.3           129    1   \n",
       "3                    0  210000.00               1.9           137    1   \n",
       "4                    0  327000.00               2.7           116    0   \n",
       "\n",
       "   smoking  time  DEATH_EVENT  \n",
       "0        0     4            1  \n",
       "1        0     6            1  \n",
       "2        1     7            1  \n",
       "3        0     7            1  \n",
       "4        0     8            1  "
      ]
     },
     "execution_count": 2,
     "metadata": {},
     "output_type": "execute_result"
    }
   ],
   "source": [
    "df = pd.read_csv('/kaggle/input/heart-failure-clinical-data/heart_failure_clinical_records_dataset.csv')\n",
    "df.head()"
   ]
  },
  {
   "cell_type": "markdown",
   "metadata": {
    "papermill": {
     "duration": 0.013102,
     "end_time": "2020-08-29T01:04:51.625579",
     "exception": false,
     "start_time": "2020-08-29T01:04:51.612477",
     "status": "completed"
    },
    "tags": []
   },
   "source": [
    "### Let's see percent of NaNs for every column"
   ]
  },
  {
   "cell_type": "code",
   "execution_count": 3,
   "metadata": {
    "_kg_hide-input": true,
    "execution": {
     "iopub.execute_input": "2020-08-29T01:04:51.659569Z",
     "iopub.status.busy": "2020-08-29T01:04:51.658697Z",
     "iopub.status.idle": "2020-08-29T01:04:51.728566Z",
     "shell.execute_reply": "2020-08-29T01:04:51.727831Z"
    },
    "papermill": {
     "duration": 0.090036,
     "end_time": "2020-08-29T01:04:51.728701",
     "exception": false,
     "start_time": "2020-08-29T01:04:51.638665",
     "status": "completed"
    },
    "tags": []
   },
   "outputs": [
    {
     "name": "stdout",
     "output_type": "stream",
     "text": [
      "age 0.0%\n",
      "anaemia 0.0%\n",
      "creatinine_phosphokinase 0.0%\n",
      "diabetes 0.0%\n",
      "ejection_fraction 0.0%\n",
      "high_blood_pressure 0.0%\n",
      "platelets 0.0%\n",
      "serum_creatinine 0.0%\n",
      "serum_sodium 0.0%\n",
      "sex 0.0%\n",
      "smoking 0.0%\n",
      "time 0.0%\n",
      "DEATH_EVENT 0.0%\n"
     ]
    }
   ],
   "source": [
    "for col in df.columns:\n",
    "    print(col, str(round(100* df[col].isnull().sum() / len(df), 2)) + '%')"
   ]
  },
  {
   "cell_type": "code",
   "execution_count": 4,
   "metadata": {
    "execution": {
     "iopub.execute_input": "2020-08-29T01:04:51.780472Z",
     "iopub.status.busy": "2020-08-29T01:04:51.779517Z",
     "iopub.status.idle": "2020-08-29T01:04:51.830399Z",
     "shell.execute_reply": "2020-08-29T01:04:51.829595Z"
    },
    "papermill": {
     "duration": 0.085013,
     "end_time": "2020-08-29T01:04:51.830530",
     "exception": false,
     "start_time": "2020-08-29T01:04:51.745517",
     "status": "completed"
    },
    "tags": []
   },
   "outputs": [
    {
     "data": {
      "text/html": [
       "<div>\n",
       "<style scoped>\n",
       "    .dataframe tbody tr th:only-of-type {\n",
       "        vertical-align: middle;\n",
       "    }\n",
       "\n",
       "    .dataframe tbody tr th {\n",
       "        vertical-align: top;\n",
       "    }\n",
       "\n",
       "    .dataframe thead th {\n",
       "        text-align: right;\n",
       "    }\n",
       "</style>\n",
       "<table border=\"1\" class=\"dataframe\">\n",
       "  <thead>\n",
       "    <tr style=\"text-align: right;\">\n",
       "      <th></th>\n",
       "      <th>age</th>\n",
       "      <th>anaemia</th>\n",
       "      <th>creatinine_phosphokinase</th>\n",
       "      <th>diabetes</th>\n",
       "      <th>ejection_fraction</th>\n",
       "      <th>high_blood_pressure</th>\n",
       "      <th>platelets</th>\n",
       "      <th>serum_creatinine</th>\n",
       "      <th>serum_sodium</th>\n",
       "      <th>sex</th>\n",
       "      <th>smoking</th>\n",
       "      <th>time</th>\n",
       "      <th>DEATH_EVENT</th>\n",
       "    </tr>\n",
       "  </thead>\n",
       "  <tbody>\n",
       "    <tr>\n",
       "      <th>count</th>\n",
       "      <td>299.000000</td>\n",
       "      <td>299.000000</td>\n",
       "      <td>299.000000</td>\n",
       "      <td>299.000000</td>\n",
       "      <td>299.000000</td>\n",
       "      <td>299.000000</td>\n",
       "      <td>299.000000</td>\n",
       "      <td>299.00000</td>\n",
       "      <td>299.000000</td>\n",
       "      <td>299.000000</td>\n",
       "      <td>299.00000</td>\n",
       "      <td>299.000000</td>\n",
       "      <td>299.00000</td>\n",
       "    </tr>\n",
       "    <tr>\n",
       "      <th>mean</th>\n",
       "      <td>60.833893</td>\n",
       "      <td>0.431438</td>\n",
       "      <td>581.839465</td>\n",
       "      <td>0.418060</td>\n",
       "      <td>38.083612</td>\n",
       "      <td>0.351171</td>\n",
       "      <td>263358.029264</td>\n",
       "      <td>1.39388</td>\n",
       "      <td>136.625418</td>\n",
       "      <td>0.648829</td>\n",
       "      <td>0.32107</td>\n",
       "      <td>130.260870</td>\n",
       "      <td>0.32107</td>\n",
       "    </tr>\n",
       "    <tr>\n",
       "      <th>std</th>\n",
       "      <td>11.894809</td>\n",
       "      <td>0.496107</td>\n",
       "      <td>970.287881</td>\n",
       "      <td>0.494067</td>\n",
       "      <td>11.834841</td>\n",
       "      <td>0.478136</td>\n",
       "      <td>97804.236869</td>\n",
       "      <td>1.03451</td>\n",
       "      <td>4.412477</td>\n",
       "      <td>0.478136</td>\n",
       "      <td>0.46767</td>\n",
       "      <td>77.614208</td>\n",
       "      <td>0.46767</td>\n",
       "    </tr>\n",
       "    <tr>\n",
       "      <th>min</th>\n",
       "      <td>40.000000</td>\n",
       "      <td>0.000000</td>\n",
       "      <td>23.000000</td>\n",
       "      <td>0.000000</td>\n",
       "      <td>14.000000</td>\n",
       "      <td>0.000000</td>\n",
       "      <td>25100.000000</td>\n",
       "      <td>0.50000</td>\n",
       "      <td>113.000000</td>\n",
       "      <td>0.000000</td>\n",
       "      <td>0.00000</td>\n",
       "      <td>4.000000</td>\n",
       "      <td>0.00000</td>\n",
       "    </tr>\n",
       "    <tr>\n",
       "      <th>25%</th>\n",
       "      <td>51.000000</td>\n",
       "      <td>0.000000</td>\n",
       "      <td>116.500000</td>\n",
       "      <td>0.000000</td>\n",
       "      <td>30.000000</td>\n",
       "      <td>0.000000</td>\n",
       "      <td>212500.000000</td>\n",
       "      <td>0.90000</td>\n",
       "      <td>134.000000</td>\n",
       "      <td>0.000000</td>\n",
       "      <td>0.00000</td>\n",
       "      <td>73.000000</td>\n",
       "      <td>0.00000</td>\n",
       "    </tr>\n",
       "    <tr>\n",
       "      <th>50%</th>\n",
       "      <td>60.000000</td>\n",
       "      <td>0.000000</td>\n",
       "      <td>250.000000</td>\n",
       "      <td>0.000000</td>\n",
       "      <td>38.000000</td>\n",
       "      <td>0.000000</td>\n",
       "      <td>262000.000000</td>\n",
       "      <td>1.10000</td>\n",
       "      <td>137.000000</td>\n",
       "      <td>1.000000</td>\n",
       "      <td>0.00000</td>\n",
       "      <td>115.000000</td>\n",
       "      <td>0.00000</td>\n",
       "    </tr>\n",
       "    <tr>\n",
       "      <th>75%</th>\n",
       "      <td>70.000000</td>\n",
       "      <td>1.000000</td>\n",
       "      <td>582.000000</td>\n",
       "      <td>1.000000</td>\n",
       "      <td>45.000000</td>\n",
       "      <td>1.000000</td>\n",
       "      <td>303500.000000</td>\n",
       "      <td>1.40000</td>\n",
       "      <td>140.000000</td>\n",
       "      <td>1.000000</td>\n",
       "      <td>1.00000</td>\n",
       "      <td>203.000000</td>\n",
       "      <td>1.00000</td>\n",
       "    </tr>\n",
       "    <tr>\n",
       "      <th>max</th>\n",
       "      <td>95.000000</td>\n",
       "      <td>1.000000</td>\n",
       "      <td>7861.000000</td>\n",
       "      <td>1.000000</td>\n",
       "      <td>80.000000</td>\n",
       "      <td>1.000000</td>\n",
       "      <td>850000.000000</td>\n",
       "      <td>9.40000</td>\n",
       "      <td>148.000000</td>\n",
       "      <td>1.000000</td>\n",
       "      <td>1.00000</td>\n",
       "      <td>285.000000</td>\n",
       "      <td>1.00000</td>\n",
       "    </tr>\n",
       "  </tbody>\n",
       "</table>\n",
       "</div>"
      ],
      "text/plain": [
       "              age     anaemia  creatinine_phosphokinase    diabetes  \\\n",
       "count  299.000000  299.000000                299.000000  299.000000   \n",
       "mean    60.833893    0.431438                581.839465    0.418060   \n",
       "std     11.894809    0.496107                970.287881    0.494067   \n",
       "min     40.000000    0.000000                 23.000000    0.000000   \n",
       "25%     51.000000    0.000000                116.500000    0.000000   \n",
       "50%     60.000000    0.000000                250.000000    0.000000   \n",
       "75%     70.000000    1.000000                582.000000    1.000000   \n",
       "max     95.000000    1.000000               7861.000000    1.000000   \n",
       "\n",
       "       ejection_fraction  high_blood_pressure      platelets  \\\n",
       "count         299.000000           299.000000     299.000000   \n",
       "mean           38.083612             0.351171  263358.029264   \n",
       "std            11.834841             0.478136   97804.236869   \n",
       "min            14.000000             0.000000   25100.000000   \n",
       "25%            30.000000             0.000000  212500.000000   \n",
       "50%            38.000000             0.000000  262000.000000   \n",
       "75%            45.000000             1.000000  303500.000000   \n",
       "max            80.000000             1.000000  850000.000000   \n",
       "\n",
       "       serum_creatinine  serum_sodium         sex    smoking        time  \\\n",
       "count         299.00000    299.000000  299.000000  299.00000  299.000000   \n",
       "mean            1.39388    136.625418    0.648829    0.32107  130.260870   \n",
       "std             1.03451      4.412477    0.478136    0.46767   77.614208   \n",
       "min             0.50000    113.000000    0.000000    0.00000    4.000000   \n",
       "25%             0.90000    134.000000    0.000000    0.00000   73.000000   \n",
       "50%             1.10000    137.000000    1.000000    0.00000  115.000000   \n",
       "75%             1.40000    140.000000    1.000000    1.00000  203.000000   \n",
       "max             9.40000    148.000000    1.000000    1.00000  285.000000   \n",
       "\n",
       "       DEATH_EVENT  \n",
       "count    299.00000  \n",
       "mean       0.32107  \n",
       "std        0.46767  \n",
       "min        0.00000  \n",
       "25%        0.00000  \n",
       "50%        0.00000  \n",
       "75%        1.00000  \n",
       "max        1.00000  "
      ]
     },
     "execution_count": 4,
     "metadata": {},
     "output_type": "execute_result"
    }
   ],
   "source": [
    "df.describe()"
   ]
  },
  {
   "cell_type": "code",
   "execution_count": 5,
   "metadata": {
    "_kg_hide-input": true,
    "execution": {
     "iopub.execute_input": "2020-08-29T01:04:51.871132Z",
     "iopub.status.busy": "2020-08-29T01:04:51.870327Z",
     "iopub.status.idle": "2020-08-29T01:04:52.911703Z",
     "shell.execute_reply": "2020-08-29T01:04:52.910869Z"
    },
    "papermill": {
     "duration": 1.064112,
     "end_time": "2020-08-29T01:04:52.911837",
     "exception": false,
     "start_time": "2020-08-29T01:04:51.847725",
     "status": "completed"
    },
    "tags": []
   },
   "outputs": [
    {
     "data": {
      "text/html": [
       "        <script type=\"text/javascript\">\n",
       "        window.PlotlyConfig = {MathJaxConfig: 'local'};\n",
       "        if (window.MathJax) {MathJax.Hub.Config({SVG: {font: \"STIX-Web\"}});}\n",
       "        if (typeof require !== 'undefined') {\n",
       "        require.undef(\"plotly\");\n",
       "        requirejs.config({\n",
       "            paths: {\n",
       "                'plotly': ['https://cdn.plot.ly/plotly-latest.min']\n",
       "            }\n",
       "        });\n",
       "        require(['plotly'], function(Plotly) {\n",
       "            window._Plotly = Plotly;\n",
       "        });\n",
       "        }\n",
       "        </script>\n",
       "        "
      ]
     },
     "metadata": {},
     "output_type": "display_data"
    },
    {
     "data": {
      "text/html": [
       "<div>\n",
       "        \n",
       "        \n",
       "            <div id=\"0ed8009b-2527-4ee5-a5b6-178b81e5feb9\" class=\"plotly-graph-div\" style=\"height:525px; width:700px;\"></div>\n",
       "            <script type=\"text/javascript\">\n",
       "                require([\"plotly\"], function(Plotly) {\n",
       "                    window.PLOTLYENV=window.PLOTLYENV || {};\n",
       "                    \n",
       "                if (document.getElementById(\"0ed8009b-2527-4ee5-a5b6-178b81e5feb9\")) {\n",
       "                    Plotly.newPlot(\n",
       "                        '0ed8009b-2527-4ee5-a5b6-178b81e5feb9',\n",
       "                        [{\"alignmentgroup\": \"True\", \"bingroup\": \"x\", \"hovertemplate\": \"age=%{x}<br>count=%{y}<extra></extra>\", \"legendgroup\": \"\", \"marker\": {\"color\": \"#636efa\"}, \"name\": \"\", \"nbinsx\": 25, \"offsetgroup\": \"\", \"orientation\": \"v\", \"showlegend\": false, \"type\": \"histogram\", \"x\": [75.0, 55.0, 65.0, 50.0, 65.0, 90.0, 75.0, 60.0, 65.0, 80.0, 75.0, 62.0, 45.0, 50.0, 49.0, 82.0, 87.0, 45.0, 70.0, 48.0, 65.0, 65.0, 68.0, 53.0, 75.0, 80.0, 95.0, 70.0, 58.0, 82.0, 94.0, 85.0, 50.0, 50.0, 65.0, 69.0, 90.0, 82.0, 60.0, 60.0, 70.0, 50.0, 70.0, 72.0, 60.0, 50.0, 51.0, 60.0, 80.0, 57.0, 68.0, 53.0, 60.0, 70.0, 60.0, 95.0, 70.0, 60.0, 49.0, 72.0, 45.0, 50.0, 55.0, 45.0, 45.0, 60.0, 42.0, 72.0, 70.0, 65.0, 41.0, 58.0, 85.0, 65.0, 69.0, 60.0, 70.0, 42.0, 75.0, 55.0, 70.0, 67.0, 60.0, 79.0, 59.0, 51.0, 55.0, 65.0, 44.0, 57.0, 70.0, 60.0, 42.0, 60.0, 58.0, 58.0, 63.0, 70.0, 60.0, 63.0, 65.0, 75.0, 80.0, 42.0, 60.0, 72.0, 55.0, 45.0, 63.0, 45.0, 85.0, 55.0, 50.0, 70.0, 60.0, 58.0, 60.0, 85.0, 65.0, 86.0, 60.0, 66.0, 60.0, 60.0, 60.0, 43.0, 46.0, 58.0, 61.0, 53.0, 53.0, 60.0, 46.0, 63.0, 81.0, 75.0, 65.0, 68.0, 62.0, 50.0, 80.0, 46.0, 50.0, 61.0, 72.0, 50.0, 52.0, 64.0, 75.0, 60.0, 72.0, 62.0, 50.0, 50.0, 65.0, 60.0, 52.0, 50.0, 85.0, 59.0, 66.0, 45.0, 63.0, 50.0, 45.0, 80.0, 53.0, 59.0, 65.0, 70.0, 51.0, 52.0, 70.0, 50.0, 65.0, 60.0, 69.0, 49.0, 63.0, 55.0, 40.0, 59.0, 65.0, 75.0, 58.0, 60.667, 50.0, 60.0, 60.667, 40.0, 80.0, 64.0, 50.0, 73.0, 45.0, 77.0, 45.0, 65.0, 50.0, 60.0, 63.0, 45.0, 70.0, 60.0, 78.0, 50.0, 40.0, 85.0, 60.0, 49.0, 70.0, 50.0, 78.0, 48.0, 65.0, 73.0, 70.0, 54.0, 68.0, 55.0, 73.0, 65.0, 42.0, 47.0, 58.0, 75.0, 58.0, 55.0, 65.0, 72.0, 60.0, 70.0, 40.0, 53.0, 53.0, 77.0, 75.0, 70.0, 65.0, 55.0, 70.0, 65.0, 40.0, 73.0, 54.0, 61.0, 55.0, 64.0, 40.0, 53.0, 50.0, 55.0, 50.0, 70.0, 53.0, 52.0, 65.0, 58.0, 45.0, 53.0, 55.0, 62.0, 65.0, 68.0, 61.0, 50.0, 55.0, 56.0, 45.0, 40.0, 44.0, 51.0, 67.0, 42.0, 60.0, 45.0, 70.0, 70.0, 50.0, 55.0, 70.0, 70.0, 42.0, 65.0, 50.0, 55.0, 60.0, 45.0, 65.0, 90.0, 45.0, 60.0, 52.0, 63.0, 62.0, 55.0, 45.0, 45.0, 50.0], \"xaxis\": \"x\", \"yaxis\": \"y\"}],\n",
       "                        {\"barmode\": \"relative\", \"legend\": {\"tracegroupgap\": 0}, \"template\": {\"data\": {\"bar\": [{\"error_x\": {\"color\": \"#2a3f5f\"}, \"error_y\": {\"color\": \"#2a3f5f\"}, \"marker\": {\"line\": {\"color\": \"#E5ECF6\", \"width\": 0.5}}, \"type\": \"bar\"}], \"barpolar\": [{\"marker\": {\"line\": {\"color\": \"#E5ECF6\", \"width\": 0.5}}, \"type\": \"barpolar\"}], \"carpet\": [{\"aaxis\": {\"endlinecolor\": \"#2a3f5f\", \"gridcolor\": \"white\", \"linecolor\": \"white\", \"minorgridcolor\": \"white\", \"startlinecolor\": \"#2a3f5f\"}, \"baxis\": {\"endlinecolor\": \"#2a3f5f\", \"gridcolor\": \"white\", \"linecolor\": \"white\", \"minorgridcolor\": \"white\", \"startlinecolor\": \"#2a3f5f\"}, \"type\": \"carpet\"}], \"choropleth\": [{\"colorbar\": {\"outlinewidth\": 0, \"ticks\": \"\"}, \"type\": \"choropleth\"}], \"contour\": [{\"colorbar\": {\"outlinewidth\": 0, \"ticks\": \"\"}, \"colorscale\": [[0.0, \"#0d0887\"], [0.1111111111111111, \"#46039f\"], [0.2222222222222222, \"#7201a8\"], [0.3333333333333333, \"#9c179e\"], [0.4444444444444444, \"#bd3786\"], [0.5555555555555556, \"#d8576b\"], [0.6666666666666666, \"#ed7953\"], [0.7777777777777778, \"#fb9f3a\"], [0.8888888888888888, \"#fdca26\"], [1.0, \"#f0f921\"]], \"type\": \"contour\"}], \"contourcarpet\": [{\"colorbar\": {\"outlinewidth\": 0, \"ticks\": \"\"}, \"type\": \"contourcarpet\"}], \"heatmap\": [{\"colorbar\": {\"outlinewidth\": 0, \"ticks\": \"\"}, \"colorscale\": [[0.0, \"#0d0887\"], [0.1111111111111111, \"#46039f\"], [0.2222222222222222, \"#7201a8\"], [0.3333333333333333, \"#9c179e\"], [0.4444444444444444, \"#bd3786\"], [0.5555555555555556, \"#d8576b\"], [0.6666666666666666, \"#ed7953\"], [0.7777777777777778, \"#fb9f3a\"], [0.8888888888888888, \"#fdca26\"], [1.0, \"#f0f921\"]], \"type\": \"heatmap\"}], \"heatmapgl\": [{\"colorbar\": {\"outlinewidth\": 0, \"ticks\": \"\"}, \"colorscale\": [[0.0, \"#0d0887\"], [0.1111111111111111, \"#46039f\"], [0.2222222222222222, \"#7201a8\"], [0.3333333333333333, \"#9c179e\"], [0.4444444444444444, \"#bd3786\"], [0.5555555555555556, \"#d8576b\"], [0.6666666666666666, \"#ed7953\"], [0.7777777777777778, \"#fb9f3a\"], [0.8888888888888888, \"#fdca26\"], [1.0, \"#f0f921\"]], \"type\": \"heatmapgl\"}], \"histogram\": [{\"marker\": {\"colorbar\": {\"outlinewidth\": 0, \"ticks\": \"\"}}, \"type\": \"histogram\"}], \"histogram2d\": [{\"colorbar\": {\"outlinewidth\": 0, \"ticks\": \"\"}, \"colorscale\": [[0.0, \"#0d0887\"], [0.1111111111111111, \"#46039f\"], [0.2222222222222222, \"#7201a8\"], [0.3333333333333333, \"#9c179e\"], [0.4444444444444444, \"#bd3786\"], [0.5555555555555556, \"#d8576b\"], [0.6666666666666666, \"#ed7953\"], [0.7777777777777778, \"#fb9f3a\"], [0.8888888888888888, \"#fdca26\"], [1.0, \"#f0f921\"]], \"type\": \"histogram2d\"}], \"histogram2dcontour\": [{\"colorbar\": {\"outlinewidth\": 0, \"ticks\": \"\"}, \"colorscale\": [[0.0, \"#0d0887\"], [0.1111111111111111, \"#46039f\"], [0.2222222222222222, \"#7201a8\"], [0.3333333333333333, \"#9c179e\"], [0.4444444444444444, \"#bd3786\"], [0.5555555555555556, \"#d8576b\"], [0.6666666666666666, \"#ed7953\"], [0.7777777777777778, \"#fb9f3a\"], [0.8888888888888888, \"#fdca26\"], [1.0, \"#f0f921\"]], \"type\": \"histogram2dcontour\"}], \"mesh3d\": [{\"colorbar\": {\"outlinewidth\": 0, \"ticks\": \"\"}, \"type\": \"mesh3d\"}], \"parcoords\": [{\"line\": {\"colorbar\": {\"outlinewidth\": 0, \"ticks\": \"\"}}, \"type\": \"parcoords\"}], \"pie\": [{\"automargin\": true, \"type\": \"pie\"}], \"scatter\": [{\"marker\": {\"colorbar\": {\"outlinewidth\": 0, \"ticks\": \"\"}}, \"type\": \"scatter\"}], \"scatter3d\": [{\"line\": {\"colorbar\": {\"outlinewidth\": 0, \"ticks\": \"\"}}, \"marker\": {\"colorbar\": {\"outlinewidth\": 0, \"ticks\": \"\"}}, \"type\": \"scatter3d\"}], \"scattercarpet\": [{\"marker\": {\"colorbar\": {\"outlinewidth\": 0, \"ticks\": \"\"}}, \"type\": \"scattercarpet\"}], \"scattergeo\": [{\"marker\": {\"colorbar\": {\"outlinewidth\": 0, \"ticks\": \"\"}}, \"type\": \"scattergeo\"}], \"scattergl\": [{\"marker\": {\"colorbar\": {\"outlinewidth\": 0, \"ticks\": \"\"}}, \"type\": \"scattergl\"}], \"scattermapbox\": [{\"marker\": {\"colorbar\": {\"outlinewidth\": 0, \"ticks\": \"\"}}, \"type\": \"scattermapbox\"}], \"scatterpolar\": [{\"marker\": {\"colorbar\": {\"outlinewidth\": 0, \"ticks\": \"\"}}, \"type\": \"scatterpolar\"}], \"scatterpolargl\": [{\"marker\": {\"colorbar\": {\"outlinewidth\": 0, \"ticks\": \"\"}}, \"type\": \"scatterpolargl\"}], \"scatterternary\": [{\"marker\": {\"colorbar\": {\"outlinewidth\": 0, \"ticks\": \"\"}}, \"type\": \"scatterternary\"}], \"surface\": [{\"colorbar\": {\"outlinewidth\": 0, \"ticks\": \"\"}, \"colorscale\": [[0.0, \"#0d0887\"], [0.1111111111111111, \"#46039f\"], [0.2222222222222222, \"#7201a8\"], [0.3333333333333333, \"#9c179e\"], [0.4444444444444444, \"#bd3786\"], [0.5555555555555556, \"#d8576b\"], [0.6666666666666666, \"#ed7953\"], [0.7777777777777778, \"#fb9f3a\"], [0.8888888888888888, \"#fdca26\"], [1.0, \"#f0f921\"]], \"type\": \"surface\"}], \"table\": [{\"cells\": {\"fill\": {\"color\": \"#EBF0F8\"}, \"line\": {\"color\": \"white\"}}, \"header\": {\"fill\": {\"color\": \"#C8D4E3\"}, \"line\": {\"color\": \"white\"}}, \"type\": \"table\"}]}, \"layout\": {\"annotationdefaults\": {\"arrowcolor\": \"#2a3f5f\", \"arrowhead\": 0, \"arrowwidth\": 1}, \"coloraxis\": {\"colorbar\": {\"outlinewidth\": 0, \"ticks\": \"\"}}, \"colorscale\": {\"diverging\": [[0, \"#8e0152\"], [0.1, \"#c51b7d\"], [0.2, \"#de77ae\"], [0.3, \"#f1b6da\"], [0.4, \"#fde0ef\"], [0.5, \"#f7f7f7\"], [0.6, \"#e6f5d0\"], [0.7, \"#b8e186\"], [0.8, \"#7fbc41\"], [0.9, \"#4d9221\"], [1, \"#276419\"]], \"sequential\": [[0.0, \"#0d0887\"], [0.1111111111111111, \"#46039f\"], [0.2222222222222222, \"#7201a8\"], [0.3333333333333333, \"#9c179e\"], [0.4444444444444444, \"#bd3786\"], [0.5555555555555556, \"#d8576b\"], [0.6666666666666666, \"#ed7953\"], [0.7777777777777778, \"#fb9f3a\"], [0.8888888888888888, \"#fdca26\"], [1.0, \"#f0f921\"]], \"sequentialminus\": [[0.0, \"#0d0887\"], [0.1111111111111111, \"#46039f\"], [0.2222222222222222, \"#7201a8\"], [0.3333333333333333, \"#9c179e\"], [0.4444444444444444, \"#bd3786\"], [0.5555555555555556, \"#d8576b\"], [0.6666666666666666, \"#ed7953\"], [0.7777777777777778, \"#fb9f3a\"], [0.8888888888888888, \"#fdca26\"], [1.0, \"#f0f921\"]]}, \"colorway\": [\"#636efa\", \"#EF553B\", \"#00cc96\", \"#ab63fa\", \"#FFA15A\", \"#19d3f3\", \"#FF6692\", \"#B6E880\", \"#FF97FF\", \"#FECB52\"], \"font\": {\"color\": \"#2a3f5f\"}, \"geo\": {\"bgcolor\": \"white\", \"lakecolor\": \"white\", \"landcolor\": \"#E5ECF6\", \"showlakes\": true, \"showland\": true, \"subunitcolor\": \"white\"}, \"hoverlabel\": {\"align\": \"left\"}, \"hovermode\": \"closest\", \"mapbox\": {\"style\": \"light\"}, \"paper_bgcolor\": \"white\", \"plot_bgcolor\": \"#E5ECF6\", \"polar\": {\"angularaxis\": {\"gridcolor\": \"white\", \"linecolor\": \"white\", \"ticks\": \"\"}, \"bgcolor\": \"#E5ECF6\", \"radialaxis\": {\"gridcolor\": \"white\", \"linecolor\": \"white\", \"ticks\": \"\"}}, \"scene\": {\"xaxis\": {\"backgroundcolor\": \"#E5ECF6\", \"gridcolor\": \"white\", \"gridwidth\": 2, \"linecolor\": \"white\", \"showbackground\": true, \"ticks\": \"\", \"zerolinecolor\": \"white\"}, \"yaxis\": {\"backgroundcolor\": \"#E5ECF6\", \"gridcolor\": \"white\", \"gridwidth\": 2, \"linecolor\": \"white\", \"showbackground\": true, \"ticks\": \"\", \"zerolinecolor\": \"white\"}, \"zaxis\": {\"backgroundcolor\": \"#E5ECF6\", \"gridcolor\": \"white\", \"gridwidth\": 2, \"linecolor\": \"white\", \"showbackground\": true, \"ticks\": \"\", \"zerolinecolor\": \"white\"}}, \"shapedefaults\": {\"line\": {\"color\": \"#2a3f5f\"}}, \"ternary\": {\"aaxis\": {\"gridcolor\": \"white\", \"linecolor\": \"white\", \"ticks\": \"\"}, \"baxis\": {\"gridcolor\": \"white\", \"linecolor\": \"white\", \"ticks\": \"\"}, \"bgcolor\": \"#E5ECF6\", \"caxis\": {\"gridcolor\": \"white\", \"linecolor\": \"white\", \"ticks\": \"\"}}, \"title\": {\"x\": 0.05}, \"xaxis\": {\"automargin\": true, \"gridcolor\": \"white\", \"linecolor\": \"white\", \"ticks\": \"\", \"title\": {\"standoff\": 15}, \"zerolinecolor\": \"white\", \"zerolinewidth\": 2}, \"yaxis\": {\"automargin\": true, \"gridcolor\": \"white\", \"linecolor\": \"white\", \"ticks\": \"\", \"title\": {\"standoff\": 15}, \"zerolinecolor\": \"white\", \"zerolinewidth\": 2}}}, \"title\": {\"text\": \"Patients age distribution\"}, \"width\": 700, \"xaxis\": {\"anchor\": \"y\", \"domain\": [0.0, 1.0], \"title\": {\"text\": \"age\"}}, \"yaxis\": {\"anchor\": \"x\", \"domain\": [0.0, 1.0], \"title\": {\"text\": \"count\"}}},\n",
       "                        {\"responsive\": true}\n",
       "                    ).then(function(){\n",
       "                            \n",
       "var gd = document.getElementById('0ed8009b-2527-4ee5-a5b6-178b81e5feb9');\n",
       "var x = new MutationObserver(function (mutations, observer) {{\n",
       "        var display = window.getComputedStyle(gd).display;\n",
       "        if (!display || display === 'none') {{\n",
       "            console.log([gd, 'removed!']);\n",
       "            Plotly.purge(gd);\n",
       "            observer.disconnect();\n",
       "        }}\n",
       "}});\n",
       "\n",
       "// Listen for the removal of the full notebook cells\n",
       "var notebookContainer = gd.closest('#notebook-container');\n",
       "if (notebookContainer) {{\n",
       "    x.observe(notebookContainer, {childList: true});\n",
       "}}\n",
       "\n",
       "// Listen for the clearing of the current output cell\n",
       "var outputEl = gd.closest('.output');\n",
       "if (outputEl) {{\n",
       "    x.observe(outputEl, {childList: true});\n",
       "}}\n",
       "\n",
       "                        })\n",
       "                };\n",
       "                });\n",
       "            </script>\n",
       "        </div>"
      ]
     },
     "metadata": {},
     "output_type": "display_data"
    }
   ],
   "source": [
    "fig = px.histogram(df, \"age\", nbins=25, title='Patients age distribution', width=700)\n",
    "fig.show()"
   ]
  },
  {
   "cell_type": "code",
   "execution_count": 6,
   "metadata": {
    "_kg_hide-input": true,
    "execution": {
     "iopub.execute_input": "2020-08-29T01:04:52.963703Z",
     "iopub.status.busy": "2020-08-29T01:04:52.962738Z",
     "iopub.status.idle": "2020-08-29T01:04:53.026962Z",
     "shell.execute_reply": "2020-08-29T01:04:53.025797Z"
    },
    "papermill": {
     "duration": 0.097444,
     "end_time": "2020-08-29T01:04:53.027159",
     "exception": false,
     "start_time": "2020-08-29T01:04:52.929715",
     "status": "completed"
    },
    "tags": []
   },
   "outputs": [
    {
     "data": {
      "text/html": [
       "<div>\n",
       "        \n",
       "        \n",
       "            <div id=\"79463404-606e-4ade-9ce2-240389c9da3f\" class=\"plotly-graph-div\" style=\"height:500px; width:600px;\"></div>\n",
       "            <script type=\"text/javascript\">\n",
       "                require([\"plotly\"], function(Plotly) {\n",
       "                    window.PLOTLYENV=window.PLOTLYENV || {};\n",
       "                    \n",
       "                if (document.getElementById(\"79463404-606e-4ade-9ce2-240389c9da3f\")) {\n",
       "                    Plotly.newPlot(\n",
       "                        '79463404-606e-4ade-9ce2-240389c9da3f',\n",
       "                        [{\"domain\": {\"x\": [0.0, 1.0], \"y\": [0.0, 1.0]}, \"hovertemplate\": \"anaemia=%{label}<br>count=%{value}<extra></extra>\", \"labels\": [0, 1], \"legendgroup\": \"\", \"name\": \"\", \"showlegend\": true, \"type\": \"pie\", \"values\": [170, 129]}],\n",
       "                        {\"height\": 500, \"legend\": {\"tracegroupgap\": 0}, \"template\": {\"data\": {\"bar\": [{\"error_x\": {\"color\": \"#2a3f5f\"}, \"error_y\": {\"color\": \"#2a3f5f\"}, \"marker\": {\"line\": {\"color\": \"#E5ECF6\", \"width\": 0.5}}, \"type\": \"bar\"}], \"barpolar\": [{\"marker\": {\"line\": {\"color\": \"#E5ECF6\", \"width\": 0.5}}, \"type\": \"barpolar\"}], \"carpet\": [{\"aaxis\": {\"endlinecolor\": \"#2a3f5f\", \"gridcolor\": \"white\", \"linecolor\": \"white\", \"minorgridcolor\": \"white\", \"startlinecolor\": \"#2a3f5f\"}, \"baxis\": {\"endlinecolor\": \"#2a3f5f\", \"gridcolor\": \"white\", \"linecolor\": \"white\", \"minorgridcolor\": \"white\", \"startlinecolor\": \"#2a3f5f\"}, \"type\": \"carpet\"}], \"choropleth\": [{\"colorbar\": {\"outlinewidth\": 0, \"ticks\": \"\"}, \"type\": \"choropleth\"}], \"contour\": [{\"colorbar\": {\"outlinewidth\": 0, \"ticks\": \"\"}, \"colorscale\": [[0.0, \"#0d0887\"], [0.1111111111111111, \"#46039f\"], [0.2222222222222222, \"#7201a8\"], [0.3333333333333333, \"#9c179e\"], [0.4444444444444444, \"#bd3786\"], [0.5555555555555556, \"#d8576b\"], [0.6666666666666666, \"#ed7953\"], [0.7777777777777778, \"#fb9f3a\"], [0.8888888888888888, \"#fdca26\"], [1.0, \"#f0f921\"]], \"type\": \"contour\"}], \"contourcarpet\": [{\"colorbar\": {\"outlinewidth\": 0, \"ticks\": \"\"}, \"type\": \"contourcarpet\"}], \"heatmap\": [{\"colorbar\": {\"outlinewidth\": 0, \"ticks\": \"\"}, \"colorscale\": [[0.0, \"#0d0887\"], [0.1111111111111111, \"#46039f\"], [0.2222222222222222, \"#7201a8\"], [0.3333333333333333, \"#9c179e\"], [0.4444444444444444, \"#bd3786\"], [0.5555555555555556, \"#d8576b\"], [0.6666666666666666, \"#ed7953\"], [0.7777777777777778, \"#fb9f3a\"], [0.8888888888888888, \"#fdca26\"], [1.0, \"#f0f921\"]], \"type\": \"heatmap\"}], \"heatmapgl\": [{\"colorbar\": {\"outlinewidth\": 0, \"ticks\": \"\"}, \"colorscale\": [[0.0, \"#0d0887\"], [0.1111111111111111, \"#46039f\"], [0.2222222222222222, \"#7201a8\"], [0.3333333333333333, \"#9c179e\"], [0.4444444444444444, \"#bd3786\"], [0.5555555555555556, \"#d8576b\"], [0.6666666666666666, \"#ed7953\"], [0.7777777777777778, \"#fb9f3a\"], [0.8888888888888888, \"#fdca26\"], [1.0, \"#f0f921\"]], \"type\": \"heatmapgl\"}], \"histogram\": [{\"marker\": {\"colorbar\": {\"outlinewidth\": 0, \"ticks\": \"\"}}, \"type\": \"histogram\"}], \"histogram2d\": [{\"colorbar\": {\"outlinewidth\": 0, \"ticks\": \"\"}, \"colorscale\": [[0.0, \"#0d0887\"], [0.1111111111111111, \"#46039f\"], [0.2222222222222222, \"#7201a8\"], [0.3333333333333333, \"#9c179e\"], [0.4444444444444444, \"#bd3786\"], [0.5555555555555556, \"#d8576b\"], [0.6666666666666666, \"#ed7953\"], [0.7777777777777778, \"#fb9f3a\"], [0.8888888888888888, \"#fdca26\"], [1.0, \"#f0f921\"]], \"type\": \"histogram2d\"}], \"histogram2dcontour\": [{\"colorbar\": {\"outlinewidth\": 0, \"ticks\": \"\"}, \"colorscale\": [[0.0, \"#0d0887\"], [0.1111111111111111, \"#46039f\"], [0.2222222222222222, \"#7201a8\"], [0.3333333333333333, \"#9c179e\"], [0.4444444444444444, \"#bd3786\"], [0.5555555555555556, \"#d8576b\"], [0.6666666666666666, \"#ed7953\"], [0.7777777777777778, \"#fb9f3a\"], [0.8888888888888888, \"#fdca26\"], [1.0, \"#f0f921\"]], \"type\": \"histogram2dcontour\"}], \"mesh3d\": [{\"colorbar\": {\"outlinewidth\": 0, \"ticks\": \"\"}, \"type\": \"mesh3d\"}], \"parcoords\": [{\"line\": {\"colorbar\": {\"outlinewidth\": 0, \"ticks\": \"\"}}, \"type\": \"parcoords\"}], \"pie\": [{\"automargin\": true, \"type\": \"pie\"}], \"scatter\": [{\"marker\": {\"colorbar\": {\"outlinewidth\": 0, \"ticks\": \"\"}}, \"type\": \"scatter\"}], \"scatter3d\": [{\"line\": {\"colorbar\": {\"outlinewidth\": 0, \"ticks\": \"\"}}, \"marker\": {\"colorbar\": {\"outlinewidth\": 0, \"ticks\": \"\"}}, \"type\": \"scatter3d\"}], \"scattercarpet\": [{\"marker\": {\"colorbar\": {\"outlinewidth\": 0, \"ticks\": \"\"}}, \"type\": \"scattercarpet\"}], \"scattergeo\": [{\"marker\": {\"colorbar\": {\"outlinewidth\": 0, \"ticks\": \"\"}}, \"type\": \"scattergeo\"}], \"scattergl\": [{\"marker\": {\"colorbar\": {\"outlinewidth\": 0, \"ticks\": \"\"}}, \"type\": \"scattergl\"}], \"scattermapbox\": [{\"marker\": {\"colorbar\": {\"outlinewidth\": 0, \"ticks\": \"\"}}, \"type\": \"scattermapbox\"}], \"scatterpolar\": [{\"marker\": {\"colorbar\": {\"outlinewidth\": 0, \"ticks\": \"\"}}, \"type\": \"scatterpolar\"}], \"scatterpolargl\": [{\"marker\": {\"colorbar\": {\"outlinewidth\": 0, \"ticks\": \"\"}}, \"type\": \"scatterpolargl\"}], \"scatterternary\": [{\"marker\": {\"colorbar\": {\"outlinewidth\": 0, \"ticks\": \"\"}}, \"type\": \"scatterternary\"}], \"surface\": [{\"colorbar\": {\"outlinewidth\": 0, \"ticks\": \"\"}, \"colorscale\": [[0.0, \"#0d0887\"], [0.1111111111111111, \"#46039f\"], [0.2222222222222222, \"#7201a8\"], [0.3333333333333333, \"#9c179e\"], [0.4444444444444444, \"#bd3786\"], [0.5555555555555556, \"#d8576b\"], [0.6666666666666666, \"#ed7953\"], [0.7777777777777778, \"#fb9f3a\"], [0.8888888888888888, \"#fdca26\"], [1.0, \"#f0f921\"]], \"type\": \"surface\"}], \"table\": [{\"cells\": {\"fill\": {\"color\": \"#EBF0F8\"}, \"line\": {\"color\": \"white\"}}, \"header\": {\"fill\": {\"color\": \"#C8D4E3\"}, \"line\": {\"color\": \"white\"}}, \"type\": \"table\"}]}, \"layout\": {\"annotationdefaults\": {\"arrowcolor\": \"#2a3f5f\", \"arrowhead\": 0, \"arrowwidth\": 1}, \"coloraxis\": {\"colorbar\": {\"outlinewidth\": 0, \"ticks\": \"\"}}, \"colorscale\": {\"diverging\": [[0, \"#8e0152\"], [0.1, \"#c51b7d\"], [0.2, \"#de77ae\"], [0.3, \"#f1b6da\"], [0.4, \"#fde0ef\"], [0.5, \"#f7f7f7\"], [0.6, \"#e6f5d0\"], [0.7, \"#b8e186\"], [0.8, \"#7fbc41\"], [0.9, \"#4d9221\"], [1, \"#276419\"]], \"sequential\": [[0.0, \"#0d0887\"], [0.1111111111111111, \"#46039f\"], [0.2222222222222222, \"#7201a8\"], [0.3333333333333333, \"#9c179e\"], [0.4444444444444444, \"#bd3786\"], [0.5555555555555556, \"#d8576b\"], [0.6666666666666666, \"#ed7953\"], [0.7777777777777778, \"#fb9f3a\"], [0.8888888888888888, \"#fdca26\"], [1.0, \"#f0f921\"]], \"sequentialminus\": [[0.0, \"#0d0887\"], [0.1111111111111111, \"#46039f\"], [0.2222222222222222, \"#7201a8\"], [0.3333333333333333, \"#9c179e\"], [0.4444444444444444, \"#bd3786\"], [0.5555555555555556, \"#d8576b\"], [0.6666666666666666, \"#ed7953\"], [0.7777777777777778, \"#fb9f3a\"], [0.8888888888888888, \"#fdca26\"], [1.0, \"#f0f921\"]]}, \"colorway\": [\"#636efa\", \"#EF553B\", \"#00cc96\", \"#ab63fa\", \"#FFA15A\", \"#19d3f3\", \"#FF6692\", \"#B6E880\", \"#FF97FF\", \"#FECB52\"], \"font\": {\"color\": \"#2a3f5f\"}, \"geo\": {\"bgcolor\": \"white\", \"lakecolor\": \"white\", \"landcolor\": \"#E5ECF6\", \"showlakes\": true, \"showland\": true, \"subunitcolor\": \"white\"}, \"hoverlabel\": {\"align\": \"left\"}, \"hovermode\": \"closest\", \"mapbox\": {\"style\": \"light\"}, \"paper_bgcolor\": \"white\", \"plot_bgcolor\": \"#E5ECF6\", \"polar\": {\"angularaxis\": {\"gridcolor\": \"white\", \"linecolor\": \"white\", \"ticks\": \"\"}, \"bgcolor\": \"#E5ECF6\", \"radialaxis\": {\"gridcolor\": \"white\", \"linecolor\": \"white\", \"ticks\": \"\"}}, \"scene\": {\"xaxis\": {\"backgroundcolor\": \"#E5ECF6\", \"gridcolor\": \"white\", \"gridwidth\": 2, \"linecolor\": \"white\", \"showbackground\": true, \"ticks\": \"\", \"zerolinecolor\": \"white\"}, \"yaxis\": {\"backgroundcolor\": \"#E5ECF6\", \"gridcolor\": \"white\", \"gridwidth\": 2, \"linecolor\": \"white\", \"showbackground\": true, \"ticks\": \"\", \"zerolinecolor\": \"white\"}, \"zaxis\": {\"backgroundcolor\": \"#E5ECF6\", \"gridcolor\": \"white\", \"gridwidth\": 2, \"linecolor\": \"white\", \"showbackground\": true, \"ticks\": \"\", \"zerolinecolor\": \"white\"}}, \"shapedefaults\": {\"line\": {\"color\": \"#2a3f5f\"}}, \"ternary\": {\"aaxis\": {\"gridcolor\": \"white\", \"linecolor\": \"white\", \"ticks\": \"\"}, \"baxis\": {\"gridcolor\": \"white\", \"linecolor\": \"white\", \"ticks\": \"\"}, \"bgcolor\": \"#E5ECF6\", \"caxis\": {\"gridcolor\": \"white\", \"linecolor\": \"white\", \"ticks\": \"\"}}, \"title\": {\"x\": 0.05}, \"xaxis\": {\"automargin\": true, \"gridcolor\": \"white\", \"linecolor\": \"white\", \"ticks\": \"\", \"title\": {\"standoff\": 15}, \"zerolinecolor\": \"white\", \"zerolinewidth\": 2}, \"yaxis\": {\"automargin\": true, \"gridcolor\": \"white\", \"linecolor\": \"white\", \"ticks\": \"\", \"title\": {\"standoff\": 15}, \"zerolinecolor\": \"white\", \"zerolinewidth\": 2}}}, \"title\": {\"text\": \"Anaemia bar chart\"}, \"width\": 600},\n",
       "                        {\"responsive\": true}\n",
       "                    ).then(function(){\n",
       "                            \n",
       "var gd = document.getElementById('79463404-606e-4ade-9ce2-240389c9da3f');\n",
       "var x = new MutationObserver(function (mutations, observer) {{\n",
       "        var display = window.getComputedStyle(gd).display;\n",
       "        if (!display || display === 'none') {{\n",
       "            console.log([gd, 'removed!']);\n",
       "            Plotly.purge(gd);\n",
       "            observer.disconnect();\n",
       "        }}\n",
       "}});\n",
       "\n",
       "// Listen for the removal of the full notebook cells\n",
       "var notebookContainer = gd.closest('#notebook-container');\n",
       "if (notebookContainer) {{\n",
       "    x.observe(notebookContainer, {childList: true});\n",
       "}}\n",
       "\n",
       "// Listen for the clearing of the current output cell\n",
       "var outputEl = gd.closest('.output');\n",
       "if (outputEl) {{\n",
       "    x.observe(outputEl, {childList: true});\n",
       "}}\n",
       "\n",
       "                        })\n",
       "                };\n",
       "                });\n",
       "            </script>\n",
       "        </div>"
      ]
     },
     "metadata": {},
     "output_type": "display_data"
    }
   ],
   "source": [
    "ds = df['anaemia'].value_counts().reset_index()\n",
    "ds.columns = ['anaemia', 'count']\n",
    "fig = px.pie(ds, values='count', names=\"anaemia\", title='Anaemia bar chart', width=600, height=500)\n",
    "fig.show()"
   ]
  },
  {
   "cell_type": "code",
   "execution_count": 7,
   "metadata": {
    "_kg_hide-input": true,
    "execution": {
     "iopub.execute_input": "2020-08-29T01:04:53.114263Z",
     "iopub.status.busy": "2020-08-29T01:04:53.109164Z",
     "iopub.status.idle": "2020-08-29T01:04:53.136817Z",
     "shell.execute_reply": "2020-08-29T01:04:53.137383Z"
    },
    "papermill": {
     "duration": 0.08829,
     "end_time": "2020-08-29T01:04:53.137555",
     "exception": false,
     "start_time": "2020-08-29T01:04:53.049265",
     "status": "completed"
    },
    "tags": []
   },
   "outputs": [
    {
     "data": {
      "text/html": [
       "<div>\n",
       "        \n",
       "        \n",
       "            <div id=\"82392508-46fb-40c3-8836-75011b14429a\" class=\"plotly-graph-div\" style=\"height:525px; width:700px;\"></div>\n",
       "            <script type=\"text/javascript\">\n",
       "                require([\"plotly\"], function(Plotly) {\n",
       "                    window.PLOTLYENV=window.PLOTLYENV || {};\n",
       "                    \n",
       "                if (document.getElementById(\"82392508-46fb-40c3-8836-75011b14429a\")) {\n",
       "                    Plotly.newPlot(\n",
       "                        '82392508-46fb-40c3-8836-75011b14429a',\n",
       "                        [{\"alignmentgroup\": \"True\", \"bingroup\": \"x\", \"hovertemplate\": \"creatinine_phosphokinase=%{x}<br>count=%{y}<extra></extra>\", \"legendgroup\": \"\", \"marker\": {\"color\": \"#636efa\"}, \"name\": \"\", \"nbinsx\": 15, \"offsetgroup\": \"\", \"orientation\": \"v\", \"showlegend\": false, \"type\": \"histogram\", \"x\": [582, 7861, 146, 111, 160, 47, 246, 315, 157, 123, 81, 231, 981, 168, 80, 379, 149, 582, 125, 582, 52, 128, 220, 63, 582, 148, 112, 122, 60, 70, 582, 23, 249, 159, 94, 582, 60, 855, 2656, 235, 582, 124, 571, 127, 588, 582, 1380, 582, 553, 129, 577, 91, 3964, 69, 260, 371, 75, 607, 789, 364, 7702, 318, 109, 582, 582, 68, 250, 110, 161, 113, 148, 582, 5882, 224, 582, 47, 92, 102, 203, 336, 69, 582, 76, 55, 280, 78, 47, 68, 84, 115, 66, 897, 582, 154, 144, 133, 514, 59, 156, 61, 305, 582, 898, 5209, 53, 328, 748, 1876, 936, 292, 129, 60, 369, 143, 754, 400, 96, 102, 113, 582, 737, 68, 96, 582, 582, 358, 168, 200, 248, 270, 1808, 1082, 719, 193, 4540, 582, 59, 646, 281, 1548, 805, 291, 482, 84, 943, 185, 132, 1610, 582, 2261, 233, 30, 115, 1846, 335, 231, 58, 250, 910, 129, 72, 130, 582, 2334, 2442, 776, 196, 66, 582, 835, 582, 3966, 171, 115, 198, 95, 1419, 69, 122, 835, 478, 176, 395, 99, 145, 104, 582, 1896, 151, 244, 582, 62, 121, 231, 582, 418, 582, 167, 582, 1211, 1767, 308, 97, 59, 64, 167, 101, 212, 2281, 972, 212, 582, 224, 131, 135, 582, 1202, 427, 1021, 582, 582, 118, 86, 582, 582, 675, 57, 2794, 56, 211, 166, 93, 129, 707, 582, 109, 119, 232, 720, 180, 81, 582, 90, 1185, 582, 80, 2017, 143, 624, 207, 2522, 572, 245, 88, 446, 191, 326, 132, 66, 56, 66, 655, 258, 157, 582, 298, 1199, 135, 582, 582, 582, 582, 213, 64, 257, 582, 618, 582, 1051, 84, 2695, 582, 64, 1688, 54, 170, 253, 582, 892, 337, 615, 320, 190, 103, 61, 1820, 2060, 2413, 196], \"xaxis\": \"x\", \"yaxis\": \"y\"}],\n",
       "                        {\"barmode\": \"relative\", \"legend\": {\"tracegroupgap\": 0}, \"template\": {\"data\": {\"bar\": [{\"error_x\": {\"color\": \"#2a3f5f\"}, \"error_y\": {\"color\": \"#2a3f5f\"}, \"marker\": {\"line\": {\"color\": \"#E5ECF6\", \"width\": 0.5}}, \"type\": \"bar\"}], \"barpolar\": [{\"marker\": {\"line\": {\"color\": \"#E5ECF6\", \"width\": 0.5}}, \"type\": \"barpolar\"}], \"carpet\": [{\"aaxis\": {\"endlinecolor\": \"#2a3f5f\", \"gridcolor\": \"white\", \"linecolor\": \"white\", \"minorgridcolor\": \"white\", \"startlinecolor\": \"#2a3f5f\"}, \"baxis\": {\"endlinecolor\": \"#2a3f5f\", \"gridcolor\": \"white\", \"linecolor\": \"white\", \"minorgridcolor\": \"white\", \"startlinecolor\": \"#2a3f5f\"}, \"type\": \"carpet\"}], \"choropleth\": [{\"colorbar\": {\"outlinewidth\": 0, \"ticks\": \"\"}, \"type\": \"choropleth\"}], \"contour\": [{\"colorbar\": {\"outlinewidth\": 0, \"ticks\": \"\"}, \"colorscale\": [[0.0, \"#0d0887\"], [0.1111111111111111, \"#46039f\"], [0.2222222222222222, \"#7201a8\"], [0.3333333333333333, \"#9c179e\"], [0.4444444444444444, \"#bd3786\"], [0.5555555555555556, \"#d8576b\"], [0.6666666666666666, \"#ed7953\"], [0.7777777777777778, \"#fb9f3a\"], [0.8888888888888888, \"#fdca26\"], [1.0, \"#f0f921\"]], \"type\": \"contour\"}], \"contourcarpet\": [{\"colorbar\": {\"outlinewidth\": 0, \"ticks\": \"\"}, \"type\": \"contourcarpet\"}], \"heatmap\": [{\"colorbar\": {\"outlinewidth\": 0, \"ticks\": \"\"}, \"colorscale\": [[0.0, \"#0d0887\"], [0.1111111111111111, \"#46039f\"], [0.2222222222222222, \"#7201a8\"], [0.3333333333333333, \"#9c179e\"], [0.4444444444444444, \"#bd3786\"], [0.5555555555555556, \"#d8576b\"], [0.6666666666666666, \"#ed7953\"], [0.7777777777777778, \"#fb9f3a\"], [0.8888888888888888, \"#fdca26\"], [1.0, \"#f0f921\"]], \"type\": \"heatmap\"}], \"heatmapgl\": [{\"colorbar\": {\"outlinewidth\": 0, \"ticks\": \"\"}, \"colorscale\": [[0.0, \"#0d0887\"], [0.1111111111111111, \"#46039f\"], [0.2222222222222222, \"#7201a8\"], [0.3333333333333333, \"#9c179e\"], [0.4444444444444444, \"#bd3786\"], [0.5555555555555556, \"#d8576b\"], [0.6666666666666666, \"#ed7953\"], [0.7777777777777778, \"#fb9f3a\"], [0.8888888888888888, \"#fdca26\"], [1.0, \"#f0f921\"]], \"type\": \"heatmapgl\"}], \"histogram\": [{\"marker\": {\"colorbar\": {\"outlinewidth\": 0, \"ticks\": \"\"}}, \"type\": \"histogram\"}], \"histogram2d\": [{\"colorbar\": {\"outlinewidth\": 0, \"ticks\": \"\"}, \"colorscale\": [[0.0, \"#0d0887\"], [0.1111111111111111, \"#46039f\"], [0.2222222222222222, \"#7201a8\"], [0.3333333333333333, \"#9c179e\"], [0.4444444444444444, \"#bd3786\"], [0.5555555555555556, \"#d8576b\"], [0.6666666666666666, \"#ed7953\"], [0.7777777777777778, \"#fb9f3a\"], [0.8888888888888888, \"#fdca26\"], [1.0, \"#f0f921\"]], \"type\": \"histogram2d\"}], \"histogram2dcontour\": [{\"colorbar\": {\"outlinewidth\": 0, \"ticks\": \"\"}, \"colorscale\": [[0.0, \"#0d0887\"], [0.1111111111111111, \"#46039f\"], [0.2222222222222222, \"#7201a8\"], [0.3333333333333333, \"#9c179e\"], [0.4444444444444444, \"#bd3786\"], [0.5555555555555556, \"#d8576b\"], [0.6666666666666666, \"#ed7953\"], [0.7777777777777778, \"#fb9f3a\"], [0.8888888888888888, \"#fdca26\"], [1.0, \"#f0f921\"]], \"type\": \"histogram2dcontour\"}], \"mesh3d\": [{\"colorbar\": {\"outlinewidth\": 0, \"ticks\": \"\"}, \"type\": \"mesh3d\"}], \"parcoords\": [{\"line\": {\"colorbar\": {\"outlinewidth\": 0, \"ticks\": \"\"}}, \"type\": \"parcoords\"}], \"pie\": [{\"automargin\": true, \"type\": \"pie\"}], \"scatter\": [{\"marker\": {\"colorbar\": {\"outlinewidth\": 0, \"ticks\": \"\"}}, \"type\": \"scatter\"}], \"scatter3d\": [{\"line\": {\"colorbar\": {\"outlinewidth\": 0, \"ticks\": \"\"}}, \"marker\": {\"colorbar\": {\"outlinewidth\": 0, \"ticks\": \"\"}}, \"type\": \"scatter3d\"}], \"scattercarpet\": [{\"marker\": {\"colorbar\": {\"outlinewidth\": 0, \"ticks\": \"\"}}, \"type\": \"scattercarpet\"}], \"scattergeo\": [{\"marker\": {\"colorbar\": {\"outlinewidth\": 0, \"ticks\": \"\"}}, \"type\": \"scattergeo\"}], \"scattergl\": [{\"marker\": {\"colorbar\": {\"outlinewidth\": 0, \"ticks\": \"\"}}, \"type\": \"scattergl\"}], \"scattermapbox\": [{\"marker\": {\"colorbar\": {\"outlinewidth\": 0, \"ticks\": \"\"}}, \"type\": \"scattermapbox\"}], \"scatterpolar\": [{\"marker\": {\"colorbar\": {\"outlinewidth\": 0, \"ticks\": \"\"}}, \"type\": \"scatterpolar\"}], \"scatterpolargl\": [{\"marker\": {\"colorbar\": {\"outlinewidth\": 0, \"ticks\": \"\"}}, \"type\": \"scatterpolargl\"}], \"scatterternary\": [{\"marker\": {\"colorbar\": {\"outlinewidth\": 0, \"ticks\": \"\"}}, \"type\": \"scatterternary\"}], \"surface\": [{\"colorbar\": {\"outlinewidth\": 0, \"ticks\": \"\"}, \"colorscale\": [[0.0, \"#0d0887\"], [0.1111111111111111, \"#46039f\"], [0.2222222222222222, \"#7201a8\"], [0.3333333333333333, \"#9c179e\"], [0.4444444444444444, \"#bd3786\"], [0.5555555555555556, \"#d8576b\"], [0.6666666666666666, \"#ed7953\"], [0.7777777777777778, \"#fb9f3a\"], [0.8888888888888888, \"#fdca26\"], [1.0, \"#f0f921\"]], \"type\": \"surface\"}], \"table\": [{\"cells\": {\"fill\": {\"color\": \"#EBF0F8\"}, \"line\": {\"color\": \"white\"}}, \"header\": {\"fill\": {\"color\": \"#C8D4E3\"}, \"line\": {\"color\": \"white\"}}, \"type\": \"table\"}]}, \"layout\": {\"annotationdefaults\": {\"arrowcolor\": \"#2a3f5f\", \"arrowhead\": 0, \"arrowwidth\": 1}, \"coloraxis\": {\"colorbar\": {\"outlinewidth\": 0, \"ticks\": \"\"}}, \"colorscale\": {\"diverging\": [[0, \"#8e0152\"], [0.1, \"#c51b7d\"], [0.2, \"#de77ae\"], [0.3, \"#f1b6da\"], [0.4, \"#fde0ef\"], [0.5, \"#f7f7f7\"], [0.6, \"#e6f5d0\"], [0.7, \"#b8e186\"], [0.8, \"#7fbc41\"], [0.9, \"#4d9221\"], [1, \"#276419\"]], \"sequential\": [[0.0, \"#0d0887\"], [0.1111111111111111, \"#46039f\"], [0.2222222222222222, \"#7201a8\"], [0.3333333333333333, \"#9c179e\"], [0.4444444444444444, \"#bd3786\"], [0.5555555555555556, \"#d8576b\"], [0.6666666666666666, \"#ed7953\"], [0.7777777777777778, \"#fb9f3a\"], [0.8888888888888888, \"#fdca26\"], [1.0, \"#f0f921\"]], \"sequentialminus\": [[0.0, \"#0d0887\"], [0.1111111111111111, \"#46039f\"], [0.2222222222222222, \"#7201a8\"], [0.3333333333333333, \"#9c179e\"], [0.4444444444444444, \"#bd3786\"], [0.5555555555555556, \"#d8576b\"], [0.6666666666666666, \"#ed7953\"], [0.7777777777777778, \"#fb9f3a\"], [0.8888888888888888, \"#fdca26\"], [1.0, \"#f0f921\"]]}, \"colorway\": [\"#636efa\", \"#EF553B\", \"#00cc96\", \"#ab63fa\", \"#FFA15A\", \"#19d3f3\", \"#FF6692\", \"#B6E880\", \"#FF97FF\", \"#FECB52\"], \"font\": {\"color\": \"#2a3f5f\"}, \"geo\": {\"bgcolor\": \"white\", \"lakecolor\": \"white\", \"landcolor\": \"#E5ECF6\", \"showlakes\": true, \"showland\": true, \"subunitcolor\": \"white\"}, \"hoverlabel\": {\"align\": \"left\"}, \"hovermode\": \"closest\", \"mapbox\": {\"style\": \"light\"}, \"paper_bgcolor\": \"white\", \"plot_bgcolor\": \"#E5ECF6\", \"polar\": {\"angularaxis\": {\"gridcolor\": \"white\", \"linecolor\": \"white\", \"ticks\": \"\"}, \"bgcolor\": \"#E5ECF6\", \"radialaxis\": {\"gridcolor\": \"white\", \"linecolor\": \"white\", \"ticks\": \"\"}}, \"scene\": {\"xaxis\": {\"backgroundcolor\": \"#E5ECF6\", \"gridcolor\": \"white\", \"gridwidth\": 2, \"linecolor\": \"white\", \"showbackground\": true, \"ticks\": \"\", \"zerolinecolor\": \"white\"}, \"yaxis\": {\"backgroundcolor\": \"#E5ECF6\", \"gridcolor\": \"white\", \"gridwidth\": 2, \"linecolor\": \"white\", \"showbackground\": true, \"ticks\": \"\", \"zerolinecolor\": \"white\"}, \"zaxis\": {\"backgroundcolor\": \"#E5ECF6\", \"gridcolor\": \"white\", \"gridwidth\": 2, \"linecolor\": \"white\", \"showbackground\": true, \"ticks\": \"\", \"zerolinecolor\": \"white\"}}, \"shapedefaults\": {\"line\": {\"color\": \"#2a3f5f\"}}, \"ternary\": {\"aaxis\": {\"gridcolor\": \"white\", \"linecolor\": \"white\", \"ticks\": \"\"}, \"baxis\": {\"gridcolor\": \"white\", \"linecolor\": \"white\", \"ticks\": \"\"}, \"bgcolor\": \"#E5ECF6\", \"caxis\": {\"gridcolor\": \"white\", \"linecolor\": \"white\", \"ticks\": \"\"}}, \"title\": {\"x\": 0.05}, \"xaxis\": {\"automargin\": true, \"gridcolor\": \"white\", \"linecolor\": \"white\", \"ticks\": \"\", \"title\": {\"standoff\": 15}, \"zerolinecolor\": \"white\", \"zerolinewidth\": 2}, \"yaxis\": {\"automargin\": true, \"gridcolor\": \"white\", \"linecolor\": \"white\", \"ticks\": \"\", \"title\": {\"standoff\": 15}, \"zerolinecolor\": \"white\", \"zerolinewidth\": 2}}}, \"title\": {\"text\": \"Creatinine phosphokinase distribution\"}, \"width\": 700, \"xaxis\": {\"anchor\": \"y\", \"domain\": [0.0, 1.0], \"title\": {\"text\": \"creatinine_phosphokinase\"}}, \"yaxis\": {\"anchor\": \"x\", \"domain\": [0.0, 1.0], \"title\": {\"text\": \"count\"}}},\n",
       "                        {\"responsive\": true}\n",
       "                    ).then(function(){\n",
       "                            \n",
       "var gd = document.getElementById('82392508-46fb-40c3-8836-75011b14429a');\n",
       "var x = new MutationObserver(function (mutations, observer) {{\n",
       "        var display = window.getComputedStyle(gd).display;\n",
       "        if (!display || display === 'none') {{\n",
       "            console.log([gd, 'removed!']);\n",
       "            Plotly.purge(gd);\n",
       "            observer.disconnect();\n",
       "        }}\n",
       "}});\n",
       "\n",
       "// Listen for the removal of the full notebook cells\n",
       "var notebookContainer = gd.closest('#notebook-container');\n",
       "if (notebookContainer) {{\n",
       "    x.observe(notebookContainer, {childList: true});\n",
       "}}\n",
       "\n",
       "// Listen for the clearing of the current output cell\n",
       "var outputEl = gd.closest('.output');\n",
       "if (outputEl) {{\n",
       "    x.observe(outputEl, {childList: true});\n",
       "}}\n",
       "\n",
       "                        })\n",
       "                };\n",
       "                });\n",
       "            </script>\n",
       "        </div>"
      ]
     },
     "metadata": {},
     "output_type": "display_data"
    }
   ],
   "source": [
    "fig = px.histogram(df, \"creatinine_phosphokinase\", nbins=15, title='Creatinine phosphokinase distribution', width=700)\n",
    "fig.show()"
   ]
  },
  {
   "cell_type": "code",
   "execution_count": 8,
   "metadata": {
    "_kg_hide-input": true,
    "execution": {
     "iopub.execute_input": "2020-08-29T01:04:53.218608Z",
     "iopub.status.busy": "2020-08-29T01:04:53.186332Z",
     "iopub.status.idle": "2020-08-29T01:04:53.239564Z",
     "shell.execute_reply": "2020-08-29T01:04:53.238823Z"
    },
    "papermill": {
     "duration": 0.083849,
     "end_time": "2020-08-29T01:04:53.239701",
     "exception": false,
     "start_time": "2020-08-29T01:04:53.155852",
     "status": "completed"
    },
    "tags": []
   },
   "outputs": [
    {
     "data": {
      "text/html": [
       "<div>\n",
       "        \n",
       "        \n",
       "            <div id=\"3658a7c9-626a-4061-84b2-7f24fd65547c\" class=\"plotly-graph-div\" style=\"height:500px; width:600px;\"></div>\n",
       "            <script type=\"text/javascript\">\n",
       "                require([\"plotly\"], function(Plotly) {\n",
       "                    window.PLOTLYENV=window.PLOTLYENV || {};\n",
       "                    \n",
       "                if (document.getElementById(\"3658a7c9-626a-4061-84b2-7f24fd65547c\")) {\n",
       "                    Plotly.newPlot(\n",
       "                        '3658a7c9-626a-4061-84b2-7f24fd65547c',\n",
       "                        [{\"domain\": {\"x\": [0.0, 1.0], \"y\": [0.0, 1.0]}, \"hovertemplate\": \"diabetes=%{label}<br>count=%{value}<extra></extra>\", \"labels\": [0, 1], \"legendgroup\": \"\", \"name\": \"\", \"showlegend\": true, \"type\": \"pie\", \"values\": [174, 125]}],\n",
       "                        {\"height\": 500, \"legend\": {\"tracegroupgap\": 0}, \"template\": {\"data\": {\"bar\": [{\"error_x\": {\"color\": \"#2a3f5f\"}, \"error_y\": {\"color\": \"#2a3f5f\"}, \"marker\": {\"line\": {\"color\": \"#E5ECF6\", \"width\": 0.5}}, \"type\": \"bar\"}], \"barpolar\": [{\"marker\": {\"line\": {\"color\": \"#E5ECF6\", \"width\": 0.5}}, \"type\": \"barpolar\"}], \"carpet\": [{\"aaxis\": {\"endlinecolor\": \"#2a3f5f\", \"gridcolor\": \"white\", \"linecolor\": \"white\", \"minorgridcolor\": \"white\", \"startlinecolor\": \"#2a3f5f\"}, \"baxis\": {\"endlinecolor\": \"#2a3f5f\", \"gridcolor\": \"white\", \"linecolor\": \"white\", \"minorgridcolor\": \"white\", \"startlinecolor\": \"#2a3f5f\"}, \"type\": \"carpet\"}], \"choropleth\": [{\"colorbar\": {\"outlinewidth\": 0, \"ticks\": \"\"}, \"type\": \"choropleth\"}], \"contour\": [{\"colorbar\": {\"outlinewidth\": 0, \"ticks\": \"\"}, \"colorscale\": [[0.0, \"#0d0887\"], [0.1111111111111111, \"#46039f\"], [0.2222222222222222, \"#7201a8\"], [0.3333333333333333, \"#9c179e\"], [0.4444444444444444, \"#bd3786\"], [0.5555555555555556, \"#d8576b\"], [0.6666666666666666, \"#ed7953\"], [0.7777777777777778, \"#fb9f3a\"], [0.8888888888888888, \"#fdca26\"], [1.0, \"#f0f921\"]], \"type\": \"contour\"}], \"contourcarpet\": [{\"colorbar\": {\"outlinewidth\": 0, \"ticks\": \"\"}, \"type\": \"contourcarpet\"}], \"heatmap\": [{\"colorbar\": {\"outlinewidth\": 0, \"ticks\": \"\"}, \"colorscale\": [[0.0, \"#0d0887\"], [0.1111111111111111, \"#46039f\"], [0.2222222222222222, \"#7201a8\"], [0.3333333333333333, \"#9c179e\"], [0.4444444444444444, \"#bd3786\"], [0.5555555555555556, \"#d8576b\"], [0.6666666666666666, \"#ed7953\"], [0.7777777777777778, \"#fb9f3a\"], [0.8888888888888888, \"#fdca26\"], [1.0, \"#f0f921\"]], \"type\": \"heatmap\"}], \"heatmapgl\": [{\"colorbar\": {\"outlinewidth\": 0, \"ticks\": \"\"}, \"colorscale\": [[0.0, \"#0d0887\"], [0.1111111111111111, \"#46039f\"], [0.2222222222222222, \"#7201a8\"], [0.3333333333333333, \"#9c179e\"], [0.4444444444444444, \"#bd3786\"], [0.5555555555555556, \"#d8576b\"], [0.6666666666666666, \"#ed7953\"], [0.7777777777777778, \"#fb9f3a\"], [0.8888888888888888, \"#fdca26\"], [1.0, \"#f0f921\"]], \"type\": \"heatmapgl\"}], \"histogram\": [{\"marker\": {\"colorbar\": {\"outlinewidth\": 0, \"ticks\": \"\"}}, \"type\": \"histogram\"}], \"histogram2d\": [{\"colorbar\": {\"outlinewidth\": 0, \"ticks\": \"\"}, \"colorscale\": [[0.0, \"#0d0887\"], [0.1111111111111111, \"#46039f\"], [0.2222222222222222, \"#7201a8\"], [0.3333333333333333, \"#9c179e\"], [0.4444444444444444, \"#bd3786\"], [0.5555555555555556, \"#d8576b\"], [0.6666666666666666, \"#ed7953\"], [0.7777777777777778, \"#fb9f3a\"], [0.8888888888888888, \"#fdca26\"], [1.0, \"#f0f921\"]], \"type\": \"histogram2d\"}], \"histogram2dcontour\": [{\"colorbar\": {\"outlinewidth\": 0, \"ticks\": \"\"}, \"colorscale\": [[0.0, \"#0d0887\"], [0.1111111111111111, \"#46039f\"], [0.2222222222222222, \"#7201a8\"], [0.3333333333333333, \"#9c179e\"], [0.4444444444444444, \"#bd3786\"], [0.5555555555555556, \"#d8576b\"], [0.6666666666666666, \"#ed7953\"], [0.7777777777777778, \"#fb9f3a\"], [0.8888888888888888, \"#fdca26\"], [1.0, \"#f0f921\"]], \"type\": \"histogram2dcontour\"}], \"mesh3d\": [{\"colorbar\": {\"outlinewidth\": 0, \"ticks\": \"\"}, \"type\": \"mesh3d\"}], \"parcoords\": [{\"line\": {\"colorbar\": {\"outlinewidth\": 0, \"ticks\": \"\"}}, \"type\": \"parcoords\"}], \"pie\": [{\"automargin\": true, \"type\": \"pie\"}], \"scatter\": [{\"marker\": {\"colorbar\": {\"outlinewidth\": 0, \"ticks\": \"\"}}, \"type\": \"scatter\"}], \"scatter3d\": [{\"line\": {\"colorbar\": {\"outlinewidth\": 0, \"ticks\": \"\"}}, \"marker\": {\"colorbar\": {\"outlinewidth\": 0, \"ticks\": \"\"}}, \"type\": \"scatter3d\"}], \"scattercarpet\": [{\"marker\": {\"colorbar\": {\"outlinewidth\": 0, \"ticks\": \"\"}}, \"type\": \"scattercarpet\"}], \"scattergeo\": [{\"marker\": {\"colorbar\": {\"outlinewidth\": 0, \"ticks\": \"\"}}, \"type\": \"scattergeo\"}], \"scattergl\": [{\"marker\": {\"colorbar\": {\"outlinewidth\": 0, \"ticks\": \"\"}}, \"type\": \"scattergl\"}], \"scattermapbox\": [{\"marker\": {\"colorbar\": {\"outlinewidth\": 0, \"ticks\": \"\"}}, \"type\": \"scattermapbox\"}], \"scatterpolar\": [{\"marker\": {\"colorbar\": {\"outlinewidth\": 0, \"ticks\": \"\"}}, \"type\": \"scatterpolar\"}], \"scatterpolargl\": [{\"marker\": {\"colorbar\": {\"outlinewidth\": 0, \"ticks\": \"\"}}, \"type\": \"scatterpolargl\"}], \"scatterternary\": [{\"marker\": {\"colorbar\": {\"outlinewidth\": 0, \"ticks\": \"\"}}, \"type\": \"scatterternary\"}], \"surface\": [{\"colorbar\": {\"outlinewidth\": 0, \"ticks\": \"\"}, \"colorscale\": [[0.0, \"#0d0887\"], [0.1111111111111111, \"#46039f\"], [0.2222222222222222, \"#7201a8\"], [0.3333333333333333, \"#9c179e\"], [0.4444444444444444, \"#bd3786\"], [0.5555555555555556, \"#d8576b\"], [0.6666666666666666, \"#ed7953\"], [0.7777777777777778, \"#fb9f3a\"], [0.8888888888888888, \"#fdca26\"], [1.0, \"#f0f921\"]], \"type\": \"surface\"}], \"table\": [{\"cells\": {\"fill\": {\"color\": \"#EBF0F8\"}, \"line\": {\"color\": \"white\"}}, \"header\": {\"fill\": {\"color\": \"#C8D4E3\"}, \"line\": {\"color\": \"white\"}}, \"type\": \"table\"}]}, \"layout\": {\"annotationdefaults\": {\"arrowcolor\": \"#2a3f5f\", \"arrowhead\": 0, \"arrowwidth\": 1}, \"coloraxis\": {\"colorbar\": {\"outlinewidth\": 0, \"ticks\": \"\"}}, \"colorscale\": {\"diverging\": [[0, \"#8e0152\"], [0.1, \"#c51b7d\"], [0.2, \"#de77ae\"], [0.3, \"#f1b6da\"], [0.4, \"#fde0ef\"], [0.5, \"#f7f7f7\"], [0.6, \"#e6f5d0\"], [0.7, \"#b8e186\"], [0.8, \"#7fbc41\"], [0.9, \"#4d9221\"], [1, \"#276419\"]], \"sequential\": [[0.0, \"#0d0887\"], [0.1111111111111111, \"#46039f\"], [0.2222222222222222, \"#7201a8\"], [0.3333333333333333, \"#9c179e\"], [0.4444444444444444, \"#bd3786\"], [0.5555555555555556, \"#d8576b\"], [0.6666666666666666, \"#ed7953\"], [0.7777777777777778, \"#fb9f3a\"], [0.8888888888888888, \"#fdca26\"], [1.0, \"#f0f921\"]], \"sequentialminus\": [[0.0, \"#0d0887\"], [0.1111111111111111, \"#46039f\"], [0.2222222222222222, \"#7201a8\"], [0.3333333333333333, \"#9c179e\"], [0.4444444444444444, \"#bd3786\"], [0.5555555555555556, \"#d8576b\"], [0.6666666666666666, \"#ed7953\"], [0.7777777777777778, \"#fb9f3a\"], [0.8888888888888888, \"#fdca26\"], [1.0, \"#f0f921\"]]}, \"colorway\": [\"#636efa\", \"#EF553B\", \"#00cc96\", \"#ab63fa\", \"#FFA15A\", \"#19d3f3\", \"#FF6692\", \"#B6E880\", \"#FF97FF\", \"#FECB52\"], \"font\": {\"color\": \"#2a3f5f\"}, \"geo\": {\"bgcolor\": \"white\", \"lakecolor\": \"white\", \"landcolor\": \"#E5ECF6\", \"showlakes\": true, \"showland\": true, \"subunitcolor\": \"white\"}, \"hoverlabel\": {\"align\": \"left\"}, \"hovermode\": \"closest\", \"mapbox\": {\"style\": \"light\"}, \"paper_bgcolor\": \"white\", \"plot_bgcolor\": \"#E5ECF6\", \"polar\": {\"angularaxis\": {\"gridcolor\": \"white\", \"linecolor\": \"white\", \"ticks\": \"\"}, \"bgcolor\": \"#E5ECF6\", \"radialaxis\": {\"gridcolor\": \"white\", \"linecolor\": \"white\", \"ticks\": \"\"}}, \"scene\": {\"xaxis\": {\"backgroundcolor\": \"#E5ECF6\", \"gridcolor\": \"white\", \"gridwidth\": 2, \"linecolor\": \"white\", \"showbackground\": true, \"ticks\": \"\", \"zerolinecolor\": \"white\"}, \"yaxis\": {\"backgroundcolor\": \"#E5ECF6\", \"gridcolor\": \"white\", \"gridwidth\": 2, \"linecolor\": \"white\", \"showbackground\": true, \"ticks\": \"\", \"zerolinecolor\": \"white\"}, \"zaxis\": {\"backgroundcolor\": \"#E5ECF6\", \"gridcolor\": \"white\", \"gridwidth\": 2, \"linecolor\": \"white\", \"showbackground\": true, \"ticks\": \"\", \"zerolinecolor\": \"white\"}}, \"shapedefaults\": {\"line\": {\"color\": \"#2a3f5f\"}}, \"ternary\": {\"aaxis\": {\"gridcolor\": \"white\", \"linecolor\": \"white\", \"ticks\": \"\"}, \"baxis\": {\"gridcolor\": \"white\", \"linecolor\": \"white\", \"ticks\": \"\"}, \"bgcolor\": \"#E5ECF6\", \"caxis\": {\"gridcolor\": \"white\", \"linecolor\": \"white\", \"ticks\": \"\"}}, \"title\": {\"x\": 0.05}, \"xaxis\": {\"automargin\": true, \"gridcolor\": \"white\", \"linecolor\": \"white\", \"ticks\": \"\", \"title\": {\"standoff\": 15}, \"zerolinecolor\": \"white\", \"zerolinewidth\": 2}, \"yaxis\": {\"automargin\": true, \"gridcolor\": \"white\", \"linecolor\": \"white\", \"ticks\": \"\", \"title\": {\"standoff\": 15}, \"zerolinecolor\": \"white\", \"zerolinewidth\": 2}}}, \"title\": {\"text\": \"Diabetes bar chart\"}, \"width\": 600},\n",
       "                        {\"responsive\": true}\n",
       "                    ).then(function(){\n",
       "                            \n",
       "var gd = document.getElementById('3658a7c9-626a-4061-84b2-7f24fd65547c');\n",
       "var x = new MutationObserver(function (mutations, observer) {{\n",
       "        var display = window.getComputedStyle(gd).display;\n",
       "        if (!display || display === 'none') {{\n",
       "            console.log([gd, 'removed!']);\n",
       "            Plotly.purge(gd);\n",
       "            observer.disconnect();\n",
       "        }}\n",
       "}});\n",
       "\n",
       "// Listen for the removal of the full notebook cells\n",
       "var notebookContainer = gd.closest('#notebook-container');\n",
       "if (notebookContainer) {{\n",
       "    x.observe(notebookContainer, {childList: true});\n",
       "}}\n",
       "\n",
       "// Listen for the clearing of the current output cell\n",
       "var outputEl = gd.closest('.output');\n",
       "if (outputEl) {{\n",
       "    x.observe(outputEl, {childList: true});\n",
       "}}\n",
       "\n",
       "                        })\n",
       "                };\n",
       "                });\n",
       "            </script>\n",
       "        </div>"
      ]
     },
     "metadata": {},
     "output_type": "display_data"
    }
   ],
   "source": [
    "ds = df['diabetes'].value_counts().reset_index()\n",
    "ds.columns = ['diabetes', 'count']\n",
    "fig = px.pie(ds, values='count', names=\"diabetes\", title='Diabetes bar chart', width=600, height=500)\n",
    "fig.show()"
   ]
  },
  {
   "cell_type": "code",
   "execution_count": 9,
   "metadata": {
    "_kg_hide-input": true,
    "execution": {
     "iopub.execute_input": "2020-08-29T01:04:53.341375Z",
     "iopub.status.busy": "2020-08-29T01:04:53.317414Z",
     "iopub.status.idle": "2020-08-29T01:04:53.347674Z",
     "shell.execute_reply": "2020-08-29T01:04:53.346875Z"
    },
    "papermill": {
     "duration": 0.089557,
     "end_time": "2020-08-29T01:04:53.347810",
     "exception": false,
     "start_time": "2020-08-29T01:04:53.258253",
     "status": "completed"
    },
    "tags": []
   },
   "outputs": [
    {
     "data": {
      "text/html": [
       "<div>\n",
       "        \n",
       "        \n",
       "            <div id=\"112a6b4a-1e6a-41af-abcc-14f728889af1\" class=\"plotly-graph-div\" style=\"height:525px; width:700px;\"></div>\n",
       "            <script type=\"text/javascript\">\n",
       "                require([\"plotly\"], function(Plotly) {\n",
       "                    window.PLOTLYENV=window.PLOTLYENV || {};\n",
       "                    \n",
       "                if (document.getElementById(\"112a6b4a-1e6a-41af-abcc-14f728889af1\")) {\n",
       "                    Plotly.newPlot(\n",
       "                        '112a6b4a-1e6a-41af-abcc-14f728889af1',\n",
       "                        [{\"alignmentgroup\": \"True\", \"bingroup\": \"x\", \"hovertemplate\": \"ejection_fraction=%{x}<br>count=%{y}<extra></extra>\", \"legendgroup\": \"\", \"marker\": {\"color\": \"#636efa\"}, \"name\": \"\", \"nbinsx\": 15, \"offsetgroup\": \"\", \"orientation\": \"v\", \"showlegend\": false, \"type\": \"histogram\", \"x\": [20, 38, 20, 20, 20, 40, 15, 60, 65, 35, 38, 25, 30, 38, 30, 50, 38, 14, 25, 55, 25, 30, 35, 60, 30, 38, 40, 45, 38, 30, 38, 45, 35, 30, 50, 35, 50, 50, 30, 38, 20, 30, 45, 50, 60, 38, 25, 38, 20, 30, 25, 20, 62, 50, 38, 30, 35, 40, 20, 20, 25, 40, 35, 35, 80, 20, 15, 25, 25, 25, 40, 35, 35, 50, 20, 20, 60, 40, 38, 45, 40, 50, 25, 50, 25, 50, 35, 60, 40, 25, 45, 45, 60, 25, 38, 60, 25, 60, 25, 40, 25, 45, 25, 30, 50, 30, 45, 35, 38, 35, 60, 35, 25, 60, 40, 40, 60, 60, 60, 38, 60, 38, 38, 30, 40, 50, 17, 60, 30, 35, 60, 45, 40, 60, 35, 40, 60, 25, 35, 30, 38, 35, 30, 40, 25, 30, 30, 60, 30, 35, 45, 60, 45, 35, 35, 25, 35, 25, 50, 45, 40, 35, 40, 35, 30, 38, 60, 20, 40, 35, 35, 40, 60, 20, 35, 60, 40, 50, 60, 40, 30, 25, 25, 38, 25, 30, 50, 25, 40, 45, 35, 60, 40, 30, 20, 45, 38, 30, 20, 35, 45, 60, 60, 25, 40, 45, 40, 38, 40, 35, 17, 62, 50, 30, 35, 35, 50, 70, 35, 35, 20, 50, 35, 25, 25, 60, 25, 35, 25, 25, 30, 35, 35, 38, 45, 50, 50, 30, 40, 45, 35, 30, 35, 40, 38, 38, 25, 25, 35, 40, 30, 35, 45, 35, 60, 30, 38, 38, 25, 50, 40, 40, 25, 60, 38, 35, 20, 38, 38, 35, 30, 40, 38, 40, 30, 38, 35, 38, 30, 38, 40, 40, 30, 38, 40, 40, 35, 55, 35, 38, 55, 35, 38, 35, 38, 38, 60, 38, 45], \"xaxis\": \"x\", \"yaxis\": \"y\"}],\n",
       "                        {\"barmode\": \"relative\", \"legend\": {\"tracegroupgap\": 0}, \"template\": {\"data\": {\"bar\": [{\"error_x\": {\"color\": \"#2a3f5f\"}, \"error_y\": {\"color\": \"#2a3f5f\"}, \"marker\": {\"line\": {\"color\": \"#E5ECF6\", \"width\": 0.5}}, \"type\": \"bar\"}], \"barpolar\": [{\"marker\": {\"line\": {\"color\": \"#E5ECF6\", \"width\": 0.5}}, \"type\": \"barpolar\"}], \"carpet\": [{\"aaxis\": {\"endlinecolor\": \"#2a3f5f\", \"gridcolor\": \"white\", \"linecolor\": \"white\", \"minorgridcolor\": \"white\", \"startlinecolor\": \"#2a3f5f\"}, \"baxis\": {\"endlinecolor\": \"#2a3f5f\", \"gridcolor\": \"white\", \"linecolor\": \"white\", \"minorgridcolor\": \"white\", \"startlinecolor\": \"#2a3f5f\"}, \"type\": \"carpet\"}], \"choropleth\": [{\"colorbar\": {\"outlinewidth\": 0, \"ticks\": \"\"}, \"type\": \"choropleth\"}], \"contour\": [{\"colorbar\": {\"outlinewidth\": 0, \"ticks\": \"\"}, \"colorscale\": [[0.0, \"#0d0887\"], [0.1111111111111111, \"#46039f\"], [0.2222222222222222, \"#7201a8\"], [0.3333333333333333, \"#9c179e\"], [0.4444444444444444, \"#bd3786\"], [0.5555555555555556, \"#d8576b\"], [0.6666666666666666, \"#ed7953\"], [0.7777777777777778, \"#fb9f3a\"], [0.8888888888888888, \"#fdca26\"], [1.0, \"#f0f921\"]], \"type\": \"contour\"}], \"contourcarpet\": [{\"colorbar\": {\"outlinewidth\": 0, \"ticks\": \"\"}, \"type\": \"contourcarpet\"}], \"heatmap\": [{\"colorbar\": {\"outlinewidth\": 0, \"ticks\": \"\"}, \"colorscale\": [[0.0, \"#0d0887\"], [0.1111111111111111, \"#46039f\"], [0.2222222222222222, \"#7201a8\"], [0.3333333333333333, \"#9c179e\"], [0.4444444444444444, \"#bd3786\"], [0.5555555555555556, \"#d8576b\"], [0.6666666666666666, \"#ed7953\"], [0.7777777777777778, \"#fb9f3a\"], [0.8888888888888888, \"#fdca26\"], [1.0, \"#f0f921\"]], \"type\": \"heatmap\"}], \"heatmapgl\": [{\"colorbar\": {\"outlinewidth\": 0, \"ticks\": \"\"}, \"colorscale\": [[0.0, \"#0d0887\"], [0.1111111111111111, \"#46039f\"], [0.2222222222222222, \"#7201a8\"], [0.3333333333333333, \"#9c179e\"], [0.4444444444444444, \"#bd3786\"], [0.5555555555555556, \"#d8576b\"], [0.6666666666666666, \"#ed7953\"], [0.7777777777777778, \"#fb9f3a\"], [0.8888888888888888, \"#fdca26\"], [1.0, \"#f0f921\"]], \"type\": \"heatmapgl\"}], \"histogram\": [{\"marker\": {\"colorbar\": {\"outlinewidth\": 0, \"ticks\": \"\"}}, \"type\": \"histogram\"}], \"histogram2d\": [{\"colorbar\": {\"outlinewidth\": 0, \"ticks\": \"\"}, \"colorscale\": [[0.0, \"#0d0887\"], [0.1111111111111111, \"#46039f\"], [0.2222222222222222, \"#7201a8\"], [0.3333333333333333, \"#9c179e\"], [0.4444444444444444, \"#bd3786\"], [0.5555555555555556, \"#d8576b\"], [0.6666666666666666, \"#ed7953\"], [0.7777777777777778, \"#fb9f3a\"], [0.8888888888888888, \"#fdca26\"], [1.0, \"#f0f921\"]], \"type\": \"histogram2d\"}], \"histogram2dcontour\": [{\"colorbar\": {\"outlinewidth\": 0, \"ticks\": \"\"}, \"colorscale\": [[0.0, \"#0d0887\"], [0.1111111111111111, \"#46039f\"], [0.2222222222222222, \"#7201a8\"], [0.3333333333333333, \"#9c179e\"], [0.4444444444444444, \"#bd3786\"], [0.5555555555555556, \"#d8576b\"], [0.6666666666666666, \"#ed7953\"], [0.7777777777777778, \"#fb9f3a\"], [0.8888888888888888, \"#fdca26\"], [1.0, \"#f0f921\"]], \"type\": \"histogram2dcontour\"}], \"mesh3d\": [{\"colorbar\": {\"outlinewidth\": 0, \"ticks\": \"\"}, \"type\": \"mesh3d\"}], \"parcoords\": [{\"line\": {\"colorbar\": {\"outlinewidth\": 0, \"ticks\": \"\"}}, \"type\": \"parcoords\"}], \"pie\": [{\"automargin\": true, \"type\": \"pie\"}], \"scatter\": [{\"marker\": {\"colorbar\": {\"outlinewidth\": 0, \"ticks\": \"\"}}, \"type\": \"scatter\"}], \"scatter3d\": [{\"line\": {\"colorbar\": {\"outlinewidth\": 0, \"ticks\": \"\"}}, \"marker\": {\"colorbar\": {\"outlinewidth\": 0, \"ticks\": \"\"}}, \"type\": \"scatter3d\"}], \"scattercarpet\": [{\"marker\": {\"colorbar\": {\"outlinewidth\": 0, \"ticks\": \"\"}}, \"type\": \"scattercarpet\"}], \"scattergeo\": [{\"marker\": {\"colorbar\": {\"outlinewidth\": 0, \"ticks\": \"\"}}, \"type\": \"scattergeo\"}], \"scattergl\": [{\"marker\": {\"colorbar\": {\"outlinewidth\": 0, \"ticks\": \"\"}}, \"type\": \"scattergl\"}], \"scattermapbox\": [{\"marker\": {\"colorbar\": {\"outlinewidth\": 0, \"ticks\": \"\"}}, \"type\": \"scattermapbox\"}], \"scatterpolar\": [{\"marker\": {\"colorbar\": {\"outlinewidth\": 0, \"ticks\": \"\"}}, \"type\": \"scatterpolar\"}], \"scatterpolargl\": [{\"marker\": {\"colorbar\": {\"outlinewidth\": 0, \"ticks\": \"\"}}, \"type\": \"scatterpolargl\"}], \"scatterternary\": [{\"marker\": {\"colorbar\": {\"outlinewidth\": 0, \"ticks\": \"\"}}, \"type\": \"scatterternary\"}], \"surface\": [{\"colorbar\": {\"outlinewidth\": 0, \"ticks\": \"\"}, \"colorscale\": [[0.0, \"#0d0887\"], [0.1111111111111111, \"#46039f\"], [0.2222222222222222, \"#7201a8\"], [0.3333333333333333, \"#9c179e\"], [0.4444444444444444, \"#bd3786\"], [0.5555555555555556, \"#d8576b\"], [0.6666666666666666, \"#ed7953\"], [0.7777777777777778, \"#fb9f3a\"], [0.8888888888888888, \"#fdca26\"], [1.0, \"#f0f921\"]], \"type\": \"surface\"}], \"table\": [{\"cells\": {\"fill\": {\"color\": \"#EBF0F8\"}, \"line\": {\"color\": \"white\"}}, \"header\": {\"fill\": {\"color\": \"#C8D4E3\"}, \"line\": {\"color\": \"white\"}}, \"type\": \"table\"}]}, \"layout\": {\"annotationdefaults\": {\"arrowcolor\": \"#2a3f5f\", \"arrowhead\": 0, \"arrowwidth\": 1}, \"coloraxis\": {\"colorbar\": {\"outlinewidth\": 0, \"ticks\": \"\"}}, \"colorscale\": {\"diverging\": [[0, \"#8e0152\"], [0.1, \"#c51b7d\"], [0.2, \"#de77ae\"], [0.3, \"#f1b6da\"], [0.4, \"#fde0ef\"], [0.5, \"#f7f7f7\"], [0.6, \"#e6f5d0\"], [0.7, \"#b8e186\"], [0.8, \"#7fbc41\"], [0.9, \"#4d9221\"], [1, \"#276419\"]], \"sequential\": [[0.0, \"#0d0887\"], [0.1111111111111111, \"#46039f\"], [0.2222222222222222, \"#7201a8\"], [0.3333333333333333, \"#9c179e\"], [0.4444444444444444, \"#bd3786\"], [0.5555555555555556, \"#d8576b\"], [0.6666666666666666, \"#ed7953\"], [0.7777777777777778, \"#fb9f3a\"], [0.8888888888888888, \"#fdca26\"], [1.0, \"#f0f921\"]], \"sequentialminus\": [[0.0, \"#0d0887\"], [0.1111111111111111, \"#46039f\"], [0.2222222222222222, \"#7201a8\"], [0.3333333333333333, \"#9c179e\"], [0.4444444444444444, \"#bd3786\"], [0.5555555555555556, \"#d8576b\"], [0.6666666666666666, \"#ed7953\"], [0.7777777777777778, \"#fb9f3a\"], [0.8888888888888888, \"#fdca26\"], [1.0, \"#f0f921\"]]}, \"colorway\": [\"#636efa\", \"#EF553B\", \"#00cc96\", \"#ab63fa\", \"#FFA15A\", \"#19d3f3\", \"#FF6692\", \"#B6E880\", \"#FF97FF\", \"#FECB52\"], \"font\": {\"color\": \"#2a3f5f\"}, \"geo\": {\"bgcolor\": \"white\", \"lakecolor\": \"white\", \"landcolor\": \"#E5ECF6\", \"showlakes\": true, \"showland\": true, \"subunitcolor\": \"white\"}, \"hoverlabel\": {\"align\": \"left\"}, \"hovermode\": \"closest\", \"mapbox\": {\"style\": \"light\"}, \"paper_bgcolor\": \"white\", \"plot_bgcolor\": \"#E5ECF6\", \"polar\": {\"angularaxis\": {\"gridcolor\": \"white\", \"linecolor\": \"white\", \"ticks\": \"\"}, \"bgcolor\": \"#E5ECF6\", \"radialaxis\": {\"gridcolor\": \"white\", \"linecolor\": \"white\", \"ticks\": \"\"}}, \"scene\": {\"xaxis\": {\"backgroundcolor\": \"#E5ECF6\", \"gridcolor\": \"white\", \"gridwidth\": 2, \"linecolor\": \"white\", \"showbackground\": true, \"ticks\": \"\", \"zerolinecolor\": \"white\"}, \"yaxis\": {\"backgroundcolor\": \"#E5ECF6\", \"gridcolor\": \"white\", \"gridwidth\": 2, \"linecolor\": \"white\", \"showbackground\": true, \"ticks\": \"\", \"zerolinecolor\": \"white\"}, \"zaxis\": {\"backgroundcolor\": \"#E5ECF6\", \"gridcolor\": \"white\", \"gridwidth\": 2, \"linecolor\": \"white\", \"showbackground\": true, \"ticks\": \"\", \"zerolinecolor\": \"white\"}}, \"shapedefaults\": {\"line\": {\"color\": \"#2a3f5f\"}}, \"ternary\": {\"aaxis\": {\"gridcolor\": \"white\", \"linecolor\": \"white\", \"ticks\": \"\"}, \"baxis\": {\"gridcolor\": \"white\", \"linecolor\": \"white\", \"ticks\": \"\"}, \"bgcolor\": \"#E5ECF6\", \"caxis\": {\"gridcolor\": \"white\", \"linecolor\": \"white\", \"ticks\": \"\"}}, \"title\": {\"x\": 0.05}, \"xaxis\": {\"automargin\": true, \"gridcolor\": \"white\", \"linecolor\": \"white\", \"ticks\": \"\", \"title\": {\"standoff\": 15}, \"zerolinecolor\": \"white\", \"zerolinewidth\": 2}, \"yaxis\": {\"automargin\": true, \"gridcolor\": \"white\", \"linecolor\": \"white\", \"ticks\": \"\", \"title\": {\"standoff\": 15}, \"zerolinecolor\": \"white\", \"zerolinewidth\": 2}}}, \"title\": {\"text\": \"Ejection_fraction distribution\"}, \"width\": 700, \"xaxis\": {\"anchor\": \"y\", \"domain\": [0.0, 1.0], \"title\": {\"text\": \"ejection_fraction\"}}, \"yaxis\": {\"anchor\": \"x\", \"domain\": [0.0, 1.0], \"title\": {\"text\": \"count\"}}},\n",
       "                        {\"responsive\": true}\n",
       "                    ).then(function(){\n",
       "                            \n",
       "var gd = document.getElementById('112a6b4a-1e6a-41af-abcc-14f728889af1');\n",
       "var x = new MutationObserver(function (mutations, observer) {{\n",
       "        var display = window.getComputedStyle(gd).display;\n",
       "        if (!display || display === 'none') {{\n",
       "            console.log([gd, 'removed!']);\n",
       "            Plotly.purge(gd);\n",
       "            observer.disconnect();\n",
       "        }}\n",
       "}});\n",
       "\n",
       "// Listen for the removal of the full notebook cells\n",
       "var notebookContainer = gd.closest('#notebook-container');\n",
       "if (notebookContainer) {{\n",
       "    x.observe(notebookContainer, {childList: true});\n",
       "}}\n",
       "\n",
       "// Listen for the clearing of the current output cell\n",
       "var outputEl = gd.closest('.output');\n",
       "if (outputEl) {{\n",
       "    x.observe(outputEl, {childList: true});\n",
       "}}\n",
       "\n",
       "                        })\n",
       "                };\n",
       "                });\n",
       "            </script>\n",
       "        </div>"
      ]
     },
     "metadata": {},
     "output_type": "display_data"
    }
   ],
   "source": [
    "fig = px.histogram(df, \"ejection_fraction\", nbins=15, title='Ejection_fraction distribution', width=700)\n",
    "fig.show()"
   ]
  },
  {
   "cell_type": "code",
   "execution_count": 10,
   "metadata": {
    "_kg_hide-input": true,
    "execution": {
     "iopub.execute_input": "2020-08-29T01:04:53.440571Z",
     "iopub.status.busy": "2020-08-29T01:04:53.432486Z",
     "iopub.status.idle": "2020-08-29T01:04:53.446620Z",
     "shell.execute_reply": "2020-08-29T01:04:53.446020Z"
    },
    "papermill": {
     "duration": 0.079511,
     "end_time": "2020-08-29T01:04:53.446760",
     "exception": false,
     "start_time": "2020-08-29T01:04:53.367249",
     "status": "completed"
    },
    "tags": []
   },
   "outputs": [
    {
     "data": {
      "text/html": [
       "<div>\n",
       "        \n",
       "        \n",
       "            <div id=\"3376e085-599b-4b66-8957-3b9e33465adf\" class=\"plotly-graph-div\" style=\"height:500px; width:600px;\"></div>\n",
       "            <script type=\"text/javascript\">\n",
       "                require([\"plotly\"], function(Plotly) {\n",
       "                    window.PLOTLYENV=window.PLOTLYENV || {};\n",
       "                    \n",
       "                if (document.getElementById(\"3376e085-599b-4b66-8957-3b9e33465adf\")) {\n",
       "                    Plotly.newPlot(\n",
       "                        '3376e085-599b-4b66-8957-3b9e33465adf',\n",
       "                        [{\"domain\": {\"x\": [0.0, 1.0], \"y\": [0.0, 1.0]}, \"hovertemplate\": \"high_blood_pressure=%{label}<br>count=%{value}<extra></extra>\", \"labels\": [0, 1], \"legendgroup\": \"\", \"name\": \"\", \"showlegend\": true, \"type\": \"pie\", \"values\": [194, 105]}],\n",
       "                        {\"height\": 500, \"legend\": {\"tracegroupgap\": 0}, \"template\": {\"data\": {\"bar\": [{\"error_x\": {\"color\": \"#2a3f5f\"}, \"error_y\": {\"color\": \"#2a3f5f\"}, \"marker\": {\"line\": {\"color\": \"#E5ECF6\", \"width\": 0.5}}, \"type\": \"bar\"}], \"barpolar\": [{\"marker\": {\"line\": {\"color\": \"#E5ECF6\", \"width\": 0.5}}, \"type\": \"barpolar\"}], \"carpet\": [{\"aaxis\": {\"endlinecolor\": \"#2a3f5f\", \"gridcolor\": \"white\", \"linecolor\": \"white\", \"minorgridcolor\": \"white\", \"startlinecolor\": \"#2a3f5f\"}, \"baxis\": {\"endlinecolor\": \"#2a3f5f\", \"gridcolor\": \"white\", \"linecolor\": \"white\", \"minorgridcolor\": \"white\", \"startlinecolor\": \"#2a3f5f\"}, \"type\": \"carpet\"}], \"choropleth\": [{\"colorbar\": {\"outlinewidth\": 0, \"ticks\": \"\"}, \"type\": \"choropleth\"}], \"contour\": [{\"colorbar\": {\"outlinewidth\": 0, \"ticks\": \"\"}, \"colorscale\": [[0.0, \"#0d0887\"], [0.1111111111111111, \"#46039f\"], [0.2222222222222222, \"#7201a8\"], [0.3333333333333333, \"#9c179e\"], [0.4444444444444444, \"#bd3786\"], [0.5555555555555556, \"#d8576b\"], [0.6666666666666666, \"#ed7953\"], [0.7777777777777778, \"#fb9f3a\"], [0.8888888888888888, \"#fdca26\"], [1.0, \"#f0f921\"]], \"type\": \"contour\"}], \"contourcarpet\": [{\"colorbar\": {\"outlinewidth\": 0, \"ticks\": \"\"}, \"type\": \"contourcarpet\"}], \"heatmap\": [{\"colorbar\": {\"outlinewidth\": 0, \"ticks\": \"\"}, \"colorscale\": [[0.0, \"#0d0887\"], [0.1111111111111111, \"#46039f\"], [0.2222222222222222, \"#7201a8\"], [0.3333333333333333, \"#9c179e\"], [0.4444444444444444, \"#bd3786\"], [0.5555555555555556, \"#d8576b\"], [0.6666666666666666, \"#ed7953\"], [0.7777777777777778, \"#fb9f3a\"], [0.8888888888888888, \"#fdca26\"], [1.0, \"#f0f921\"]], \"type\": \"heatmap\"}], \"heatmapgl\": [{\"colorbar\": {\"outlinewidth\": 0, \"ticks\": \"\"}, \"colorscale\": [[0.0, \"#0d0887\"], [0.1111111111111111, \"#46039f\"], [0.2222222222222222, \"#7201a8\"], [0.3333333333333333, \"#9c179e\"], [0.4444444444444444, \"#bd3786\"], [0.5555555555555556, \"#d8576b\"], [0.6666666666666666, \"#ed7953\"], [0.7777777777777778, \"#fb9f3a\"], [0.8888888888888888, \"#fdca26\"], [1.0, \"#f0f921\"]], \"type\": \"heatmapgl\"}], \"histogram\": [{\"marker\": {\"colorbar\": {\"outlinewidth\": 0, \"ticks\": \"\"}}, \"type\": \"histogram\"}], \"histogram2d\": [{\"colorbar\": {\"outlinewidth\": 0, \"ticks\": \"\"}, \"colorscale\": [[0.0, \"#0d0887\"], [0.1111111111111111, \"#46039f\"], [0.2222222222222222, \"#7201a8\"], [0.3333333333333333, \"#9c179e\"], [0.4444444444444444, \"#bd3786\"], [0.5555555555555556, \"#d8576b\"], [0.6666666666666666, \"#ed7953\"], [0.7777777777777778, \"#fb9f3a\"], [0.8888888888888888, \"#fdca26\"], [1.0, \"#f0f921\"]], \"type\": \"histogram2d\"}], \"histogram2dcontour\": [{\"colorbar\": {\"outlinewidth\": 0, \"ticks\": \"\"}, \"colorscale\": [[0.0, \"#0d0887\"], [0.1111111111111111, \"#46039f\"], [0.2222222222222222, \"#7201a8\"], [0.3333333333333333, \"#9c179e\"], [0.4444444444444444, \"#bd3786\"], [0.5555555555555556, \"#d8576b\"], [0.6666666666666666, \"#ed7953\"], [0.7777777777777778, \"#fb9f3a\"], [0.8888888888888888, \"#fdca26\"], [1.0, \"#f0f921\"]], \"type\": \"histogram2dcontour\"}], \"mesh3d\": [{\"colorbar\": {\"outlinewidth\": 0, \"ticks\": \"\"}, \"type\": \"mesh3d\"}], \"parcoords\": [{\"line\": {\"colorbar\": {\"outlinewidth\": 0, \"ticks\": \"\"}}, \"type\": \"parcoords\"}], \"pie\": [{\"automargin\": true, \"type\": \"pie\"}], \"scatter\": [{\"marker\": {\"colorbar\": {\"outlinewidth\": 0, \"ticks\": \"\"}}, \"type\": \"scatter\"}], \"scatter3d\": [{\"line\": {\"colorbar\": {\"outlinewidth\": 0, \"ticks\": \"\"}}, \"marker\": {\"colorbar\": {\"outlinewidth\": 0, \"ticks\": \"\"}}, \"type\": \"scatter3d\"}], \"scattercarpet\": [{\"marker\": {\"colorbar\": {\"outlinewidth\": 0, \"ticks\": \"\"}}, \"type\": \"scattercarpet\"}], \"scattergeo\": [{\"marker\": {\"colorbar\": {\"outlinewidth\": 0, \"ticks\": \"\"}}, \"type\": \"scattergeo\"}], \"scattergl\": [{\"marker\": {\"colorbar\": {\"outlinewidth\": 0, \"ticks\": \"\"}}, \"type\": \"scattergl\"}], \"scattermapbox\": [{\"marker\": {\"colorbar\": {\"outlinewidth\": 0, \"ticks\": \"\"}}, \"type\": \"scattermapbox\"}], \"scatterpolar\": [{\"marker\": {\"colorbar\": {\"outlinewidth\": 0, \"ticks\": \"\"}}, \"type\": \"scatterpolar\"}], \"scatterpolargl\": [{\"marker\": {\"colorbar\": {\"outlinewidth\": 0, \"ticks\": \"\"}}, \"type\": \"scatterpolargl\"}], \"scatterternary\": [{\"marker\": {\"colorbar\": {\"outlinewidth\": 0, \"ticks\": \"\"}}, \"type\": \"scatterternary\"}], \"surface\": [{\"colorbar\": {\"outlinewidth\": 0, \"ticks\": \"\"}, \"colorscale\": [[0.0, \"#0d0887\"], [0.1111111111111111, \"#46039f\"], [0.2222222222222222, \"#7201a8\"], [0.3333333333333333, \"#9c179e\"], [0.4444444444444444, \"#bd3786\"], [0.5555555555555556, \"#d8576b\"], [0.6666666666666666, \"#ed7953\"], [0.7777777777777778, \"#fb9f3a\"], [0.8888888888888888, \"#fdca26\"], [1.0, \"#f0f921\"]], \"type\": \"surface\"}], \"table\": [{\"cells\": {\"fill\": {\"color\": \"#EBF0F8\"}, \"line\": {\"color\": \"white\"}}, \"header\": {\"fill\": {\"color\": \"#C8D4E3\"}, \"line\": {\"color\": \"white\"}}, \"type\": \"table\"}]}, \"layout\": {\"annotationdefaults\": {\"arrowcolor\": \"#2a3f5f\", \"arrowhead\": 0, \"arrowwidth\": 1}, \"coloraxis\": {\"colorbar\": {\"outlinewidth\": 0, \"ticks\": \"\"}}, \"colorscale\": {\"diverging\": [[0, \"#8e0152\"], [0.1, \"#c51b7d\"], [0.2, \"#de77ae\"], [0.3, \"#f1b6da\"], [0.4, \"#fde0ef\"], [0.5, \"#f7f7f7\"], [0.6, \"#e6f5d0\"], [0.7, \"#b8e186\"], [0.8, \"#7fbc41\"], [0.9, \"#4d9221\"], [1, \"#276419\"]], \"sequential\": [[0.0, \"#0d0887\"], [0.1111111111111111, \"#46039f\"], [0.2222222222222222, \"#7201a8\"], [0.3333333333333333, \"#9c179e\"], [0.4444444444444444, \"#bd3786\"], [0.5555555555555556, \"#d8576b\"], [0.6666666666666666, \"#ed7953\"], [0.7777777777777778, \"#fb9f3a\"], [0.8888888888888888, \"#fdca26\"], [1.0, \"#f0f921\"]], \"sequentialminus\": [[0.0, \"#0d0887\"], [0.1111111111111111, \"#46039f\"], [0.2222222222222222, \"#7201a8\"], [0.3333333333333333, \"#9c179e\"], [0.4444444444444444, \"#bd3786\"], [0.5555555555555556, \"#d8576b\"], [0.6666666666666666, \"#ed7953\"], [0.7777777777777778, \"#fb9f3a\"], [0.8888888888888888, \"#fdca26\"], [1.0, \"#f0f921\"]]}, \"colorway\": [\"#636efa\", \"#EF553B\", \"#00cc96\", \"#ab63fa\", \"#FFA15A\", \"#19d3f3\", \"#FF6692\", \"#B6E880\", \"#FF97FF\", \"#FECB52\"], \"font\": {\"color\": \"#2a3f5f\"}, \"geo\": {\"bgcolor\": \"white\", \"lakecolor\": \"white\", \"landcolor\": \"#E5ECF6\", \"showlakes\": true, \"showland\": true, \"subunitcolor\": \"white\"}, \"hoverlabel\": {\"align\": \"left\"}, \"hovermode\": \"closest\", \"mapbox\": {\"style\": \"light\"}, \"paper_bgcolor\": \"white\", \"plot_bgcolor\": \"#E5ECF6\", \"polar\": {\"angularaxis\": {\"gridcolor\": \"white\", \"linecolor\": \"white\", \"ticks\": \"\"}, \"bgcolor\": \"#E5ECF6\", \"radialaxis\": {\"gridcolor\": \"white\", \"linecolor\": \"white\", \"ticks\": \"\"}}, \"scene\": {\"xaxis\": {\"backgroundcolor\": \"#E5ECF6\", \"gridcolor\": \"white\", \"gridwidth\": 2, \"linecolor\": \"white\", \"showbackground\": true, \"ticks\": \"\", \"zerolinecolor\": \"white\"}, \"yaxis\": {\"backgroundcolor\": \"#E5ECF6\", \"gridcolor\": \"white\", \"gridwidth\": 2, \"linecolor\": \"white\", \"showbackground\": true, \"ticks\": \"\", \"zerolinecolor\": \"white\"}, \"zaxis\": {\"backgroundcolor\": \"#E5ECF6\", \"gridcolor\": \"white\", \"gridwidth\": 2, \"linecolor\": \"white\", \"showbackground\": true, \"ticks\": \"\", \"zerolinecolor\": \"white\"}}, \"shapedefaults\": {\"line\": {\"color\": \"#2a3f5f\"}}, \"ternary\": {\"aaxis\": {\"gridcolor\": \"white\", \"linecolor\": \"white\", \"ticks\": \"\"}, \"baxis\": {\"gridcolor\": \"white\", \"linecolor\": \"white\", \"ticks\": \"\"}, \"bgcolor\": \"#E5ECF6\", \"caxis\": {\"gridcolor\": \"white\", \"linecolor\": \"white\", \"ticks\": \"\"}}, \"title\": {\"x\": 0.05}, \"xaxis\": {\"automargin\": true, \"gridcolor\": \"white\", \"linecolor\": \"white\", \"ticks\": \"\", \"title\": {\"standoff\": 15}, \"zerolinecolor\": \"white\", \"zerolinewidth\": 2}, \"yaxis\": {\"automargin\": true, \"gridcolor\": \"white\", \"linecolor\": \"white\", \"ticks\": \"\", \"title\": {\"standoff\": 15}, \"zerolinecolor\": \"white\", \"zerolinewidth\": 2}}}, \"title\": {\"text\": \"High blood pressure bar chart\"}, \"width\": 600},\n",
       "                        {\"responsive\": true}\n",
       "                    ).then(function(){\n",
       "                            \n",
       "var gd = document.getElementById('3376e085-599b-4b66-8957-3b9e33465adf');\n",
       "var x = new MutationObserver(function (mutations, observer) {{\n",
       "        var display = window.getComputedStyle(gd).display;\n",
       "        if (!display || display === 'none') {{\n",
       "            console.log([gd, 'removed!']);\n",
       "            Plotly.purge(gd);\n",
       "            observer.disconnect();\n",
       "        }}\n",
       "}});\n",
       "\n",
       "// Listen for the removal of the full notebook cells\n",
       "var notebookContainer = gd.closest('#notebook-container');\n",
       "if (notebookContainer) {{\n",
       "    x.observe(notebookContainer, {childList: true});\n",
       "}}\n",
       "\n",
       "// Listen for the clearing of the current output cell\n",
       "var outputEl = gd.closest('.output');\n",
       "if (outputEl) {{\n",
       "    x.observe(outputEl, {childList: true});\n",
       "}}\n",
       "\n",
       "                        })\n",
       "                };\n",
       "                });\n",
       "            </script>\n",
       "        </div>"
      ]
     },
     "metadata": {},
     "output_type": "display_data"
    }
   ],
   "source": [
    "ds = df['high_blood_pressure'].value_counts().reset_index()\n",
    "ds.columns = ['high_blood_pressure', 'count']\n",
    "fig = px.pie(ds, values='count', names=\"high_blood_pressure\", title='High blood pressure bar chart', width=600, height=500)\n",
    "fig.show()"
   ]
  },
  {
   "cell_type": "code",
   "execution_count": 11,
   "metadata": {
    "_kg_hide-input": true,
    "execution": {
     "iopub.execute_input": "2020-08-29T01:04:53.501315Z",
     "iopub.status.busy": "2020-08-29T01:04:53.500286Z",
     "iopub.status.idle": "2020-08-29T01:04:53.553900Z",
     "shell.execute_reply": "2020-08-29T01:04:53.553119Z"
    },
    "papermill": {
     "duration": 0.087928,
     "end_time": "2020-08-29T01:04:53.554031",
     "exception": false,
     "start_time": "2020-08-29T01:04:53.466103",
     "status": "completed"
    },
    "tags": []
   },
   "outputs": [
    {
     "data": {
      "text/html": [
       "<div>\n",
       "        \n",
       "        \n",
       "            <div id=\"8be200db-2d83-4a0c-adc1-e6820a1ab3b1\" class=\"plotly-graph-div\" style=\"height:525px; width:700px;\"></div>\n",
       "            <script type=\"text/javascript\">\n",
       "                require([\"plotly\"], function(Plotly) {\n",
       "                    window.PLOTLYENV=window.PLOTLYENV || {};\n",
       "                    \n",
       "                if (document.getElementById(\"8be200db-2d83-4a0c-adc1-e6820a1ab3b1\")) {\n",
       "                    Plotly.newPlot(\n",
       "                        '8be200db-2d83-4a0c-adc1-e6820a1ab3b1',\n",
       "                        [{\"alignmentgroup\": \"True\", \"bingroup\": \"x\", \"hovertemplate\": \"platelets=%{x}<br>count=%{y}<extra></extra>\", \"legendgroup\": \"\", \"marker\": {\"color\": \"#636efa\"}, \"name\": \"\", \"nbinsx\": 25, \"offsetgroup\": \"\", \"orientation\": \"v\", \"showlegend\": false, \"type\": \"histogram\", \"x\": [265000.0, 263358.03, 162000.0, 210000.0, 327000.0, 204000.0, 127000.0, 454000.0, 263358.03, 388000.0, 368000.0, 253000.0, 136000.0, 276000.0, 427000.0, 47000.0, 262000.0, 166000.0, 237000.0, 87000.0, 276000.0, 297000.0, 289000.0, 368000.0, 263358.03, 149000.0, 196000.0, 284000.0, 153000.0, 200000.0, 263358.03, 360000.0, 319000.0, 302000.0, 188000.0, 228000.0, 226000.0, 321000.0, 305000.0, 329000.0, 263358.03, 153000.0, 185000.0, 218000.0, 194000.0, 310000.0, 271000.0, 451000.0, 140000.0, 395000.0, 166000.0, 418000.0, 263358.03, 351000.0, 255000.0, 461000.0, 223000.0, 216000.0, 319000.0, 254000.0, 390000.0, 216000.0, 254000.0, 385000.0, 263358.03, 119000.0, 213000.0, 274000.0, 244000.0, 497000.0, 374000.0, 122000.0, 243000.0, 149000.0, 266000.0, 204000.0, 317000.0, 237000.0, 283000.0, 324000.0, 293000.0, 263358.03, 196000.0, 172000.0, 302000.0, 406000.0, 173000.0, 304000.0, 235000.0, 181000.0, 249000.0, 297000.0, 263358.03, 210000.0, 327000.0, 219000.0, 254000.0, 255000.0, 318000.0, 221000.0, 298000.0, 263358.03, 149000.0, 226000.0, 286000.0, 621000.0, 263000.0, 226000.0, 304000.0, 850000.0, 306000.0, 228000.0, 252000.0, 351000.0, 328000.0, 164000.0, 271000.0, 507000.0, 203000.0, 263358.03, 210000.0, 162000.0, 228000.0, 127000.0, 217000.0, 237000.0, 271000.0, 300000.0, 267000.0, 227000.0, 249000.0, 250000.0, 263358.03, 295000.0, 231000.0, 263358.03, 172000.0, 305000.0, 221000.0, 211000.0, 263358.03, 348000.0, 329000.0, 229000.0, 338000.0, 266000.0, 218000.0, 242000.0, 225000.0, 228000.0, 235000.0, 244000.0, 184000.0, 263358.03, 235000.0, 194000.0, 277000.0, 262000.0, 235000.0, 362000.0, 242000.0, 174000.0, 448000.0, 75000.0, 334000.0, 192000.0, 220000.0, 70000.0, 270000.0, 305000.0, 263358.03, 325000.0, 176000.0, 189000.0, 281000.0, 337000.0, 105000.0, 132000.0, 267000.0, 279000.0, 303000.0, 221000.0, 265000.0, 224000.0, 219000.0, 389000.0, 153000.0, 365000.0, 201000.0, 275000.0, 350000.0, 309000.0, 260000.0, 160000.0, 126000.0, 223000.0, 263358.03, 259000.0, 279000.0, 263358.03, 73000.0, 377000.0, 220000.0, 212000.0, 277000.0, 362000.0, 226000.0, 186000.0, 283000.0, 268000.0, 389000.0, 147000.0, 481000.0, 244000.0, 290000.0, 203000.0, 358000.0, 151000.0, 271000.0, 371000.0, 263358.03, 194000.0, 365000.0, 130000.0, 504000.0, 265000.0, 189000.0, 141000.0, 237000.0, 274000.0, 62000.0, 185000.0, 255000.0, 330000.0, 305000.0, 406000.0, 248000.0, 173000.0, 257000.0, 263358.03, 533000.0, 249000.0, 255000.0, 220000.0, 264000.0, 282000.0, 314000.0, 246000.0, 301000.0, 223000.0, 404000.0, 231000.0, 274000.0, 236000.0, 263358.03, 334000.0, 294000.0, 253000.0, 233000.0, 308000.0, 203000.0, 283000.0, 198000.0, 208000.0, 147000.0, 362000.0, 263358.03, 133000.0, 302000.0, 222000.0, 263358.03, 221000.0, 215000.0, 189000.0, 150000.0, 422000.0, 327000.0, 25100.0, 232000.0, 451000.0, 241000.0, 51000.0, 215000.0, 263358.03, 279000.0, 336000.0, 279000.0, 543000.0, 263358.03, 390000.0, 222000.0, 133000.0, 382000.0, 179000.0, 155000.0, 270000.0, 742000.0, 140000.0, 395000.0], \"xaxis\": \"x\", \"yaxis\": \"y\"}],\n",
       "                        {\"barmode\": \"relative\", \"legend\": {\"tracegroupgap\": 0}, \"template\": {\"data\": {\"bar\": [{\"error_x\": {\"color\": \"#2a3f5f\"}, \"error_y\": {\"color\": \"#2a3f5f\"}, \"marker\": {\"line\": {\"color\": \"#E5ECF6\", \"width\": 0.5}}, \"type\": \"bar\"}], \"barpolar\": [{\"marker\": {\"line\": {\"color\": \"#E5ECF6\", \"width\": 0.5}}, \"type\": \"barpolar\"}], \"carpet\": [{\"aaxis\": {\"endlinecolor\": \"#2a3f5f\", \"gridcolor\": \"white\", \"linecolor\": \"white\", \"minorgridcolor\": \"white\", \"startlinecolor\": \"#2a3f5f\"}, \"baxis\": {\"endlinecolor\": \"#2a3f5f\", \"gridcolor\": \"white\", \"linecolor\": \"white\", \"minorgridcolor\": \"white\", \"startlinecolor\": \"#2a3f5f\"}, \"type\": \"carpet\"}], \"choropleth\": [{\"colorbar\": {\"outlinewidth\": 0, \"ticks\": \"\"}, \"type\": \"choropleth\"}], \"contour\": [{\"colorbar\": {\"outlinewidth\": 0, \"ticks\": \"\"}, \"colorscale\": [[0.0, \"#0d0887\"], [0.1111111111111111, \"#46039f\"], [0.2222222222222222, \"#7201a8\"], [0.3333333333333333, \"#9c179e\"], [0.4444444444444444, \"#bd3786\"], [0.5555555555555556, \"#d8576b\"], [0.6666666666666666, \"#ed7953\"], [0.7777777777777778, \"#fb9f3a\"], [0.8888888888888888, \"#fdca26\"], [1.0, \"#f0f921\"]], \"type\": \"contour\"}], \"contourcarpet\": [{\"colorbar\": {\"outlinewidth\": 0, \"ticks\": \"\"}, \"type\": \"contourcarpet\"}], \"heatmap\": [{\"colorbar\": {\"outlinewidth\": 0, \"ticks\": \"\"}, \"colorscale\": [[0.0, \"#0d0887\"], [0.1111111111111111, \"#46039f\"], [0.2222222222222222, \"#7201a8\"], [0.3333333333333333, \"#9c179e\"], [0.4444444444444444, \"#bd3786\"], [0.5555555555555556, \"#d8576b\"], [0.6666666666666666, \"#ed7953\"], [0.7777777777777778, \"#fb9f3a\"], [0.8888888888888888, \"#fdca26\"], [1.0, \"#f0f921\"]], \"type\": \"heatmap\"}], \"heatmapgl\": [{\"colorbar\": {\"outlinewidth\": 0, \"ticks\": \"\"}, \"colorscale\": [[0.0, \"#0d0887\"], [0.1111111111111111, \"#46039f\"], [0.2222222222222222, \"#7201a8\"], [0.3333333333333333, \"#9c179e\"], [0.4444444444444444, \"#bd3786\"], [0.5555555555555556, \"#d8576b\"], [0.6666666666666666, \"#ed7953\"], [0.7777777777777778, \"#fb9f3a\"], [0.8888888888888888, \"#fdca26\"], [1.0, \"#f0f921\"]], \"type\": \"heatmapgl\"}], \"histogram\": [{\"marker\": {\"colorbar\": {\"outlinewidth\": 0, \"ticks\": \"\"}}, \"type\": \"histogram\"}], \"histogram2d\": [{\"colorbar\": {\"outlinewidth\": 0, \"ticks\": \"\"}, \"colorscale\": [[0.0, \"#0d0887\"], [0.1111111111111111, \"#46039f\"], [0.2222222222222222, \"#7201a8\"], [0.3333333333333333, \"#9c179e\"], [0.4444444444444444, \"#bd3786\"], [0.5555555555555556, \"#d8576b\"], [0.6666666666666666, \"#ed7953\"], [0.7777777777777778, \"#fb9f3a\"], [0.8888888888888888, \"#fdca26\"], [1.0, \"#f0f921\"]], \"type\": \"histogram2d\"}], \"histogram2dcontour\": [{\"colorbar\": {\"outlinewidth\": 0, \"ticks\": \"\"}, \"colorscale\": [[0.0, \"#0d0887\"], [0.1111111111111111, \"#46039f\"], [0.2222222222222222, \"#7201a8\"], [0.3333333333333333, \"#9c179e\"], [0.4444444444444444, \"#bd3786\"], [0.5555555555555556, \"#d8576b\"], [0.6666666666666666, \"#ed7953\"], [0.7777777777777778, \"#fb9f3a\"], [0.8888888888888888, \"#fdca26\"], [1.0, \"#f0f921\"]], \"type\": \"histogram2dcontour\"}], \"mesh3d\": [{\"colorbar\": {\"outlinewidth\": 0, \"ticks\": \"\"}, \"type\": \"mesh3d\"}], \"parcoords\": [{\"line\": {\"colorbar\": {\"outlinewidth\": 0, \"ticks\": \"\"}}, \"type\": \"parcoords\"}], \"pie\": [{\"automargin\": true, \"type\": \"pie\"}], \"scatter\": [{\"marker\": {\"colorbar\": {\"outlinewidth\": 0, \"ticks\": \"\"}}, \"type\": \"scatter\"}], \"scatter3d\": [{\"line\": {\"colorbar\": {\"outlinewidth\": 0, \"ticks\": \"\"}}, \"marker\": {\"colorbar\": {\"outlinewidth\": 0, \"ticks\": \"\"}}, \"type\": \"scatter3d\"}], \"scattercarpet\": [{\"marker\": {\"colorbar\": {\"outlinewidth\": 0, \"ticks\": \"\"}}, \"type\": \"scattercarpet\"}], \"scattergeo\": [{\"marker\": {\"colorbar\": {\"outlinewidth\": 0, \"ticks\": \"\"}}, \"type\": \"scattergeo\"}], \"scattergl\": [{\"marker\": {\"colorbar\": {\"outlinewidth\": 0, \"ticks\": \"\"}}, \"type\": \"scattergl\"}], \"scattermapbox\": [{\"marker\": {\"colorbar\": {\"outlinewidth\": 0, \"ticks\": \"\"}}, \"type\": \"scattermapbox\"}], \"scatterpolar\": [{\"marker\": {\"colorbar\": {\"outlinewidth\": 0, \"ticks\": \"\"}}, \"type\": \"scatterpolar\"}], \"scatterpolargl\": [{\"marker\": {\"colorbar\": {\"outlinewidth\": 0, \"ticks\": \"\"}}, \"type\": \"scatterpolargl\"}], \"scatterternary\": [{\"marker\": {\"colorbar\": {\"outlinewidth\": 0, \"ticks\": \"\"}}, \"type\": \"scatterternary\"}], \"surface\": [{\"colorbar\": {\"outlinewidth\": 0, \"ticks\": \"\"}, \"colorscale\": [[0.0, \"#0d0887\"], [0.1111111111111111, \"#46039f\"], [0.2222222222222222, \"#7201a8\"], [0.3333333333333333, \"#9c179e\"], [0.4444444444444444, \"#bd3786\"], [0.5555555555555556, \"#d8576b\"], [0.6666666666666666, \"#ed7953\"], [0.7777777777777778, \"#fb9f3a\"], [0.8888888888888888, \"#fdca26\"], [1.0, \"#f0f921\"]], \"type\": \"surface\"}], \"table\": [{\"cells\": {\"fill\": {\"color\": \"#EBF0F8\"}, \"line\": {\"color\": \"white\"}}, \"header\": {\"fill\": {\"color\": \"#C8D4E3\"}, \"line\": {\"color\": \"white\"}}, \"type\": \"table\"}]}, \"layout\": {\"annotationdefaults\": {\"arrowcolor\": \"#2a3f5f\", \"arrowhead\": 0, \"arrowwidth\": 1}, \"coloraxis\": {\"colorbar\": {\"outlinewidth\": 0, \"ticks\": \"\"}}, \"colorscale\": {\"diverging\": [[0, \"#8e0152\"], [0.1, \"#c51b7d\"], [0.2, \"#de77ae\"], [0.3, \"#f1b6da\"], [0.4, \"#fde0ef\"], [0.5, \"#f7f7f7\"], [0.6, \"#e6f5d0\"], [0.7, \"#b8e186\"], [0.8, \"#7fbc41\"], [0.9, \"#4d9221\"], [1, \"#276419\"]], \"sequential\": [[0.0, \"#0d0887\"], [0.1111111111111111, \"#46039f\"], [0.2222222222222222, \"#7201a8\"], [0.3333333333333333, \"#9c179e\"], [0.4444444444444444, \"#bd3786\"], [0.5555555555555556, \"#d8576b\"], [0.6666666666666666, \"#ed7953\"], [0.7777777777777778, \"#fb9f3a\"], [0.8888888888888888, \"#fdca26\"], [1.0, \"#f0f921\"]], \"sequentialminus\": [[0.0, \"#0d0887\"], [0.1111111111111111, \"#46039f\"], [0.2222222222222222, \"#7201a8\"], [0.3333333333333333, \"#9c179e\"], [0.4444444444444444, \"#bd3786\"], [0.5555555555555556, \"#d8576b\"], [0.6666666666666666, \"#ed7953\"], [0.7777777777777778, \"#fb9f3a\"], [0.8888888888888888, \"#fdca26\"], [1.0, \"#f0f921\"]]}, \"colorway\": [\"#636efa\", \"#EF553B\", \"#00cc96\", \"#ab63fa\", \"#FFA15A\", \"#19d3f3\", \"#FF6692\", \"#B6E880\", \"#FF97FF\", \"#FECB52\"], \"font\": {\"color\": \"#2a3f5f\"}, \"geo\": {\"bgcolor\": \"white\", \"lakecolor\": \"white\", \"landcolor\": \"#E5ECF6\", \"showlakes\": true, \"showland\": true, \"subunitcolor\": \"white\"}, \"hoverlabel\": {\"align\": \"left\"}, \"hovermode\": \"closest\", \"mapbox\": {\"style\": \"light\"}, \"paper_bgcolor\": \"white\", \"plot_bgcolor\": \"#E5ECF6\", \"polar\": {\"angularaxis\": {\"gridcolor\": \"white\", \"linecolor\": \"white\", \"ticks\": \"\"}, \"bgcolor\": \"#E5ECF6\", \"radialaxis\": {\"gridcolor\": \"white\", \"linecolor\": \"white\", \"ticks\": \"\"}}, \"scene\": {\"xaxis\": {\"backgroundcolor\": \"#E5ECF6\", \"gridcolor\": \"white\", \"gridwidth\": 2, \"linecolor\": \"white\", \"showbackground\": true, \"ticks\": \"\", \"zerolinecolor\": \"white\"}, \"yaxis\": {\"backgroundcolor\": \"#E5ECF6\", \"gridcolor\": \"white\", \"gridwidth\": 2, \"linecolor\": \"white\", \"showbackground\": true, \"ticks\": \"\", \"zerolinecolor\": \"white\"}, \"zaxis\": {\"backgroundcolor\": \"#E5ECF6\", \"gridcolor\": \"white\", \"gridwidth\": 2, \"linecolor\": \"white\", \"showbackground\": true, \"ticks\": \"\", \"zerolinecolor\": \"white\"}}, \"shapedefaults\": {\"line\": {\"color\": \"#2a3f5f\"}}, \"ternary\": {\"aaxis\": {\"gridcolor\": \"white\", \"linecolor\": \"white\", \"ticks\": \"\"}, \"baxis\": {\"gridcolor\": \"white\", \"linecolor\": \"white\", \"ticks\": \"\"}, \"bgcolor\": \"#E5ECF6\", \"caxis\": {\"gridcolor\": \"white\", \"linecolor\": \"white\", \"ticks\": \"\"}}, \"title\": {\"x\": 0.05}, \"xaxis\": {\"automargin\": true, \"gridcolor\": \"white\", \"linecolor\": \"white\", \"ticks\": \"\", \"title\": {\"standoff\": 15}, \"zerolinecolor\": \"white\", \"zerolinewidth\": 2}, \"yaxis\": {\"automargin\": true, \"gridcolor\": \"white\", \"linecolor\": \"white\", \"ticks\": \"\", \"title\": {\"standoff\": 15}, \"zerolinecolor\": \"white\", \"zerolinewidth\": 2}}}, \"title\": {\"text\": \"Platelets distribution\"}, \"width\": 700, \"xaxis\": {\"anchor\": \"y\", \"domain\": [0.0, 1.0], \"title\": {\"text\": \"platelets\"}}, \"yaxis\": {\"anchor\": \"x\", \"domain\": [0.0, 1.0], \"title\": {\"text\": \"count\"}}},\n",
       "                        {\"responsive\": true}\n",
       "                    ).then(function(){\n",
       "                            \n",
       "var gd = document.getElementById('8be200db-2d83-4a0c-adc1-e6820a1ab3b1');\n",
       "var x = new MutationObserver(function (mutations, observer) {{\n",
       "        var display = window.getComputedStyle(gd).display;\n",
       "        if (!display || display === 'none') {{\n",
       "            console.log([gd, 'removed!']);\n",
       "            Plotly.purge(gd);\n",
       "            observer.disconnect();\n",
       "        }}\n",
       "}});\n",
       "\n",
       "// Listen for the removal of the full notebook cells\n",
       "var notebookContainer = gd.closest('#notebook-container');\n",
       "if (notebookContainer) {{\n",
       "    x.observe(notebookContainer, {childList: true});\n",
       "}}\n",
       "\n",
       "// Listen for the clearing of the current output cell\n",
       "var outputEl = gd.closest('.output');\n",
       "if (outputEl) {{\n",
       "    x.observe(outputEl, {childList: true});\n",
       "}}\n",
       "\n",
       "                        })\n",
       "                };\n",
       "                });\n",
       "            </script>\n",
       "        </div>"
      ]
     },
     "metadata": {},
     "output_type": "display_data"
    }
   ],
   "source": [
    "fig = px.histogram(df, \"platelets\", nbins=25, title='Platelets distribution', width=700)\n",
    "fig.show()"
   ]
  },
  {
   "cell_type": "code",
   "execution_count": 12,
   "metadata": {
    "_kg_hide-input": true,
    "execution": {
     "iopub.execute_input": "2020-08-29T01:04:53.605926Z",
     "iopub.status.busy": "2020-08-29T01:04:53.604103Z",
     "iopub.status.idle": "2020-08-29T01:04:53.662046Z",
     "shell.execute_reply": "2020-08-29T01:04:53.662635Z"
    },
    "papermill": {
     "duration": 0.088948,
     "end_time": "2020-08-29T01:04:53.662805",
     "exception": false,
     "start_time": "2020-08-29T01:04:53.573857",
     "status": "completed"
    },
    "tags": []
   },
   "outputs": [
    {
     "data": {
      "text/html": [
       "<div>\n",
       "        \n",
       "        \n",
       "            <div id=\"9f339ee0-8a25-42ed-ad85-a4c82ae1e3cb\" class=\"plotly-graph-div\" style=\"height:525px; width:700px;\"></div>\n",
       "            <script type=\"text/javascript\">\n",
       "                require([\"plotly\"], function(Plotly) {\n",
       "                    window.PLOTLYENV=window.PLOTLYENV || {};\n",
       "                    \n",
       "                if (document.getElementById(\"9f339ee0-8a25-42ed-ad85-a4c82ae1e3cb\")) {\n",
       "                    Plotly.newPlot(\n",
       "                        '9f339ee0-8a25-42ed-ad85-a4c82ae1e3cb',\n",
       "                        [{\"alignmentgroup\": \"True\", \"bingroup\": \"x\", \"hovertemplate\": \"serum_creatinine=%{x}<br>count=%{y}<extra></extra>\", \"legendgroup\": \"\", \"marker\": {\"color\": \"#636efa\"}, \"name\": \"\", \"nbinsx\": 25, \"offsetgroup\": \"\", \"orientation\": \"v\", \"showlegend\": false, \"type\": \"histogram\", \"x\": [1.9, 1.1, 1.3, 1.9, 2.7, 2.1, 1.2, 1.1, 1.5, 9.4, 4.0, 0.9, 1.1, 1.1, 1.0, 1.3, 0.9, 0.8, 1.0, 1.9, 1.3, 1.6, 0.9, 0.8, 1.83, 1.9, 1.0, 1.3, 5.8, 1.2, 1.83, 3.0, 1.0, 1.2, 1.0, 3.5, 1.0, 1.0, 2.3, 3.0, 1.83, 1.2, 1.2, 1.0, 1.1, 1.9, 0.9, 0.6, 4.4, 1.0, 1.0, 1.4, 6.8, 1.0, 2.2, 2.0, 2.7, 0.6, 1.1, 1.3, 1.0, 2.3, 1.1, 1.0, 1.18, 2.9, 1.3, 1.0, 1.2, 1.83, 0.8, 0.9, 1.0, 1.3, 1.2, 0.7, 0.8, 1.2, 0.6, 0.9, 1.7, 1.18, 2.5, 1.8, 1.0, 0.7, 1.1, 0.8, 0.7, 1.1, 0.8, 1.0, 1.18, 1.7, 0.7, 1.0, 1.3, 1.1, 1.2, 1.1, 1.1, 1.18, 1.1, 1.0, 2.3, 1.7, 1.3, 0.9, 1.1, 1.3, 1.2, 1.2, 1.6, 1.3, 1.2, 1.0, 0.7, 3.2, 0.9, 1.83, 1.5, 1.0, 0.75, 0.9, 3.7, 1.3, 2.1, 0.8, 0.7, 3.4, 0.7, 6.1, 1.18, 1.3, 1.18, 1.18, 0.9, 2.1, 1.0, 0.8, 1.1, 0.9, 0.9, 0.9, 1.7, 0.7, 0.7, 1.0, 1.83, 0.9, 2.5, 0.9, 0.9, 1.18, 0.8, 1.7, 1.4, 1.0, 1.3, 1.1, 1.2, 0.8, 0.9, 0.9, 1.1, 1.3, 0.7, 2.4, 1.0, 0.8, 1.5, 0.9, 1.1, 0.8, 0.9, 1.0, 1.0, 1.0, 1.2, 0.7, 0.9, 1.0, 1.2, 2.5, 1.2, 1.5, 0.6, 2.1, 1.0, 0.9, 2.1, 1.5, 0.7, 1.18, 1.6, 1.8, 1.18, 0.8, 1.0, 1.8, 0.7, 1.0, 0.9, 3.5, 0.7, 1.0, 0.8, 0.9, 1.0, 0.8, 1.0, 0.8, 1.4, 1.6, 0.8, 1.3, 0.9, 9.0, 1.1, 0.7, 1.83, 1.1, 1.1, 0.8, 1.0, 1.4, 1.3, 1.0, 5.0, 1.2, 1.7, 1.1, 0.9, 1.4, 1.1, 1.1, 1.1, 1.2, 1.0, 1.18, 1.3, 1.3, 1.1, 0.9, 1.8, 1.4, 1.1, 2.4, 1.0, 1.2, 0.5, 0.8, 1.0, 1.2, 1.0, 1.0, 1.7, 1.0, 0.8, 0.7, 1.0, 0.7, 1.4, 1.0, 1.2, 0.9, 1.83, 1.7, 0.9, 1.0, 1.6, 0.9, 1.2, 0.7, 1.0, 0.8, 1.1, 1.1, 0.7, 1.3, 1.0, 2.7, 3.8, 1.1, 0.8, 1.2, 1.7, 1.0, 1.1, 0.9, 0.8, 1.4, 1.0, 0.9, 1.1, 1.2, 0.8, 1.4, 1.6], \"xaxis\": \"x\", \"yaxis\": \"y\"}],\n",
       "                        {\"barmode\": \"relative\", \"legend\": {\"tracegroupgap\": 0}, \"template\": {\"data\": {\"bar\": [{\"error_x\": {\"color\": \"#2a3f5f\"}, \"error_y\": {\"color\": \"#2a3f5f\"}, \"marker\": {\"line\": {\"color\": \"#E5ECF6\", \"width\": 0.5}}, \"type\": \"bar\"}], \"barpolar\": [{\"marker\": {\"line\": {\"color\": \"#E5ECF6\", \"width\": 0.5}}, \"type\": \"barpolar\"}], \"carpet\": [{\"aaxis\": {\"endlinecolor\": \"#2a3f5f\", \"gridcolor\": \"white\", \"linecolor\": \"white\", \"minorgridcolor\": \"white\", \"startlinecolor\": \"#2a3f5f\"}, \"baxis\": {\"endlinecolor\": \"#2a3f5f\", \"gridcolor\": \"white\", \"linecolor\": \"white\", \"minorgridcolor\": \"white\", \"startlinecolor\": \"#2a3f5f\"}, \"type\": \"carpet\"}], \"choropleth\": [{\"colorbar\": {\"outlinewidth\": 0, \"ticks\": \"\"}, \"type\": \"choropleth\"}], \"contour\": [{\"colorbar\": {\"outlinewidth\": 0, \"ticks\": \"\"}, \"colorscale\": [[0.0, \"#0d0887\"], [0.1111111111111111, \"#46039f\"], [0.2222222222222222, \"#7201a8\"], [0.3333333333333333, \"#9c179e\"], [0.4444444444444444, \"#bd3786\"], [0.5555555555555556, \"#d8576b\"], [0.6666666666666666, \"#ed7953\"], [0.7777777777777778, \"#fb9f3a\"], [0.8888888888888888, \"#fdca26\"], [1.0, \"#f0f921\"]], \"type\": \"contour\"}], \"contourcarpet\": [{\"colorbar\": {\"outlinewidth\": 0, \"ticks\": \"\"}, \"type\": \"contourcarpet\"}], \"heatmap\": [{\"colorbar\": {\"outlinewidth\": 0, \"ticks\": \"\"}, \"colorscale\": [[0.0, \"#0d0887\"], [0.1111111111111111, \"#46039f\"], [0.2222222222222222, \"#7201a8\"], [0.3333333333333333, \"#9c179e\"], [0.4444444444444444, \"#bd3786\"], [0.5555555555555556, \"#d8576b\"], [0.6666666666666666, \"#ed7953\"], [0.7777777777777778, \"#fb9f3a\"], [0.8888888888888888, \"#fdca26\"], [1.0, \"#f0f921\"]], \"type\": \"heatmap\"}], \"heatmapgl\": [{\"colorbar\": {\"outlinewidth\": 0, \"ticks\": \"\"}, \"colorscale\": [[0.0, \"#0d0887\"], [0.1111111111111111, \"#46039f\"], [0.2222222222222222, \"#7201a8\"], [0.3333333333333333, \"#9c179e\"], [0.4444444444444444, \"#bd3786\"], [0.5555555555555556, \"#d8576b\"], [0.6666666666666666, \"#ed7953\"], [0.7777777777777778, \"#fb9f3a\"], [0.8888888888888888, \"#fdca26\"], [1.0, \"#f0f921\"]], \"type\": \"heatmapgl\"}], \"histogram\": [{\"marker\": {\"colorbar\": {\"outlinewidth\": 0, \"ticks\": \"\"}}, \"type\": \"histogram\"}], \"histogram2d\": [{\"colorbar\": {\"outlinewidth\": 0, \"ticks\": \"\"}, \"colorscale\": [[0.0, \"#0d0887\"], [0.1111111111111111, \"#46039f\"], [0.2222222222222222, \"#7201a8\"], [0.3333333333333333, \"#9c179e\"], [0.4444444444444444, \"#bd3786\"], [0.5555555555555556, \"#d8576b\"], [0.6666666666666666, \"#ed7953\"], [0.7777777777777778, \"#fb9f3a\"], [0.8888888888888888, \"#fdca26\"], [1.0, \"#f0f921\"]], \"type\": \"histogram2d\"}], \"histogram2dcontour\": [{\"colorbar\": {\"outlinewidth\": 0, \"ticks\": \"\"}, \"colorscale\": [[0.0, \"#0d0887\"], [0.1111111111111111, \"#46039f\"], [0.2222222222222222, \"#7201a8\"], [0.3333333333333333, \"#9c179e\"], [0.4444444444444444, \"#bd3786\"], [0.5555555555555556, \"#d8576b\"], [0.6666666666666666, \"#ed7953\"], [0.7777777777777778, \"#fb9f3a\"], [0.8888888888888888, \"#fdca26\"], [1.0, \"#f0f921\"]], \"type\": \"histogram2dcontour\"}], \"mesh3d\": [{\"colorbar\": {\"outlinewidth\": 0, \"ticks\": \"\"}, \"type\": \"mesh3d\"}], \"parcoords\": [{\"line\": {\"colorbar\": {\"outlinewidth\": 0, \"ticks\": \"\"}}, \"type\": \"parcoords\"}], \"pie\": [{\"automargin\": true, \"type\": \"pie\"}], \"scatter\": [{\"marker\": {\"colorbar\": {\"outlinewidth\": 0, \"ticks\": \"\"}}, \"type\": \"scatter\"}], \"scatter3d\": [{\"line\": {\"colorbar\": {\"outlinewidth\": 0, \"ticks\": \"\"}}, \"marker\": {\"colorbar\": {\"outlinewidth\": 0, \"ticks\": \"\"}}, \"type\": \"scatter3d\"}], \"scattercarpet\": [{\"marker\": {\"colorbar\": {\"outlinewidth\": 0, \"ticks\": \"\"}}, \"type\": \"scattercarpet\"}], \"scattergeo\": [{\"marker\": {\"colorbar\": {\"outlinewidth\": 0, \"ticks\": \"\"}}, \"type\": \"scattergeo\"}], \"scattergl\": [{\"marker\": {\"colorbar\": {\"outlinewidth\": 0, \"ticks\": \"\"}}, \"type\": \"scattergl\"}], \"scattermapbox\": [{\"marker\": {\"colorbar\": {\"outlinewidth\": 0, \"ticks\": \"\"}}, \"type\": \"scattermapbox\"}], \"scatterpolar\": [{\"marker\": {\"colorbar\": {\"outlinewidth\": 0, \"ticks\": \"\"}}, \"type\": \"scatterpolar\"}], \"scatterpolargl\": [{\"marker\": {\"colorbar\": {\"outlinewidth\": 0, \"ticks\": \"\"}}, \"type\": \"scatterpolargl\"}], \"scatterternary\": [{\"marker\": {\"colorbar\": {\"outlinewidth\": 0, \"ticks\": \"\"}}, \"type\": \"scatterternary\"}], \"surface\": [{\"colorbar\": {\"outlinewidth\": 0, \"ticks\": \"\"}, \"colorscale\": [[0.0, \"#0d0887\"], [0.1111111111111111, \"#46039f\"], [0.2222222222222222, \"#7201a8\"], [0.3333333333333333, \"#9c179e\"], [0.4444444444444444, \"#bd3786\"], [0.5555555555555556, \"#d8576b\"], [0.6666666666666666, \"#ed7953\"], [0.7777777777777778, \"#fb9f3a\"], [0.8888888888888888, \"#fdca26\"], [1.0, \"#f0f921\"]], \"type\": \"surface\"}], \"table\": [{\"cells\": {\"fill\": {\"color\": \"#EBF0F8\"}, \"line\": {\"color\": \"white\"}}, \"header\": {\"fill\": {\"color\": \"#C8D4E3\"}, \"line\": {\"color\": \"white\"}}, \"type\": \"table\"}]}, \"layout\": {\"annotationdefaults\": {\"arrowcolor\": \"#2a3f5f\", \"arrowhead\": 0, \"arrowwidth\": 1}, \"coloraxis\": {\"colorbar\": {\"outlinewidth\": 0, \"ticks\": \"\"}}, \"colorscale\": {\"diverging\": [[0, \"#8e0152\"], [0.1, \"#c51b7d\"], [0.2, \"#de77ae\"], [0.3, \"#f1b6da\"], [0.4, \"#fde0ef\"], [0.5, \"#f7f7f7\"], [0.6, \"#e6f5d0\"], [0.7, \"#b8e186\"], [0.8, \"#7fbc41\"], [0.9, \"#4d9221\"], [1, \"#276419\"]], \"sequential\": [[0.0, \"#0d0887\"], [0.1111111111111111, \"#46039f\"], [0.2222222222222222, \"#7201a8\"], [0.3333333333333333, \"#9c179e\"], [0.4444444444444444, \"#bd3786\"], [0.5555555555555556, \"#d8576b\"], [0.6666666666666666, \"#ed7953\"], [0.7777777777777778, \"#fb9f3a\"], [0.8888888888888888, \"#fdca26\"], [1.0, \"#f0f921\"]], \"sequentialminus\": [[0.0, \"#0d0887\"], [0.1111111111111111, \"#46039f\"], [0.2222222222222222, \"#7201a8\"], [0.3333333333333333, \"#9c179e\"], [0.4444444444444444, \"#bd3786\"], [0.5555555555555556, \"#d8576b\"], [0.6666666666666666, \"#ed7953\"], [0.7777777777777778, \"#fb9f3a\"], [0.8888888888888888, \"#fdca26\"], [1.0, \"#f0f921\"]]}, \"colorway\": [\"#636efa\", \"#EF553B\", \"#00cc96\", \"#ab63fa\", \"#FFA15A\", \"#19d3f3\", \"#FF6692\", \"#B6E880\", \"#FF97FF\", \"#FECB52\"], \"font\": {\"color\": \"#2a3f5f\"}, \"geo\": {\"bgcolor\": \"white\", \"lakecolor\": \"white\", \"landcolor\": \"#E5ECF6\", \"showlakes\": true, \"showland\": true, \"subunitcolor\": \"white\"}, \"hoverlabel\": {\"align\": \"left\"}, \"hovermode\": \"closest\", \"mapbox\": {\"style\": \"light\"}, \"paper_bgcolor\": \"white\", \"plot_bgcolor\": \"#E5ECF6\", \"polar\": {\"angularaxis\": {\"gridcolor\": \"white\", \"linecolor\": \"white\", \"ticks\": \"\"}, \"bgcolor\": \"#E5ECF6\", \"radialaxis\": {\"gridcolor\": \"white\", \"linecolor\": \"white\", \"ticks\": \"\"}}, \"scene\": {\"xaxis\": {\"backgroundcolor\": \"#E5ECF6\", \"gridcolor\": \"white\", \"gridwidth\": 2, \"linecolor\": \"white\", \"showbackground\": true, \"ticks\": \"\", \"zerolinecolor\": \"white\"}, \"yaxis\": {\"backgroundcolor\": \"#E5ECF6\", \"gridcolor\": \"white\", \"gridwidth\": 2, \"linecolor\": \"white\", \"showbackground\": true, \"ticks\": \"\", \"zerolinecolor\": \"white\"}, \"zaxis\": {\"backgroundcolor\": \"#E5ECF6\", \"gridcolor\": \"white\", \"gridwidth\": 2, \"linecolor\": \"white\", \"showbackground\": true, \"ticks\": \"\", \"zerolinecolor\": \"white\"}}, \"shapedefaults\": {\"line\": {\"color\": \"#2a3f5f\"}}, \"ternary\": {\"aaxis\": {\"gridcolor\": \"white\", \"linecolor\": \"white\", \"ticks\": \"\"}, \"baxis\": {\"gridcolor\": \"white\", \"linecolor\": \"white\", \"ticks\": \"\"}, \"bgcolor\": \"#E5ECF6\", \"caxis\": {\"gridcolor\": \"white\", \"linecolor\": \"white\", \"ticks\": \"\"}}, \"title\": {\"x\": 0.05}, \"xaxis\": {\"automargin\": true, \"gridcolor\": \"white\", \"linecolor\": \"white\", \"ticks\": \"\", \"title\": {\"standoff\": 15}, \"zerolinecolor\": \"white\", \"zerolinewidth\": 2}, \"yaxis\": {\"automargin\": true, \"gridcolor\": \"white\", \"linecolor\": \"white\", \"ticks\": \"\", \"title\": {\"standoff\": 15}, \"zerolinecolor\": \"white\", \"zerolinewidth\": 2}}}, \"title\": {\"text\": \"Serum creatinine distribution\"}, \"width\": 700, \"xaxis\": {\"anchor\": \"y\", \"domain\": [0.0, 1.0], \"title\": {\"text\": \"serum_creatinine\"}}, \"yaxis\": {\"anchor\": \"x\", \"domain\": [0.0, 1.0], \"title\": {\"text\": \"count\"}}},\n",
       "                        {\"responsive\": true}\n",
       "                    ).then(function(){\n",
       "                            \n",
       "var gd = document.getElementById('9f339ee0-8a25-42ed-ad85-a4c82ae1e3cb');\n",
       "var x = new MutationObserver(function (mutations, observer) {{\n",
       "        var display = window.getComputedStyle(gd).display;\n",
       "        if (!display || display === 'none') {{\n",
       "            console.log([gd, 'removed!']);\n",
       "            Plotly.purge(gd);\n",
       "            observer.disconnect();\n",
       "        }}\n",
       "}});\n",
       "\n",
       "// Listen for the removal of the full notebook cells\n",
       "var notebookContainer = gd.closest('#notebook-container');\n",
       "if (notebookContainer) {{\n",
       "    x.observe(notebookContainer, {childList: true});\n",
       "}}\n",
       "\n",
       "// Listen for the clearing of the current output cell\n",
       "var outputEl = gd.closest('.output');\n",
       "if (outputEl) {{\n",
       "    x.observe(outputEl, {childList: true});\n",
       "}}\n",
       "\n",
       "                        })\n",
       "                };\n",
       "                });\n",
       "            </script>\n",
       "        </div>"
      ]
     },
     "metadata": {},
     "output_type": "display_data"
    }
   ],
   "source": [
    "fig = px.histogram(df, \"serum_creatinine\", nbins=25, title='Serum creatinine distribution', width=700)\n",
    "fig.show()"
   ]
  },
  {
   "cell_type": "code",
   "execution_count": 13,
   "metadata": {
    "_kg_hide-input": true,
    "execution": {
     "iopub.execute_input": "2020-08-29T01:04:53.765658Z",
     "iopub.status.busy": "2020-08-29T01:04:53.747486Z",
     "iopub.status.idle": "2020-08-29T01:04:53.772138Z",
     "shell.execute_reply": "2020-08-29T01:04:53.771512Z"
    },
    "papermill": {
     "duration": 0.089513,
     "end_time": "2020-08-29T01:04:53.772302",
     "exception": false,
     "start_time": "2020-08-29T01:04:53.682789",
     "status": "completed"
    },
    "tags": []
   },
   "outputs": [
    {
     "data": {
      "text/html": [
       "<div>\n",
       "        \n",
       "        \n",
       "            <div id=\"203896eb-af1f-482e-a8de-c70ea24e5e13\" class=\"plotly-graph-div\" style=\"height:525px; width:700px;\"></div>\n",
       "            <script type=\"text/javascript\">\n",
       "                require([\"plotly\"], function(Plotly) {\n",
       "                    window.PLOTLYENV=window.PLOTLYENV || {};\n",
       "                    \n",
       "                if (document.getElementById(\"203896eb-af1f-482e-a8de-c70ea24e5e13\")) {\n",
       "                    Plotly.newPlot(\n",
       "                        '203896eb-af1f-482e-a8de-c70ea24e5e13',\n",
       "                        [{\"alignmentgroup\": \"True\", \"bingroup\": \"x\", \"hovertemplate\": \"serum_sodium=%{x}<br>count=%{y}<extra></extra>\", \"legendgroup\": \"\", \"marker\": {\"color\": \"#636efa\"}, \"name\": \"\", \"nbinsx\": 25, \"offsetgroup\": \"\", \"orientation\": \"v\", \"showlegend\": false, \"type\": \"histogram\", \"x\": [130, 136, 129, 137, 116, 132, 137, 131, 138, 133, 131, 140, 137, 137, 138, 136, 140, 127, 140, 121, 137, 136, 140, 135, 134, 144, 138, 136, 134, 132, 134, 132, 128, 138, 140, 134, 134, 145, 137, 142, 134, 136, 139, 134, 142, 135, 130, 138, 133, 140, 138, 139, 146, 134, 132, 132, 138, 138, 136, 136, 139, 131, 139, 145, 137, 127, 136, 140, 142, 135, 140, 139, 132, 137, 134, 139, 140, 140, 131, 140, 136, 137, 132, 133, 141, 140, 137, 140, 139, 144, 136, 133, 137, 135, 142, 141, 134, 136, 137, 140, 141, 137, 144, 140, 143, 138, 137, 138, 133, 142, 132, 135, 136, 137, 126, 139, 136, 138, 140, 134, 135, 136, 140, 145, 134, 135, 124, 137, 136, 145, 138, 131, 137, 145, 137, 137, 137, 130, 136, 138, 134, 140, 132, 141, 139, 141, 136, 137, 134, 136, 135, 139, 134, 137, 136, 140, 136, 136, 134, 139, 134, 139, 137, 142, 139, 135, 133, 134, 138, 133, 136, 140, 145, 139, 137, 138, 135, 140, 145, 140, 136, 136, 136, 134, 137, 136, 134, 144, 136, 140, 134, 135, 130, 142, 135, 145, 137, 138, 134, 113, 137, 136, 138, 136, 137, 136, 141, 136, 141, 130, 136, 140, 138, 130, 134, 134, 141, 137, 134, 140, 134, 145, 139, 134, 138, 125, 132, 140, 130, 134, 127, 134, 137, 137, 137, 137, 148, 132, 136, 137, 139, 136, 136, 141, 134, 137, 138, 135, 142, 130, 139, 143, 133, 132, 139, 142, 139, 139, 135, 135, 138, 133, 129, 140, 141, 140, 134, 140, 140, 132, 130, 134, 133, 140, 137, 137, 142, 140, 136, 136, 137, 136, 128, 138, 141, 135, 140, 132, 142, 144, 141, 139, 140, 136, 143, 139, 138, 140, 136], \"xaxis\": \"x\", \"yaxis\": \"y\"}],\n",
       "                        {\"barmode\": \"relative\", \"legend\": {\"tracegroupgap\": 0}, \"template\": {\"data\": {\"bar\": [{\"error_x\": {\"color\": \"#2a3f5f\"}, \"error_y\": {\"color\": \"#2a3f5f\"}, \"marker\": {\"line\": {\"color\": \"#E5ECF6\", \"width\": 0.5}}, \"type\": \"bar\"}], \"barpolar\": [{\"marker\": {\"line\": {\"color\": \"#E5ECF6\", \"width\": 0.5}}, \"type\": \"barpolar\"}], \"carpet\": [{\"aaxis\": {\"endlinecolor\": \"#2a3f5f\", \"gridcolor\": \"white\", \"linecolor\": \"white\", \"minorgridcolor\": \"white\", \"startlinecolor\": \"#2a3f5f\"}, \"baxis\": {\"endlinecolor\": \"#2a3f5f\", \"gridcolor\": \"white\", \"linecolor\": \"white\", \"minorgridcolor\": \"white\", \"startlinecolor\": \"#2a3f5f\"}, \"type\": \"carpet\"}], \"choropleth\": [{\"colorbar\": {\"outlinewidth\": 0, \"ticks\": \"\"}, \"type\": \"choropleth\"}], \"contour\": [{\"colorbar\": {\"outlinewidth\": 0, \"ticks\": \"\"}, \"colorscale\": [[0.0, \"#0d0887\"], [0.1111111111111111, \"#46039f\"], [0.2222222222222222, \"#7201a8\"], [0.3333333333333333, \"#9c179e\"], [0.4444444444444444, \"#bd3786\"], [0.5555555555555556, \"#d8576b\"], [0.6666666666666666, \"#ed7953\"], [0.7777777777777778, \"#fb9f3a\"], [0.8888888888888888, \"#fdca26\"], [1.0, \"#f0f921\"]], \"type\": \"contour\"}], \"contourcarpet\": [{\"colorbar\": {\"outlinewidth\": 0, \"ticks\": \"\"}, \"type\": \"contourcarpet\"}], \"heatmap\": [{\"colorbar\": {\"outlinewidth\": 0, \"ticks\": \"\"}, \"colorscale\": [[0.0, \"#0d0887\"], [0.1111111111111111, \"#46039f\"], [0.2222222222222222, \"#7201a8\"], [0.3333333333333333, \"#9c179e\"], [0.4444444444444444, \"#bd3786\"], [0.5555555555555556, \"#d8576b\"], [0.6666666666666666, \"#ed7953\"], [0.7777777777777778, \"#fb9f3a\"], [0.8888888888888888, \"#fdca26\"], [1.0, \"#f0f921\"]], \"type\": \"heatmap\"}], \"heatmapgl\": [{\"colorbar\": {\"outlinewidth\": 0, \"ticks\": \"\"}, \"colorscale\": [[0.0, \"#0d0887\"], [0.1111111111111111, \"#46039f\"], [0.2222222222222222, \"#7201a8\"], [0.3333333333333333, \"#9c179e\"], [0.4444444444444444, \"#bd3786\"], [0.5555555555555556, \"#d8576b\"], [0.6666666666666666, \"#ed7953\"], [0.7777777777777778, \"#fb9f3a\"], [0.8888888888888888, \"#fdca26\"], [1.0, \"#f0f921\"]], \"type\": \"heatmapgl\"}], \"histogram\": [{\"marker\": {\"colorbar\": {\"outlinewidth\": 0, \"ticks\": \"\"}}, \"type\": \"histogram\"}], \"histogram2d\": [{\"colorbar\": {\"outlinewidth\": 0, \"ticks\": \"\"}, \"colorscale\": [[0.0, \"#0d0887\"], [0.1111111111111111, \"#46039f\"], [0.2222222222222222, \"#7201a8\"], [0.3333333333333333, \"#9c179e\"], [0.4444444444444444, \"#bd3786\"], [0.5555555555555556, \"#d8576b\"], [0.6666666666666666, \"#ed7953\"], [0.7777777777777778, \"#fb9f3a\"], [0.8888888888888888, \"#fdca26\"], [1.0, \"#f0f921\"]], \"type\": \"histogram2d\"}], \"histogram2dcontour\": [{\"colorbar\": {\"outlinewidth\": 0, \"ticks\": \"\"}, \"colorscale\": [[0.0, \"#0d0887\"], [0.1111111111111111, \"#46039f\"], [0.2222222222222222, \"#7201a8\"], [0.3333333333333333, \"#9c179e\"], [0.4444444444444444, \"#bd3786\"], [0.5555555555555556, \"#d8576b\"], [0.6666666666666666, \"#ed7953\"], [0.7777777777777778, \"#fb9f3a\"], [0.8888888888888888, \"#fdca26\"], [1.0, \"#f0f921\"]], \"type\": \"histogram2dcontour\"}], \"mesh3d\": [{\"colorbar\": {\"outlinewidth\": 0, \"ticks\": \"\"}, \"type\": \"mesh3d\"}], \"parcoords\": [{\"line\": {\"colorbar\": {\"outlinewidth\": 0, \"ticks\": \"\"}}, \"type\": \"parcoords\"}], \"pie\": [{\"automargin\": true, \"type\": \"pie\"}], \"scatter\": [{\"marker\": {\"colorbar\": {\"outlinewidth\": 0, \"ticks\": \"\"}}, \"type\": \"scatter\"}], \"scatter3d\": [{\"line\": {\"colorbar\": {\"outlinewidth\": 0, \"ticks\": \"\"}}, \"marker\": {\"colorbar\": {\"outlinewidth\": 0, \"ticks\": \"\"}}, \"type\": \"scatter3d\"}], \"scattercarpet\": [{\"marker\": {\"colorbar\": {\"outlinewidth\": 0, \"ticks\": \"\"}}, \"type\": \"scattercarpet\"}], \"scattergeo\": [{\"marker\": {\"colorbar\": {\"outlinewidth\": 0, \"ticks\": \"\"}}, \"type\": \"scattergeo\"}], \"scattergl\": [{\"marker\": {\"colorbar\": {\"outlinewidth\": 0, \"ticks\": \"\"}}, \"type\": \"scattergl\"}], \"scattermapbox\": [{\"marker\": {\"colorbar\": {\"outlinewidth\": 0, \"ticks\": \"\"}}, \"type\": \"scattermapbox\"}], \"scatterpolar\": [{\"marker\": {\"colorbar\": {\"outlinewidth\": 0, \"ticks\": \"\"}}, \"type\": \"scatterpolar\"}], \"scatterpolargl\": [{\"marker\": {\"colorbar\": {\"outlinewidth\": 0, \"ticks\": \"\"}}, \"type\": \"scatterpolargl\"}], \"scatterternary\": [{\"marker\": {\"colorbar\": {\"outlinewidth\": 0, \"ticks\": \"\"}}, \"type\": \"scatterternary\"}], \"surface\": [{\"colorbar\": {\"outlinewidth\": 0, \"ticks\": \"\"}, \"colorscale\": [[0.0, \"#0d0887\"], [0.1111111111111111, \"#46039f\"], [0.2222222222222222, \"#7201a8\"], [0.3333333333333333, \"#9c179e\"], [0.4444444444444444, \"#bd3786\"], [0.5555555555555556, \"#d8576b\"], [0.6666666666666666, \"#ed7953\"], [0.7777777777777778, \"#fb9f3a\"], [0.8888888888888888, \"#fdca26\"], [1.0, \"#f0f921\"]], \"type\": \"surface\"}], \"table\": [{\"cells\": {\"fill\": {\"color\": \"#EBF0F8\"}, \"line\": {\"color\": \"white\"}}, \"header\": {\"fill\": {\"color\": \"#C8D4E3\"}, \"line\": {\"color\": \"white\"}}, \"type\": \"table\"}]}, \"layout\": {\"annotationdefaults\": {\"arrowcolor\": \"#2a3f5f\", \"arrowhead\": 0, \"arrowwidth\": 1}, \"coloraxis\": {\"colorbar\": {\"outlinewidth\": 0, \"ticks\": \"\"}}, \"colorscale\": {\"diverging\": [[0, \"#8e0152\"], [0.1, \"#c51b7d\"], [0.2, \"#de77ae\"], [0.3, \"#f1b6da\"], [0.4, \"#fde0ef\"], [0.5, \"#f7f7f7\"], [0.6, \"#e6f5d0\"], [0.7, \"#b8e186\"], [0.8, \"#7fbc41\"], [0.9, \"#4d9221\"], [1, \"#276419\"]], \"sequential\": [[0.0, \"#0d0887\"], [0.1111111111111111, \"#46039f\"], [0.2222222222222222, \"#7201a8\"], [0.3333333333333333, \"#9c179e\"], [0.4444444444444444, \"#bd3786\"], [0.5555555555555556, \"#d8576b\"], [0.6666666666666666, \"#ed7953\"], [0.7777777777777778, \"#fb9f3a\"], [0.8888888888888888, \"#fdca26\"], [1.0, \"#f0f921\"]], \"sequentialminus\": [[0.0, \"#0d0887\"], [0.1111111111111111, \"#46039f\"], [0.2222222222222222, \"#7201a8\"], [0.3333333333333333, \"#9c179e\"], [0.4444444444444444, \"#bd3786\"], [0.5555555555555556, \"#d8576b\"], [0.6666666666666666, \"#ed7953\"], [0.7777777777777778, \"#fb9f3a\"], [0.8888888888888888, \"#fdca26\"], [1.0, \"#f0f921\"]]}, \"colorway\": [\"#636efa\", \"#EF553B\", \"#00cc96\", \"#ab63fa\", \"#FFA15A\", \"#19d3f3\", \"#FF6692\", \"#B6E880\", \"#FF97FF\", \"#FECB52\"], \"font\": {\"color\": \"#2a3f5f\"}, \"geo\": {\"bgcolor\": \"white\", \"lakecolor\": \"white\", \"landcolor\": \"#E5ECF6\", \"showlakes\": true, \"showland\": true, \"subunitcolor\": \"white\"}, \"hoverlabel\": {\"align\": \"left\"}, \"hovermode\": \"closest\", \"mapbox\": {\"style\": \"light\"}, \"paper_bgcolor\": \"white\", \"plot_bgcolor\": \"#E5ECF6\", \"polar\": {\"angularaxis\": {\"gridcolor\": \"white\", \"linecolor\": \"white\", \"ticks\": \"\"}, \"bgcolor\": \"#E5ECF6\", \"radialaxis\": {\"gridcolor\": \"white\", \"linecolor\": \"white\", \"ticks\": \"\"}}, \"scene\": {\"xaxis\": {\"backgroundcolor\": \"#E5ECF6\", \"gridcolor\": \"white\", \"gridwidth\": 2, \"linecolor\": \"white\", \"showbackground\": true, \"ticks\": \"\", \"zerolinecolor\": \"white\"}, \"yaxis\": {\"backgroundcolor\": \"#E5ECF6\", \"gridcolor\": \"white\", \"gridwidth\": 2, \"linecolor\": \"white\", \"showbackground\": true, \"ticks\": \"\", \"zerolinecolor\": \"white\"}, \"zaxis\": {\"backgroundcolor\": \"#E5ECF6\", \"gridcolor\": \"white\", \"gridwidth\": 2, \"linecolor\": \"white\", \"showbackground\": true, \"ticks\": \"\", \"zerolinecolor\": \"white\"}}, \"shapedefaults\": {\"line\": {\"color\": \"#2a3f5f\"}}, \"ternary\": {\"aaxis\": {\"gridcolor\": \"white\", \"linecolor\": \"white\", \"ticks\": \"\"}, \"baxis\": {\"gridcolor\": \"white\", \"linecolor\": \"white\", \"ticks\": \"\"}, \"bgcolor\": \"#E5ECF6\", \"caxis\": {\"gridcolor\": \"white\", \"linecolor\": \"white\", \"ticks\": \"\"}}, \"title\": {\"x\": 0.05}, \"xaxis\": {\"automargin\": true, \"gridcolor\": \"white\", \"linecolor\": \"white\", \"ticks\": \"\", \"title\": {\"standoff\": 15}, \"zerolinecolor\": \"white\", \"zerolinewidth\": 2}, \"yaxis\": {\"automargin\": true, \"gridcolor\": \"white\", \"linecolor\": \"white\", \"ticks\": \"\", \"title\": {\"standoff\": 15}, \"zerolinecolor\": \"white\", \"zerolinewidth\": 2}}}, \"title\": {\"text\": \"Serum sodium distribution\"}, \"width\": 700, \"xaxis\": {\"anchor\": \"y\", \"domain\": [0.0, 1.0], \"title\": {\"text\": \"serum_sodium\"}}, \"yaxis\": {\"anchor\": \"x\", \"domain\": [0.0, 1.0], \"title\": {\"text\": \"count\"}}},\n",
       "                        {\"responsive\": true}\n",
       "                    ).then(function(){\n",
       "                            \n",
       "var gd = document.getElementById('203896eb-af1f-482e-a8de-c70ea24e5e13');\n",
       "var x = new MutationObserver(function (mutations, observer) {{\n",
       "        var display = window.getComputedStyle(gd).display;\n",
       "        if (!display || display === 'none') {{\n",
       "            console.log([gd, 'removed!']);\n",
       "            Plotly.purge(gd);\n",
       "            observer.disconnect();\n",
       "        }}\n",
       "}});\n",
       "\n",
       "// Listen for the removal of the full notebook cells\n",
       "var notebookContainer = gd.closest('#notebook-container');\n",
       "if (notebookContainer) {{\n",
       "    x.observe(notebookContainer, {childList: true});\n",
       "}}\n",
       "\n",
       "// Listen for the clearing of the current output cell\n",
       "var outputEl = gd.closest('.output');\n",
       "if (outputEl) {{\n",
       "    x.observe(outputEl, {childList: true});\n",
       "}}\n",
       "\n",
       "                        })\n",
       "                };\n",
       "                });\n",
       "            </script>\n",
       "        </div>"
      ]
     },
     "metadata": {},
     "output_type": "display_data"
    }
   ],
   "source": [
    "fig = px.histogram(df, \"serum_sodium\", nbins=25, title='Serum sodium distribution', width=700)\n",
    "fig.show()"
   ]
  },
  {
   "cell_type": "code",
   "execution_count": 14,
   "metadata": {
    "_kg_hide-input": true,
    "execution": {
     "iopub.execute_input": "2020-08-29T01:04:53.835114Z",
     "iopub.status.busy": "2020-08-29T01:04:53.820359Z",
     "iopub.status.idle": "2020-08-29T01:04:53.877507Z",
     "shell.execute_reply": "2020-08-29T01:04:53.876757Z"
    },
    "papermill": {
     "duration": 0.084797,
     "end_time": "2020-08-29T01:04:53.877686",
     "exception": false,
     "start_time": "2020-08-29T01:04:53.792889",
     "status": "completed"
    },
    "tags": []
   },
   "outputs": [
    {
     "data": {
      "text/html": [
       "<div>\n",
       "        \n",
       "        \n",
       "            <div id=\"cfd100d5-3eea-4c5c-a473-fb1888b3c6be\" class=\"plotly-graph-div\" style=\"height:500px; width:600px;\"></div>\n",
       "            <script type=\"text/javascript\">\n",
       "                require([\"plotly\"], function(Plotly) {\n",
       "                    window.PLOTLYENV=window.PLOTLYENV || {};\n",
       "                    \n",
       "                if (document.getElementById(\"cfd100d5-3eea-4c5c-a473-fb1888b3c6be\")) {\n",
       "                    Plotly.newPlot(\n",
       "                        'cfd100d5-3eea-4c5c-a473-fb1888b3c6be',\n",
       "                        [{\"domain\": {\"x\": [0.0, 1.0], \"y\": [0.0, 1.0]}, \"hovertemplate\": \"sex=%{label}<br>count=%{value}<extra></extra>\", \"labels\": [1, 0], \"legendgroup\": \"\", \"name\": \"\", \"showlegend\": true, \"type\": \"pie\", \"values\": [194, 105]}],\n",
       "                        {\"height\": 500, \"legend\": {\"tracegroupgap\": 0}, \"template\": {\"data\": {\"bar\": [{\"error_x\": {\"color\": \"#2a3f5f\"}, \"error_y\": {\"color\": \"#2a3f5f\"}, \"marker\": {\"line\": {\"color\": \"#E5ECF6\", \"width\": 0.5}}, \"type\": \"bar\"}], \"barpolar\": [{\"marker\": {\"line\": {\"color\": \"#E5ECF6\", \"width\": 0.5}}, \"type\": \"barpolar\"}], \"carpet\": [{\"aaxis\": {\"endlinecolor\": \"#2a3f5f\", \"gridcolor\": \"white\", \"linecolor\": \"white\", \"minorgridcolor\": \"white\", \"startlinecolor\": \"#2a3f5f\"}, \"baxis\": {\"endlinecolor\": \"#2a3f5f\", \"gridcolor\": \"white\", \"linecolor\": \"white\", \"minorgridcolor\": \"white\", \"startlinecolor\": \"#2a3f5f\"}, \"type\": \"carpet\"}], \"choropleth\": [{\"colorbar\": {\"outlinewidth\": 0, \"ticks\": \"\"}, \"type\": \"choropleth\"}], \"contour\": [{\"colorbar\": {\"outlinewidth\": 0, \"ticks\": \"\"}, \"colorscale\": [[0.0, \"#0d0887\"], [0.1111111111111111, \"#46039f\"], [0.2222222222222222, \"#7201a8\"], [0.3333333333333333, \"#9c179e\"], [0.4444444444444444, \"#bd3786\"], [0.5555555555555556, \"#d8576b\"], [0.6666666666666666, \"#ed7953\"], [0.7777777777777778, \"#fb9f3a\"], [0.8888888888888888, \"#fdca26\"], [1.0, \"#f0f921\"]], \"type\": \"contour\"}], \"contourcarpet\": [{\"colorbar\": {\"outlinewidth\": 0, \"ticks\": \"\"}, \"type\": \"contourcarpet\"}], \"heatmap\": [{\"colorbar\": {\"outlinewidth\": 0, \"ticks\": \"\"}, \"colorscale\": [[0.0, \"#0d0887\"], [0.1111111111111111, \"#46039f\"], [0.2222222222222222, \"#7201a8\"], [0.3333333333333333, \"#9c179e\"], [0.4444444444444444, \"#bd3786\"], [0.5555555555555556, \"#d8576b\"], [0.6666666666666666, \"#ed7953\"], [0.7777777777777778, \"#fb9f3a\"], [0.8888888888888888, \"#fdca26\"], [1.0, \"#f0f921\"]], \"type\": \"heatmap\"}], \"heatmapgl\": [{\"colorbar\": {\"outlinewidth\": 0, \"ticks\": \"\"}, \"colorscale\": [[0.0, \"#0d0887\"], [0.1111111111111111, \"#46039f\"], [0.2222222222222222, \"#7201a8\"], [0.3333333333333333, \"#9c179e\"], [0.4444444444444444, \"#bd3786\"], [0.5555555555555556, \"#d8576b\"], [0.6666666666666666, \"#ed7953\"], [0.7777777777777778, \"#fb9f3a\"], [0.8888888888888888, \"#fdca26\"], [1.0, \"#f0f921\"]], \"type\": \"heatmapgl\"}], \"histogram\": [{\"marker\": {\"colorbar\": {\"outlinewidth\": 0, \"ticks\": \"\"}}, \"type\": \"histogram\"}], \"histogram2d\": [{\"colorbar\": {\"outlinewidth\": 0, \"ticks\": \"\"}, \"colorscale\": [[0.0, \"#0d0887\"], [0.1111111111111111, \"#46039f\"], [0.2222222222222222, \"#7201a8\"], [0.3333333333333333, \"#9c179e\"], [0.4444444444444444, \"#bd3786\"], [0.5555555555555556, \"#d8576b\"], [0.6666666666666666, \"#ed7953\"], [0.7777777777777778, \"#fb9f3a\"], [0.8888888888888888, \"#fdca26\"], [1.0, \"#f0f921\"]], \"type\": \"histogram2d\"}], \"histogram2dcontour\": [{\"colorbar\": {\"outlinewidth\": 0, \"ticks\": \"\"}, \"colorscale\": [[0.0, \"#0d0887\"], [0.1111111111111111, \"#46039f\"], [0.2222222222222222, \"#7201a8\"], [0.3333333333333333, \"#9c179e\"], [0.4444444444444444, \"#bd3786\"], [0.5555555555555556, \"#d8576b\"], [0.6666666666666666, \"#ed7953\"], [0.7777777777777778, \"#fb9f3a\"], [0.8888888888888888, \"#fdca26\"], [1.0, \"#f0f921\"]], \"type\": \"histogram2dcontour\"}], \"mesh3d\": [{\"colorbar\": {\"outlinewidth\": 0, \"ticks\": \"\"}, \"type\": \"mesh3d\"}], \"parcoords\": [{\"line\": {\"colorbar\": {\"outlinewidth\": 0, \"ticks\": \"\"}}, \"type\": \"parcoords\"}], \"pie\": [{\"automargin\": true, \"type\": \"pie\"}], \"scatter\": [{\"marker\": {\"colorbar\": {\"outlinewidth\": 0, \"ticks\": \"\"}}, \"type\": \"scatter\"}], \"scatter3d\": [{\"line\": {\"colorbar\": {\"outlinewidth\": 0, \"ticks\": \"\"}}, \"marker\": {\"colorbar\": {\"outlinewidth\": 0, \"ticks\": \"\"}}, \"type\": \"scatter3d\"}], \"scattercarpet\": [{\"marker\": {\"colorbar\": {\"outlinewidth\": 0, \"ticks\": \"\"}}, \"type\": \"scattercarpet\"}], \"scattergeo\": [{\"marker\": {\"colorbar\": {\"outlinewidth\": 0, \"ticks\": \"\"}}, \"type\": \"scattergeo\"}], \"scattergl\": [{\"marker\": {\"colorbar\": {\"outlinewidth\": 0, \"ticks\": \"\"}}, \"type\": \"scattergl\"}], \"scattermapbox\": [{\"marker\": {\"colorbar\": {\"outlinewidth\": 0, \"ticks\": \"\"}}, \"type\": \"scattermapbox\"}], \"scatterpolar\": [{\"marker\": {\"colorbar\": {\"outlinewidth\": 0, \"ticks\": \"\"}}, \"type\": \"scatterpolar\"}], \"scatterpolargl\": [{\"marker\": {\"colorbar\": {\"outlinewidth\": 0, \"ticks\": \"\"}}, \"type\": \"scatterpolargl\"}], \"scatterternary\": [{\"marker\": {\"colorbar\": {\"outlinewidth\": 0, \"ticks\": \"\"}}, \"type\": \"scatterternary\"}], \"surface\": [{\"colorbar\": {\"outlinewidth\": 0, \"ticks\": \"\"}, \"colorscale\": [[0.0, \"#0d0887\"], [0.1111111111111111, \"#46039f\"], [0.2222222222222222, \"#7201a8\"], [0.3333333333333333, \"#9c179e\"], [0.4444444444444444, \"#bd3786\"], [0.5555555555555556, \"#d8576b\"], [0.6666666666666666, \"#ed7953\"], [0.7777777777777778, \"#fb9f3a\"], [0.8888888888888888, \"#fdca26\"], [1.0, \"#f0f921\"]], \"type\": \"surface\"}], \"table\": [{\"cells\": {\"fill\": {\"color\": \"#EBF0F8\"}, \"line\": {\"color\": \"white\"}}, \"header\": {\"fill\": {\"color\": \"#C8D4E3\"}, \"line\": {\"color\": \"white\"}}, \"type\": \"table\"}]}, \"layout\": {\"annotationdefaults\": {\"arrowcolor\": \"#2a3f5f\", \"arrowhead\": 0, \"arrowwidth\": 1}, \"coloraxis\": {\"colorbar\": {\"outlinewidth\": 0, \"ticks\": \"\"}}, \"colorscale\": {\"diverging\": [[0, \"#8e0152\"], [0.1, \"#c51b7d\"], [0.2, \"#de77ae\"], [0.3, \"#f1b6da\"], [0.4, \"#fde0ef\"], [0.5, \"#f7f7f7\"], [0.6, \"#e6f5d0\"], [0.7, \"#b8e186\"], [0.8, \"#7fbc41\"], [0.9, \"#4d9221\"], [1, \"#276419\"]], \"sequential\": [[0.0, \"#0d0887\"], [0.1111111111111111, \"#46039f\"], [0.2222222222222222, \"#7201a8\"], [0.3333333333333333, \"#9c179e\"], [0.4444444444444444, \"#bd3786\"], [0.5555555555555556, \"#d8576b\"], [0.6666666666666666, \"#ed7953\"], [0.7777777777777778, \"#fb9f3a\"], [0.8888888888888888, \"#fdca26\"], [1.0, \"#f0f921\"]], \"sequentialminus\": [[0.0, \"#0d0887\"], [0.1111111111111111, \"#46039f\"], [0.2222222222222222, \"#7201a8\"], [0.3333333333333333, \"#9c179e\"], [0.4444444444444444, \"#bd3786\"], [0.5555555555555556, \"#d8576b\"], [0.6666666666666666, \"#ed7953\"], [0.7777777777777778, \"#fb9f3a\"], [0.8888888888888888, \"#fdca26\"], [1.0, \"#f0f921\"]]}, \"colorway\": [\"#636efa\", \"#EF553B\", \"#00cc96\", \"#ab63fa\", \"#FFA15A\", \"#19d3f3\", \"#FF6692\", \"#B6E880\", \"#FF97FF\", \"#FECB52\"], \"font\": {\"color\": \"#2a3f5f\"}, \"geo\": {\"bgcolor\": \"white\", \"lakecolor\": \"white\", \"landcolor\": \"#E5ECF6\", \"showlakes\": true, \"showland\": true, \"subunitcolor\": \"white\"}, \"hoverlabel\": {\"align\": \"left\"}, \"hovermode\": \"closest\", \"mapbox\": {\"style\": \"light\"}, \"paper_bgcolor\": \"white\", \"plot_bgcolor\": \"#E5ECF6\", \"polar\": {\"angularaxis\": {\"gridcolor\": \"white\", \"linecolor\": \"white\", \"ticks\": \"\"}, \"bgcolor\": \"#E5ECF6\", \"radialaxis\": {\"gridcolor\": \"white\", \"linecolor\": \"white\", \"ticks\": \"\"}}, \"scene\": {\"xaxis\": {\"backgroundcolor\": \"#E5ECF6\", \"gridcolor\": \"white\", \"gridwidth\": 2, \"linecolor\": \"white\", \"showbackground\": true, \"ticks\": \"\", \"zerolinecolor\": \"white\"}, \"yaxis\": {\"backgroundcolor\": \"#E5ECF6\", \"gridcolor\": \"white\", \"gridwidth\": 2, \"linecolor\": \"white\", \"showbackground\": true, \"ticks\": \"\", \"zerolinecolor\": \"white\"}, \"zaxis\": {\"backgroundcolor\": \"#E5ECF6\", \"gridcolor\": \"white\", \"gridwidth\": 2, \"linecolor\": \"white\", \"showbackground\": true, \"ticks\": \"\", \"zerolinecolor\": \"white\"}}, \"shapedefaults\": {\"line\": {\"color\": \"#2a3f5f\"}}, \"ternary\": {\"aaxis\": {\"gridcolor\": \"white\", \"linecolor\": \"white\", \"ticks\": \"\"}, \"baxis\": {\"gridcolor\": \"white\", \"linecolor\": \"white\", \"ticks\": \"\"}, \"bgcolor\": \"#E5ECF6\", \"caxis\": {\"gridcolor\": \"white\", \"linecolor\": \"white\", \"ticks\": \"\"}}, \"title\": {\"x\": 0.05}, \"xaxis\": {\"automargin\": true, \"gridcolor\": \"white\", \"linecolor\": \"white\", \"ticks\": \"\", \"title\": {\"standoff\": 15}, \"zerolinecolor\": \"white\", \"zerolinewidth\": 2}, \"yaxis\": {\"automargin\": true, \"gridcolor\": \"white\", \"linecolor\": \"white\", \"ticks\": \"\", \"title\": {\"standoff\": 15}, \"zerolinecolor\": \"white\", \"zerolinewidth\": 2}}}, \"title\": {\"text\": \"Gender bar chart\"}, \"width\": 600},\n",
       "                        {\"responsive\": true}\n",
       "                    ).then(function(){\n",
       "                            \n",
       "var gd = document.getElementById('cfd100d5-3eea-4c5c-a473-fb1888b3c6be');\n",
       "var x = new MutationObserver(function (mutations, observer) {{\n",
       "        var display = window.getComputedStyle(gd).display;\n",
       "        if (!display || display === 'none') {{\n",
       "            console.log([gd, 'removed!']);\n",
       "            Plotly.purge(gd);\n",
       "            observer.disconnect();\n",
       "        }}\n",
       "}});\n",
       "\n",
       "// Listen for the removal of the full notebook cells\n",
       "var notebookContainer = gd.closest('#notebook-container');\n",
       "if (notebookContainer) {{\n",
       "    x.observe(notebookContainer, {childList: true});\n",
       "}}\n",
       "\n",
       "// Listen for the clearing of the current output cell\n",
       "var outputEl = gd.closest('.output');\n",
       "if (outputEl) {{\n",
       "    x.observe(outputEl, {childList: true});\n",
       "}}\n",
       "\n",
       "                        })\n",
       "                };\n",
       "                });\n",
       "            </script>\n",
       "        </div>"
      ]
     },
     "metadata": {},
     "output_type": "display_data"
    }
   ],
   "source": [
    "ds = df['sex'].value_counts().reset_index()\n",
    "ds.columns = ['sex', 'count']\n",
    "fig = px.pie(ds, values='count', names=\"sex\", title='Gender bar chart', width=600, height=500)\n",
    "fig.show()"
   ]
  },
  {
   "cell_type": "code",
   "execution_count": 15,
   "metadata": {
    "_kg_hide-input": true,
    "execution": {
     "iopub.execute_input": "2020-08-29T01:04:53.939911Z",
     "iopub.status.busy": "2020-08-29T01:04:53.939005Z",
     "iopub.status.idle": "2020-08-29T01:04:54.007504Z",
     "shell.execute_reply": "2020-08-29T01:04:54.006651Z"
    },
    "papermill": {
     "duration": 0.108382,
     "end_time": "2020-08-29T01:04:54.007637",
     "exception": false,
     "start_time": "2020-08-29T01:04:53.899255",
     "status": "completed"
    },
    "tags": []
   },
   "outputs": [
    {
     "data": {
      "text/html": [
       "<div>\n",
       "        \n",
       "        \n",
       "            <div id=\"45b6c615-2518-4c85-8394-6e1ed132c914\" class=\"plotly-graph-div\" style=\"height:400px; width:600px;\"></div>\n",
       "            <script type=\"text/javascript\">\n",
       "                require([\"plotly\"], function(Plotly) {\n",
       "                    window.PLOTLYENV=window.PLOTLYENV || {};\n",
       "                    \n",
       "                if (document.getElementById(\"45b6c615-2518-4c85-8394-6e1ed132c914\")) {\n",
       "                    Plotly.newPlot(\n",
       "                        '45b6c615-2518-4c85-8394-6e1ed132c914',\n",
       "                        [{\"alignmentgroup\": \"True\", \"hovertemplate\": \"count=%{x}<br>smoking=%{y}<extra></extra>\", \"legendgroup\": \"\", \"marker\": {\"color\": \"#636efa\"}, \"name\": \"\", \"offsetgroup\": \"\", \"orientation\": \"h\", \"showlegend\": false, \"textposition\": \"auto\", \"type\": \"bar\", \"x\": [203, 96], \"xaxis\": \"x\", \"y\": [0, 1], \"yaxis\": \"y\"}],\n",
       "                        {\"barmode\": \"relative\", \"height\": 400, \"legend\": {\"tracegroupgap\": 0}, \"template\": {\"data\": {\"bar\": [{\"error_x\": {\"color\": \"#2a3f5f\"}, \"error_y\": {\"color\": \"#2a3f5f\"}, \"marker\": {\"line\": {\"color\": \"#E5ECF6\", \"width\": 0.5}}, \"type\": \"bar\"}], \"barpolar\": [{\"marker\": {\"line\": {\"color\": \"#E5ECF6\", \"width\": 0.5}}, \"type\": \"barpolar\"}], \"carpet\": [{\"aaxis\": {\"endlinecolor\": \"#2a3f5f\", \"gridcolor\": \"white\", \"linecolor\": \"white\", \"minorgridcolor\": \"white\", \"startlinecolor\": \"#2a3f5f\"}, \"baxis\": {\"endlinecolor\": \"#2a3f5f\", \"gridcolor\": \"white\", \"linecolor\": \"white\", \"minorgridcolor\": \"white\", \"startlinecolor\": \"#2a3f5f\"}, \"type\": \"carpet\"}], \"choropleth\": [{\"colorbar\": {\"outlinewidth\": 0, \"ticks\": \"\"}, \"type\": \"choropleth\"}], \"contour\": [{\"colorbar\": {\"outlinewidth\": 0, \"ticks\": \"\"}, \"colorscale\": [[0.0, \"#0d0887\"], [0.1111111111111111, \"#46039f\"], [0.2222222222222222, \"#7201a8\"], [0.3333333333333333, \"#9c179e\"], [0.4444444444444444, \"#bd3786\"], [0.5555555555555556, \"#d8576b\"], [0.6666666666666666, \"#ed7953\"], [0.7777777777777778, \"#fb9f3a\"], [0.8888888888888888, \"#fdca26\"], [1.0, \"#f0f921\"]], \"type\": \"contour\"}], \"contourcarpet\": [{\"colorbar\": {\"outlinewidth\": 0, \"ticks\": \"\"}, \"type\": \"contourcarpet\"}], \"heatmap\": [{\"colorbar\": {\"outlinewidth\": 0, \"ticks\": \"\"}, \"colorscale\": [[0.0, \"#0d0887\"], [0.1111111111111111, \"#46039f\"], [0.2222222222222222, \"#7201a8\"], [0.3333333333333333, \"#9c179e\"], [0.4444444444444444, \"#bd3786\"], [0.5555555555555556, \"#d8576b\"], [0.6666666666666666, \"#ed7953\"], [0.7777777777777778, \"#fb9f3a\"], [0.8888888888888888, \"#fdca26\"], [1.0, \"#f0f921\"]], \"type\": \"heatmap\"}], \"heatmapgl\": [{\"colorbar\": {\"outlinewidth\": 0, \"ticks\": \"\"}, \"colorscale\": [[0.0, \"#0d0887\"], [0.1111111111111111, \"#46039f\"], [0.2222222222222222, \"#7201a8\"], [0.3333333333333333, \"#9c179e\"], [0.4444444444444444, \"#bd3786\"], [0.5555555555555556, \"#d8576b\"], [0.6666666666666666, \"#ed7953\"], [0.7777777777777778, \"#fb9f3a\"], [0.8888888888888888, \"#fdca26\"], [1.0, \"#f0f921\"]], \"type\": \"heatmapgl\"}], \"histogram\": [{\"marker\": {\"colorbar\": {\"outlinewidth\": 0, \"ticks\": \"\"}}, \"type\": \"histogram\"}], \"histogram2d\": [{\"colorbar\": {\"outlinewidth\": 0, \"ticks\": \"\"}, \"colorscale\": [[0.0, \"#0d0887\"], [0.1111111111111111, \"#46039f\"], [0.2222222222222222, \"#7201a8\"], [0.3333333333333333, \"#9c179e\"], [0.4444444444444444, \"#bd3786\"], [0.5555555555555556, \"#d8576b\"], [0.6666666666666666, \"#ed7953\"], [0.7777777777777778, \"#fb9f3a\"], [0.8888888888888888, \"#fdca26\"], [1.0, \"#f0f921\"]], \"type\": \"histogram2d\"}], \"histogram2dcontour\": [{\"colorbar\": {\"outlinewidth\": 0, \"ticks\": \"\"}, \"colorscale\": [[0.0, \"#0d0887\"], [0.1111111111111111, \"#46039f\"], [0.2222222222222222, \"#7201a8\"], [0.3333333333333333, \"#9c179e\"], [0.4444444444444444, \"#bd3786\"], [0.5555555555555556, \"#d8576b\"], [0.6666666666666666, \"#ed7953\"], [0.7777777777777778, \"#fb9f3a\"], [0.8888888888888888, \"#fdca26\"], [1.0, \"#f0f921\"]], \"type\": \"histogram2dcontour\"}], \"mesh3d\": [{\"colorbar\": {\"outlinewidth\": 0, \"ticks\": \"\"}, \"type\": \"mesh3d\"}], \"parcoords\": [{\"line\": {\"colorbar\": {\"outlinewidth\": 0, \"ticks\": \"\"}}, \"type\": \"parcoords\"}], \"pie\": [{\"automargin\": true, \"type\": \"pie\"}], \"scatter\": [{\"marker\": {\"colorbar\": {\"outlinewidth\": 0, \"ticks\": \"\"}}, \"type\": \"scatter\"}], \"scatter3d\": [{\"line\": {\"colorbar\": {\"outlinewidth\": 0, \"ticks\": \"\"}}, \"marker\": {\"colorbar\": {\"outlinewidth\": 0, \"ticks\": \"\"}}, \"type\": \"scatter3d\"}], \"scattercarpet\": [{\"marker\": {\"colorbar\": {\"outlinewidth\": 0, \"ticks\": \"\"}}, \"type\": \"scattercarpet\"}], \"scattergeo\": [{\"marker\": {\"colorbar\": {\"outlinewidth\": 0, \"ticks\": \"\"}}, \"type\": \"scattergeo\"}], \"scattergl\": [{\"marker\": {\"colorbar\": {\"outlinewidth\": 0, \"ticks\": \"\"}}, \"type\": \"scattergl\"}], \"scattermapbox\": [{\"marker\": {\"colorbar\": {\"outlinewidth\": 0, \"ticks\": \"\"}}, \"type\": \"scattermapbox\"}], \"scatterpolar\": [{\"marker\": {\"colorbar\": {\"outlinewidth\": 0, \"ticks\": \"\"}}, \"type\": \"scatterpolar\"}], \"scatterpolargl\": [{\"marker\": {\"colorbar\": {\"outlinewidth\": 0, \"ticks\": \"\"}}, \"type\": \"scatterpolargl\"}], \"scatterternary\": [{\"marker\": {\"colorbar\": {\"outlinewidth\": 0, \"ticks\": \"\"}}, \"type\": \"scatterternary\"}], \"surface\": [{\"colorbar\": {\"outlinewidth\": 0, \"ticks\": \"\"}, \"colorscale\": [[0.0, \"#0d0887\"], [0.1111111111111111, \"#46039f\"], [0.2222222222222222, \"#7201a8\"], [0.3333333333333333, \"#9c179e\"], [0.4444444444444444, \"#bd3786\"], [0.5555555555555556, \"#d8576b\"], [0.6666666666666666, \"#ed7953\"], [0.7777777777777778, \"#fb9f3a\"], [0.8888888888888888, \"#fdca26\"], [1.0, \"#f0f921\"]], \"type\": \"surface\"}], \"table\": [{\"cells\": {\"fill\": {\"color\": \"#EBF0F8\"}, \"line\": {\"color\": \"white\"}}, \"header\": {\"fill\": {\"color\": \"#C8D4E3\"}, \"line\": {\"color\": \"white\"}}, \"type\": \"table\"}]}, \"layout\": {\"annotationdefaults\": {\"arrowcolor\": \"#2a3f5f\", \"arrowhead\": 0, \"arrowwidth\": 1}, \"coloraxis\": {\"colorbar\": {\"outlinewidth\": 0, \"ticks\": \"\"}}, \"colorscale\": {\"diverging\": [[0, \"#8e0152\"], [0.1, \"#c51b7d\"], [0.2, \"#de77ae\"], [0.3, \"#f1b6da\"], [0.4, \"#fde0ef\"], [0.5, \"#f7f7f7\"], [0.6, \"#e6f5d0\"], [0.7, \"#b8e186\"], [0.8, \"#7fbc41\"], [0.9, \"#4d9221\"], [1, \"#276419\"]], \"sequential\": [[0.0, \"#0d0887\"], [0.1111111111111111, \"#46039f\"], [0.2222222222222222, \"#7201a8\"], [0.3333333333333333, \"#9c179e\"], [0.4444444444444444, \"#bd3786\"], [0.5555555555555556, \"#d8576b\"], [0.6666666666666666, \"#ed7953\"], [0.7777777777777778, \"#fb9f3a\"], [0.8888888888888888, \"#fdca26\"], [1.0, \"#f0f921\"]], \"sequentialminus\": [[0.0, \"#0d0887\"], [0.1111111111111111, \"#46039f\"], [0.2222222222222222, \"#7201a8\"], [0.3333333333333333, \"#9c179e\"], [0.4444444444444444, \"#bd3786\"], [0.5555555555555556, \"#d8576b\"], [0.6666666666666666, \"#ed7953\"], [0.7777777777777778, \"#fb9f3a\"], [0.8888888888888888, \"#fdca26\"], [1.0, \"#f0f921\"]]}, \"colorway\": [\"#636efa\", \"#EF553B\", \"#00cc96\", \"#ab63fa\", \"#FFA15A\", \"#19d3f3\", \"#FF6692\", \"#B6E880\", \"#FF97FF\", \"#FECB52\"], \"font\": {\"color\": \"#2a3f5f\"}, \"geo\": {\"bgcolor\": \"white\", \"lakecolor\": \"white\", \"landcolor\": \"#E5ECF6\", \"showlakes\": true, \"showland\": true, \"subunitcolor\": \"white\"}, \"hoverlabel\": {\"align\": \"left\"}, \"hovermode\": \"closest\", \"mapbox\": {\"style\": \"light\"}, \"paper_bgcolor\": \"white\", \"plot_bgcolor\": \"#E5ECF6\", \"polar\": {\"angularaxis\": {\"gridcolor\": \"white\", \"linecolor\": \"white\", \"ticks\": \"\"}, \"bgcolor\": \"#E5ECF6\", \"radialaxis\": {\"gridcolor\": \"white\", \"linecolor\": \"white\", \"ticks\": \"\"}}, \"scene\": {\"xaxis\": {\"backgroundcolor\": \"#E5ECF6\", \"gridcolor\": \"white\", \"gridwidth\": 2, \"linecolor\": \"white\", \"showbackground\": true, \"ticks\": \"\", \"zerolinecolor\": \"white\"}, \"yaxis\": {\"backgroundcolor\": \"#E5ECF6\", \"gridcolor\": \"white\", \"gridwidth\": 2, \"linecolor\": \"white\", \"showbackground\": true, \"ticks\": \"\", \"zerolinecolor\": \"white\"}, \"zaxis\": {\"backgroundcolor\": \"#E5ECF6\", \"gridcolor\": \"white\", \"gridwidth\": 2, \"linecolor\": \"white\", \"showbackground\": true, \"ticks\": \"\", \"zerolinecolor\": \"white\"}}, \"shapedefaults\": {\"line\": {\"color\": \"#2a3f5f\"}}, \"ternary\": {\"aaxis\": {\"gridcolor\": \"white\", \"linecolor\": \"white\", \"ticks\": \"\"}, \"baxis\": {\"gridcolor\": \"white\", \"linecolor\": \"white\", \"ticks\": \"\"}, \"bgcolor\": \"#E5ECF6\", \"caxis\": {\"gridcolor\": \"white\", \"linecolor\": \"white\", \"ticks\": \"\"}}, \"title\": {\"x\": 0.05}, \"xaxis\": {\"automargin\": true, \"gridcolor\": \"white\", \"linecolor\": \"white\", \"ticks\": \"\", \"title\": {\"standoff\": 15}, \"zerolinecolor\": \"white\", \"zerolinewidth\": 2}, \"yaxis\": {\"automargin\": true, \"gridcolor\": \"white\", \"linecolor\": \"white\", \"ticks\": \"\", \"title\": {\"standoff\": 15}, \"zerolinecolor\": \"white\", \"zerolinewidth\": 2}}}, \"title\": {\"text\": \"Smoking bar chart\"}, \"width\": 600, \"xaxis\": {\"anchor\": \"y\", \"domain\": [0.0, 1.0], \"title\": {\"text\": \"count\"}}, \"yaxis\": {\"anchor\": \"x\", \"domain\": [0.0, 1.0], \"title\": {\"text\": \"smoking\"}}},\n",
       "                        {\"responsive\": true}\n",
       "                    ).then(function(){\n",
       "                            \n",
       "var gd = document.getElementById('45b6c615-2518-4c85-8394-6e1ed132c914');\n",
       "var x = new MutationObserver(function (mutations, observer) {{\n",
       "        var display = window.getComputedStyle(gd).display;\n",
       "        if (!display || display === 'none') {{\n",
       "            console.log([gd, 'removed!']);\n",
       "            Plotly.purge(gd);\n",
       "            observer.disconnect();\n",
       "        }}\n",
       "}});\n",
       "\n",
       "// Listen for the removal of the full notebook cells\n",
       "var notebookContainer = gd.closest('#notebook-container');\n",
       "if (notebookContainer) {{\n",
       "    x.observe(notebookContainer, {childList: true});\n",
       "}}\n",
       "\n",
       "// Listen for the clearing of the current output cell\n",
       "var outputEl = gd.closest('.output');\n",
       "if (outputEl) {{\n",
       "    x.observe(outputEl, {childList: true});\n",
       "}}\n",
       "\n",
       "                        })\n",
       "                };\n",
       "                });\n",
       "            </script>\n",
       "        </div>"
      ]
     },
     "metadata": {},
     "output_type": "display_data"
    }
   ],
   "source": [
    "ds = df['smoking'].value_counts().reset_index()\n",
    "ds.columns = ['smoking', 'count']\n",
    "fig = px.bar(ds, x='count', y=\"smoking\", orientation='h', title='Smoking bar chart', width=600, height=400)\n",
    "fig.show()"
   ]
  },
  {
   "cell_type": "code",
   "execution_count": 16,
   "metadata": {
    "_kg_hide-input": true,
    "execution": {
     "iopub.execute_input": "2020-08-29T01:04:54.099174Z",
     "iopub.status.busy": "2020-08-29T01:04:54.083556Z",
     "iopub.status.idle": "2020-08-29T01:04:54.122791Z",
     "shell.execute_reply": "2020-08-29T01:04:54.122141Z"
    },
    "papermill": {
     "duration": 0.093852,
     "end_time": "2020-08-29T01:04:54.122918",
     "exception": false,
     "start_time": "2020-08-29T01:04:54.029066",
     "status": "completed"
    },
    "tags": []
   },
   "outputs": [
    {
     "data": {
      "text/html": [
       "<div>\n",
       "        \n",
       "        \n",
       "            <div id=\"f704aecc-792c-4afe-9ab2-4dc36a68e7e6\" class=\"plotly-graph-div\" style=\"height:400px; width:600px;\"></div>\n",
       "            <script type=\"text/javascript\">\n",
       "                require([\"plotly\"], function(Plotly) {\n",
       "                    window.PLOTLYENV=window.PLOTLYENV || {};\n",
       "                    \n",
       "                if (document.getElementById(\"f704aecc-792c-4afe-9ab2-4dc36a68e7e6\")) {\n",
       "                    Plotly.newPlot(\n",
       "                        'f704aecc-792c-4afe-9ab2-4dc36a68e7e6',\n",
       "                        [{\"alignmentgroup\": \"True\", \"hovertemplate\": \"count=%{x}<br>DEATH_EVENT=%{y}<extra></extra>\", \"legendgroup\": \"\", \"marker\": {\"color\": \"#636efa\"}, \"name\": \"\", \"offsetgroup\": \"\", \"orientation\": \"h\", \"showlegend\": false, \"textposition\": \"auto\", \"type\": \"bar\", \"x\": [203, 96], \"xaxis\": \"x\", \"y\": [0, 1], \"yaxis\": \"y\"}],\n",
       "                        {\"barmode\": \"relative\", \"height\": 400, \"legend\": {\"tracegroupgap\": 0}, \"template\": {\"data\": {\"bar\": [{\"error_x\": {\"color\": \"#2a3f5f\"}, \"error_y\": {\"color\": \"#2a3f5f\"}, \"marker\": {\"line\": {\"color\": \"#E5ECF6\", \"width\": 0.5}}, \"type\": \"bar\"}], \"barpolar\": [{\"marker\": {\"line\": {\"color\": \"#E5ECF6\", \"width\": 0.5}}, \"type\": \"barpolar\"}], \"carpet\": [{\"aaxis\": {\"endlinecolor\": \"#2a3f5f\", \"gridcolor\": \"white\", \"linecolor\": \"white\", \"minorgridcolor\": \"white\", \"startlinecolor\": \"#2a3f5f\"}, \"baxis\": {\"endlinecolor\": \"#2a3f5f\", \"gridcolor\": \"white\", \"linecolor\": \"white\", \"minorgridcolor\": \"white\", \"startlinecolor\": \"#2a3f5f\"}, \"type\": \"carpet\"}], \"choropleth\": [{\"colorbar\": {\"outlinewidth\": 0, \"ticks\": \"\"}, \"type\": \"choropleth\"}], \"contour\": [{\"colorbar\": {\"outlinewidth\": 0, \"ticks\": \"\"}, \"colorscale\": [[0.0, \"#0d0887\"], [0.1111111111111111, \"#46039f\"], [0.2222222222222222, \"#7201a8\"], [0.3333333333333333, \"#9c179e\"], [0.4444444444444444, \"#bd3786\"], [0.5555555555555556, \"#d8576b\"], [0.6666666666666666, \"#ed7953\"], [0.7777777777777778, \"#fb9f3a\"], [0.8888888888888888, \"#fdca26\"], [1.0, \"#f0f921\"]], \"type\": \"contour\"}], \"contourcarpet\": [{\"colorbar\": {\"outlinewidth\": 0, \"ticks\": \"\"}, \"type\": \"contourcarpet\"}], \"heatmap\": [{\"colorbar\": {\"outlinewidth\": 0, \"ticks\": \"\"}, \"colorscale\": [[0.0, \"#0d0887\"], [0.1111111111111111, \"#46039f\"], [0.2222222222222222, \"#7201a8\"], [0.3333333333333333, \"#9c179e\"], [0.4444444444444444, \"#bd3786\"], [0.5555555555555556, \"#d8576b\"], [0.6666666666666666, \"#ed7953\"], [0.7777777777777778, \"#fb9f3a\"], [0.8888888888888888, \"#fdca26\"], [1.0, \"#f0f921\"]], \"type\": \"heatmap\"}], \"heatmapgl\": [{\"colorbar\": {\"outlinewidth\": 0, \"ticks\": \"\"}, \"colorscale\": [[0.0, \"#0d0887\"], [0.1111111111111111, \"#46039f\"], [0.2222222222222222, \"#7201a8\"], [0.3333333333333333, \"#9c179e\"], [0.4444444444444444, \"#bd3786\"], [0.5555555555555556, \"#d8576b\"], [0.6666666666666666, \"#ed7953\"], [0.7777777777777778, \"#fb9f3a\"], [0.8888888888888888, \"#fdca26\"], [1.0, \"#f0f921\"]], \"type\": \"heatmapgl\"}], \"histogram\": [{\"marker\": {\"colorbar\": {\"outlinewidth\": 0, \"ticks\": \"\"}}, \"type\": \"histogram\"}], \"histogram2d\": [{\"colorbar\": {\"outlinewidth\": 0, \"ticks\": \"\"}, \"colorscale\": [[0.0, \"#0d0887\"], [0.1111111111111111, \"#46039f\"], [0.2222222222222222, \"#7201a8\"], [0.3333333333333333, \"#9c179e\"], [0.4444444444444444, \"#bd3786\"], [0.5555555555555556, \"#d8576b\"], [0.6666666666666666, \"#ed7953\"], [0.7777777777777778, \"#fb9f3a\"], [0.8888888888888888, \"#fdca26\"], [1.0, \"#f0f921\"]], \"type\": \"histogram2d\"}], \"histogram2dcontour\": [{\"colorbar\": {\"outlinewidth\": 0, \"ticks\": \"\"}, \"colorscale\": [[0.0, \"#0d0887\"], [0.1111111111111111, \"#46039f\"], [0.2222222222222222, \"#7201a8\"], [0.3333333333333333, \"#9c179e\"], [0.4444444444444444, \"#bd3786\"], [0.5555555555555556, \"#d8576b\"], [0.6666666666666666, \"#ed7953\"], [0.7777777777777778, \"#fb9f3a\"], [0.8888888888888888, \"#fdca26\"], [1.0, \"#f0f921\"]], \"type\": \"histogram2dcontour\"}], \"mesh3d\": [{\"colorbar\": {\"outlinewidth\": 0, \"ticks\": \"\"}, \"type\": \"mesh3d\"}], \"parcoords\": [{\"line\": {\"colorbar\": {\"outlinewidth\": 0, \"ticks\": \"\"}}, \"type\": \"parcoords\"}], \"pie\": [{\"automargin\": true, \"type\": \"pie\"}], \"scatter\": [{\"marker\": {\"colorbar\": {\"outlinewidth\": 0, \"ticks\": \"\"}}, \"type\": \"scatter\"}], \"scatter3d\": [{\"line\": {\"colorbar\": {\"outlinewidth\": 0, \"ticks\": \"\"}}, \"marker\": {\"colorbar\": {\"outlinewidth\": 0, \"ticks\": \"\"}}, \"type\": \"scatter3d\"}], \"scattercarpet\": [{\"marker\": {\"colorbar\": {\"outlinewidth\": 0, \"ticks\": \"\"}}, \"type\": \"scattercarpet\"}], \"scattergeo\": [{\"marker\": {\"colorbar\": {\"outlinewidth\": 0, \"ticks\": \"\"}}, \"type\": \"scattergeo\"}], \"scattergl\": [{\"marker\": {\"colorbar\": {\"outlinewidth\": 0, \"ticks\": \"\"}}, \"type\": \"scattergl\"}], \"scattermapbox\": [{\"marker\": {\"colorbar\": {\"outlinewidth\": 0, \"ticks\": \"\"}}, \"type\": \"scattermapbox\"}], \"scatterpolar\": [{\"marker\": {\"colorbar\": {\"outlinewidth\": 0, \"ticks\": \"\"}}, \"type\": \"scatterpolar\"}], \"scatterpolargl\": [{\"marker\": {\"colorbar\": {\"outlinewidth\": 0, \"ticks\": \"\"}}, \"type\": \"scatterpolargl\"}], \"scatterternary\": [{\"marker\": {\"colorbar\": {\"outlinewidth\": 0, \"ticks\": \"\"}}, \"type\": \"scatterternary\"}], \"surface\": [{\"colorbar\": {\"outlinewidth\": 0, \"ticks\": \"\"}, \"colorscale\": [[0.0, \"#0d0887\"], [0.1111111111111111, \"#46039f\"], [0.2222222222222222, \"#7201a8\"], [0.3333333333333333, \"#9c179e\"], [0.4444444444444444, \"#bd3786\"], [0.5555555555555556, \"#d8576b\"], [0.6666666666666666, \"#ed7953\"], [0.7777777777777778, \"#fb9f3a\"], [0.8888888888888888, \"#fdca26\"], [1.0, \"#f0f921\"]], \"type\": \"surface\"}], \"table\": [{\"cells\": {\"fill\": {\"color\": \"#EBF0F8\"}, \"line\": {\"color\": \"white\"}}, \"header\": {\"fill\": {\"color\": \"#C8D4E3\"}, \"line\": {\"color\": \"white\"}}, \"type\": \"table\"}]}, \"layout\": {\"annotationdefaults\": {\"arrowcolor\": \"#2a3f5f\", \"arrowhead\": 0, \"arrowwidth\": 1}, \"coloraxis\": {\"colorbar\": {\"outlinewidth\": 0, \"ticks\": \"\"}}, \"colorscale\": {\"diverging\": [[0, \"#8e0152\"], [0.1, \"#c51b7d\"], [0.2, \"#de77ae\"], [0.3, \"#f1b6da\"], [0.4, \"#fde0ef\"], [0.5, \"#f7f7f7\"], [0.6, \"#e6f5d0\"], [0.7, \"#b8e186\"], [0.8, \"#7fbc41\"], [0.9, \"#4d9221\"], [1, \"#276419\"]], \"sequential\": [[0.0, \"#0d0887\"], [0.1111111111111111, \"#46039f\"], [0.2222222222222222, \"#7201a8\"], [0.3333333333333333, \"#9c179e\"], [0.4444444444444444, \"#bd3786\"], [0.5555555555555556, \"#d8576b\"], [0.6666666666666666, \"#ed7953\"], [0.7777777777777778, \"#fb9f3a\"], [0.8888888888888888, \"#fdca26\"], [1.0, \"#f0f921\"]], \"sequentialminus\": [[0.0, \"#0d0887\"], [0.1111111111111111, \"#46039f\"], [0.2222222222222222, \"#7201a8\"], [0.3333333333333333, \"#9c179e\"], [0.4444444444444444, \"#bd3786\"], [0.5555555555555556, \"#d8576b\"], [0.6666666666666666, \"#ed7953\"], [0.7777777777777778, \"#fb9f3a\"], [0.8888888888888888, \"#fdca26\"], [1.0, \"#f0f921\"]]}, \"colorway\": [\"#636efa\", \"#EF553B\", \"#00cc96\", \"#ab63fa\", \"#FFA15A\", \"#19d3f3\", \"#FF6692\", \"#B6E880\", \"#FF97FF\", \"#FECB52\"], \"font\": {\"color\": \"#2a3f5f\"}, \"geo\": {\"bgcolor\": \"white\", \"lakecolor\": \"white\", \"landcolor\": \"#E5ECF6\", \"showlakes\": true, \"showland\": true, \"subunitcolor\": \"white\"}, \"hoverlabel\": {\"align\": \"left\"}, \"hovermode\": \"closest\", \"mapbox\": {\"style\": \"light\"}, \"paper_bgcolor\": \"white\", \"plot_bgcolor\": \"#E5ECF6\", \"polar\": {\"angularaxis\": {\"gridcolor\": \"white\", \"linecolor\": \"white\", \"ticks\": \"\"}, \"bgcolor\": \"#E5ECF6\", \"radialaxis\": {\"gridcolor\": \"white\", \"linecolor\": \"white\", \"ticks\": \"\"}}, \"scene\": {\"xaxis\": {\"backgroundcolor\": \"#E5ECF6\", \"gridcolor\": \"white\", \"gridwidth\": 2, \"linecolor\": \"white\", \"showbackground\": true, \"ticks\": \"\", \"zerolinecolor\": \"white\"}, \"yaxis\": {\"backgroundcolor\": \"#E5ECF6\", \"gridcolor\": \"white\", \"gridwidth\": 2, \"linecolor\": \"white\", \"showbackground\": true, \"ticks\": \"\", \"zerolinecolor\": \"white\"}, \"zaxis\": {\"backgroundcolor\": \"#E5ECF6\", \"gridcolor\": \"white\", \"gridwidth\": 2, \"linecolor\": \"white\", \"showbackground\": true, \"ticks\": \"\", \"zerolinecolor\": \"white\"}}, \"shapedefaults\": {\"line\": {\"color\": \"#2a3f5f\"}}, \"ternary\": {\"aaxis\": {\"gridcolor\": \"white\", \"linecolor\": \"white\", \"ticks\": \"\"}, \"baxis\": {\"gridcolor\": \"white\", \"linecolor\": \"white\", \"ticks\": \"\"}, \"bgcolor\": \"#E5ECF6\", \"caxis\": {\"gridcolor\": \"white\", \"linecolor\": \"white\", \"ticks\": \"\"}}, \"title\": {\"x\": 0.05}, \"xaxis\": {\"automargin\": true, \"gridcolor\": \"white\", \"linecolor\": \"white\", \"ticks\": \"\", \"title\": {\"standoff\": 15}, \"zerolinecolor\": \"white\", \"zerolinewidth\": 2}, \"yaxis\": {\"automargin\": true, \"gridcolor\": \"white\", \"linecolor\": \"white\", \"ticks\": \"\", \"title\": {\"standoff\": 15}, \"zerolinecolor\": \"white\", \"zerolinewidth\": 2}}}, \"title\": {\"text\": \"DEATH_EVENT bar chart\"}, \"width\": 600, \"xaxis\": {\"anchor\": \"y\", \"domain\": [0.0, 1.0], \"title\": {\"text\": \"count\"}}, \"yaxis\": {\"anchor\": \"x\", \"domain\": [0.0, 1.0], \"title\": {\"text\": \"DEATH_EVENT\"}}},\n",
       "                        {\"responsive\": true}\n",
       "                    ).then(function(){\n",
       "                            \n",
       "var gd = document.getElementById('f704aecc-792c-4afe-9ab2-4dc36a68e7e6');\n",
       "var x = new MutationObserver(function (mutations, observer) {{\n",
       "        var display = window.getComputedStyle(gd).display;\n",
       "        if (!display || display === 'none') {{\n",
       "            console.log([gd, 'removed!']);\n",
       "            Plotly.purge(gd);\n",
       "            observer.disconnect();\n",
       "        }}\n",
       "}});\n",
       "\n",
       "// Listen for the removal of the full notebook cells\n",
       "var notebookContainer = gd.closest('#notebook-container');\n",
       "if (notebookContainer) {{\n",
       "    x.observe(notebookContainer, {childList: true});\n",
       "}}\n",
       "\n",
       "// Listen for the clearing of the current output cell\n",
       "var outputEl = gd.closest('.output');\n",
       "if (outputEl) {{\n",
       "    x.observe(outputEl, {childList: true});\n",
       "}}\n",
       "\n",
       "                        })\n",
       "                };\n",
       "                });\n",
       "            </script>\n",
       "        </div>"
      ]
     },
     "metadata": {},
     "output_type": "display_data"
    }
   ],
   "source": [
    "ds = df['DEATH_EVENT'].value_counts().reset_index()\n",
    "ds.columns = ['DEATH_EVENT', 'count']\n",
    "fig = px.bar(ds, x='count', y=\"DEATH_EVENT\", orientation='h', title='DEATH_EVENT bar chart', width=600, height=400)\n",
    "fig.show()"
   ]
  },
  {
   "cell_type": "markdown",
   "metadata": {
    "papermill": {
     "duration": 0.020855,
     "end_time": "2020-08-29T01:04:54.165042",
     "exception": false,
     "start_time": "2020-08-29T01:04:54.144187",
     "status": "completed"
    },
    "tags": []
   },
   "source": [
    "### Correlation matrix"
   ]
  },
  {
   "cell_type": "code",
   "execution_count": 17,
   "metadata": {
    "_kg_hide-input": true,
    "execution": {
     "iopub.execute_input": "2020-08-29T01:04:54.219009Z",
     "iopub.status.busy": "2020-08-29T01:04:54.218119Z",
     "iopub.status.idle": "2020-08-29T01:04:54.702153Z",
     "shell.execute_reply": "2020-08-29T01:04:54.702762Z"
    },
    "papermill": {
     "duration": 0.516726,
     "end_time": "2020-08-29T01:04:54.702937",
     "exception": false,
     "start_time": "2020-08-29T01:04:54.186211",
     "status": "completed"
    },
    "tags": []
   },
   "outputs": [
    {
     "data": {
      "image/png": "[encoded data removed]",
      "text/plain": [
       "<Figure size 1152x1080 with 2 Axes>"
      ]
     },
     "metadata": {
      "needs_background": "light"
     },
     "output_type": "display_data"
    }
   ],
   "source": [
    "df = df.drop(['time'], axis=1)\n",
    "f = plt.figure(figsize=(16, 15))\n",
    "plt.matshow(df.corr(), fignum=f.number)\n",
    "plt.xticks(range(df.shape[1]), df.columns, fontsize=14, rotation=45)\n",
    "plt.yticks(range(df.shape[1]), df.columns, fontsize=14)\n",
    "cb = plt.colorbar()\n",
    "cb.ax.tick_params(labelsize=14)"
   ]
  },
  {
   "cell_type": "markdown",
   "metadata": {
    "papermill": {
     "duration": 0.02164,
     "end_time": "2020-08-29T01:04:54.746938",
     "exception": false,
     "start_time": "2020-08-29T01:04:54.725298",
     "status": "completed"
    },
    "tags": []
   },
   "source": [
    "<a id=\"2\"></a>\n",
    "<h2 style='background:purple; border:0; color:white'><center>Modeling<center><h2>"
   ]
  },
  {
   "cell_type": "markdown",
   "metadata": {
    "papermill": {
     "duration": 0.021695,
     "end_time": "2020-08-29T01:04:54.790839",
     "exception": false,
     "start_time": "2020-08-29T01:04:54.769144",
     "status": "completed"
    },
    "tags": []
   },
   "source": [
    "### Lets train Logistic Regression model as a quick baseline and check the results"
   ]
  },
  {
   "cell_type": "code",
   "execution_count": 18,
   "metadata": {
    "execution": {
     "iopub.execute_input": "2020-08-29T01:04:54.847315Z",
     "iopub.status.busy": "2020-08-29T01:04:54.846519Z",
     "iopub.status.idle": "2020-08-29T01:04:54.850043Z",
     "shell.execute_reply": "2020-08-29T01:04:54.849321Z"
    },
    "papermill": {
     "duration": 0.036657,
     "end_time": "2020-08-29T01:04:54.850168",
     "exception": false,
     "start_time": "2020-08-29T01:04:54.813511",
     "status": "completed"
    },
    "tags": []
   },
   "outputs": [],
   "source": [
    "X = df.copy()\n",
    "y = X['DEATH_EVENT']\n",
    "X = X.drop(['DEATH_EVENT'], axis=1)\n",
    "\n",
    "X, X_test, y, y_test = train_test_split(X, y, random_state=0, test_size=0.2, shuffle=True)"
   ]
  },
  {
   "cell_type": "code",
   "execution_count": 19,
   "metadata": {
    "execution": {
     "iopub.execute_input": "2020-08-29T01:04:54.904504Z",
     "iopub.status.busy": "2020-08-29T01:04:54.903622Z",
     "iopub.status.idle": "2020-08-29T01:04:54.954757Z",
     "shell.execute_reply": "2020-08-29T01:04:54.954051Z"
    },
    "papermill": {
     "duration": 0.082425,
     "end_time": "2020-08-29T01:04:54.954911",
     "exception": false,
     "start_time": "2020-08-29T01:04:54.872486",
     "status": "completed"
    },
    "tags": []
   },
   "outputs": [
    {
     "name": "stdout",
     "output_type": "stream",
     "text": [
      "Logistic Regression  0.6833333333333333\n"
     ]
    }
   ],
   "source": [
    "model = LogisticRegression(random_state=0)\n",
    "model.fit(X, y)\n",
    "preds = model.predict(X_test)\n",
    "print('Logistic Regression ', accuracy_score(y_test, preds))"
   ]
  },
  {
   "cell_type": "markdown",
   "metadata": {
    "papermill": {
     "duration": 0.022479,
     "end_time": "2020-08-29T01:04:55.003426",
     "exception": false,
     "start_time": "2020-08-29T01:04:54.980947",
     "status": "completed"
    },
    "tags": []
   },
   "source": [
    "### Let's check a confusion matrix"
   ]
  },
  {
   "cell_type": "code",
   "execution_count": 20,
   "metadata": {
    "_kg_hide-input": true,
    "execution": {
     "iopub.execute_input": "2020-08-29T01:04:55.057375Z",
     "iopub.status.busy": "2020-08-29T01:04:55.056226Z",
     "iopub.status.idle": "2020-08-29T01:04:55.250573Z",
     "shell.execute_reply": "2020-08-29T01:04:55.249977Z"
    },
    "papermill": {
     "duration": 0.224593,
     "end_time": "2020-08-29T01:04:55.250709",
     "exception": false,
     "start_time": "2020-08-29T01:04:55.026116",
     "status": "completed"
    },
    "tags": []
   },
   "outputs": [
    {
     "data": {
      "image/png": "[encoded data removed]",
      "text/plain": [
       "<Figure size 432x288 with 2 Axes>"
      ]
     },
     "metadata": {
      "needs_background": "light"
     },
     "output_type": "display_data"
    }
   ],
   "source": [
    "plot_confusion_matrix(model, X_test, y_test)\n",
    "plt.show()"
   ]
  },
  {
   "cell_type": "markdown",
   "metadata": {
    "papermill": {
     "duration": 0.023119,
     "end_time": "2020-08-29T01:04:55.296487",
     "exception": false,
     "start_time": "2020-08-29T01:04:55.273368",
     "status": "completed"
    },
    "tags": []
   },
   "source": [
    "### We deal with imbalanced classification problem so accuracy is not really useful metric. Let's try f1-score and see results."
   ]
  },
  {
   "cell_type": "code",
   "execution_count": 21,
   "metadata": {
    "execution": {
     "iopub.execute_input": "2020-08-29T01:04:55.350646Z",
     "iopub.status.busy": "2020-08-29T01:04:55.349690Z",
     "iopub.status.idle": "2020-08-29T01:04:55.369466Z",
     "shell.execute_reply": "2020-08-29T01:04:55.370235Z"
    },
    "papermill": {
     "duration": 0.051452,
     "end_time": "2020-08-29T01:04:55.370486",
     "exception": false,
     "start_time": "2020-08-29T01:04:55.319034",
     "status": "completed"
    },
    "tags": []
   },
   "outputs": [
    {
     "name": "stdout",
     "output_type": "stream",
     "text": [
      "Logistic Regression f1-score 0.42424242424242425\n",
      "Logistic Regression precision 0.7\n",
      "Logistic Regression recall 0.30434782608695654\n"
     ]
    }
   ],
   "source": [
    "print('Logistic Regression f1-score', f1_score(y_test, preds))\n",
    "print('Logistic Regression precision', precision_score(y_test, preds))\n",
    "print('Logistic Regression recall', recall_score(y_test, preds))"
   ]
  },
  {
   "cell_type": "markdown",
   "metadata": {
    "papermill": {
     "duration": 0.022887,
     "end_time": "2020-08-29T01:04:55.417231",
     "exception": false,
     "start_time": "2020-08-29T01:04:55.394344",
     "status": "completed"
    },
    "tags": []
   },
   "source": [
    "### Let's try to improve our f1-score and use LightGBM model"
   ]
  },
  {
   "cell_type": "code",
   "execution_count": 22,
   "metadata": {
    "execution": {
     "iopub.execute_input": "2020-08-29T01:04:55.475511Z",
     "iopub.status.busy": "2020-08-29T01:04:55.470749Z",
     "iopub.status.idle": "2020-08-29T01:04:55.543913Z",
     "shell.execute_reply": "2020-08-29T01:04:55.541138Z"
    },
    "papermill": {
     "duration": 0.103626,
     "end_time": "2020-08-29T01:04:55.544082",
     "exception": false,
     "start_time": "2020-08-29T01:04:55.440456",
     "status": "completed"
    },
    "tags": []
   },
   "outputs": [
    {
     "name": "stdout",
     "output_type": "stream",
     "text": [
      "LightGBM f1-score 0.4210526315789474\n",
      "LightGBM precision 0.5333333333333333\n",
      "LightGBM recall 0.34782608695652173\n"
     ]
    }
   ],
   "source": [
    "model = LGBMClassifier(random_state=0)\n",
    "model.fit(X, y)\n",
    "preds = model.predict(X_test)\n",
    "print('LightGBM f1-score', f1_score(y_test, preds))\n",
    "print('LightGBM precision', precision_score(y_test, preds))\n",
    "print('LightGBM recall', recall_score(y_test, preds))"
   ]
  },
  {
   "cell_type": "code",
   "execution_count": 23,
   "metadata": {
    "execution": {
     "iopub.execute_input": "2020-08-29T01:04:55.611325Z",
     "iopub.status.busy": "2020-08-29T01:04:55.610420Z",
     "iopub.status.idle": "2020-08-29T01:04:55.810869Z",
     "shell.execute_reply": "2020-08-29T01:04:55.812036Z"
    },
    "papermill": {
     "duration": 0.238341,
     "end_time": "2020-08-29T01:04:55.812230",
     "exception": false,
     "start_time": "2020-08-29T01:04:55.573889",
     "status": "completed"
    },
    "tags": []
   },
   "outputs": [
    {
     "data": {
      "image/png": "[encoded data removed]",
      "text/plain": [
       "<Figure size 432x288 with 2 Axes>"
      ]
     },
     "metadata": {
      "needs_background": "light"
     },
     "output_type": "display_data"
    }
   ],
   "source": [
    "plot_confusion_matrix(model, X_test, y_test)\n",
    "plt.show()"
   ]
  },
  {
   "cell_type": "markdown",
   "metadata": {
    "papermill": {
     "duration": 0.023702,
     "end_time": "2020-08-29T01:04:55.860485",
     "exception": false,
     "start_time": "2020-08-29T01:04:55.836783",
     "status": "completed"
    },
    "tags": []
   },
   "source": [
    "### The results are not really better. Let's try to drop features with absolute correlation with target less than 0.05."
   ]
  },
  {
   "cell_type": "code",
   "execution_count": 24,
   "metadata": {
    "execution": {
     "iopub.execute_input": "2020-08-29T01:04:55.917012Z",
     "iopub.status.busy": "2020-08-29T01:04:55.916192Z",
     "iopub.status.idle": "2020-08-29T01:04:55.930427Z",
     "shell.execute_reply": "2020-08-29T01:04:55.930988Z"
    },
    "papermill": {
     "duration": 0.046474,
     "end_time": "2020-08-29T01:04:55.931163",
     "exception": false,
     "start_time": "2020-08-29T01:04:55.884689",
     "status": "completed"
    },
    "tags": []
   },
   "outputs": [],
   "source": [
    "for col in X.columns:\n",
    "    if abs(X[col].corr(y)) < 0.05:\n",
    "        X = X.drop([col], axis=1)\n",
    "        X_test = X_test.drop([col], axis=1)"
   ]
  },
  {
   "cell_type": "markdown",
   "metadata": {
    "papermill": {
     "duration": 0.023986,
     "end_time": "2020-08-29T01:04:55.979802",
     "exception": false,
     "start_time": "2020-08-29T01:04:55.955816",
     "status": "completed"
    },
    "tags": []
   },
   "source": [
    "### After removing some features  we have next set:"
   ]
  },
  {
   "cell_type": "code",
   "execution_count": 25,
   "metadata": {
    "_kg_hide-input": true,
    "execution": {
     "iopub.execute_input": "2020-08-29T01:04:56.050310Z",
     "iopub.status.busy": "2020-08-29T01:04:56.049518Z",
     "iopub.status.idle": "2020-08-29T01:04:56.055578Z",
     "shell.execute_reply": "2020-08-29T01:04:56.054845Z"
    },
    "papermill": {
     "duration": 0.051477,
     "end_time": "2020-08-29T01:04:56.055703",
     "exception": false,
     "start_time": "2020-08-29T01:04:56.004226",
     "status": "completed"
    },
    "tags": []
   },
   "outputs": [
    {
     "data": {
      "text/html": [
       "<div>\n",
       "<style scoped>\n",
       "    .dataframe tbody tr th:only-of-type {\n",
       "        vertical-align: middle;\n",
       "    }\n",
       "\n",
       "    .dataframe tbody tr th {\n",
       "        vertical-align: top;\n",
       "    }\n",
       "\n",
       "    .dataframe thead th {\n",
       "        text-align: right;\n",
       "    }\n",
       "</style>\n",
       "<table border=\"1\" class=\"dataframe\">\n",
       "  <thead>\n",
       "    <tr style=\"text-align: right;\">\n",
       "      <th></th>\n",
       "      <th>age</th>\n",
       "      <th>anaemia</th>\n",
       "      <th>creatinine_phosphokinase</th>\n",
       "      <th>diabetes</th>\n",
       "      <th>ejection_fraction</th>\n",
       "      <th>high_blood_pressure</th>\n",
       "      <th>serum_creatinine</th>\n",
       "      <th>serum_sodium</th>\n",
       "    </tr>\n",
       "  </thead>\n",
       "  <tbody>\n",
       "    <tr>\n",
       "      <th>134</th>\n",
       "      <td>81.0</td>\n",
       "      <td>0</td>\n",
       "      <td>4540</td>\n",
       "      <td>0</td>\n",
       "      <td>35</td>\n",
       "      <td>0</td>\n",
       "      <td>1.18</td>\n",
       "      <td>137</td>\n",
       "    </tr>\n",
       "    <tr>\n",
       "      <th>145</th>\n",
       "      <td>50.0</td>\n",
       "      <td>0</td>\n",
       "      <td>185</td>\n",
       "      <td>0</td>\n",
       "      <td>30</td>\n",
       "      <td>0</td>\n",
       "      <td>0.70</td>\n",
       "      <td>141</td>\n",
       "    </tr>\n",
       "    <tr>\n",
       "      <th>63</th>\n",
       "      <td>45.0</td>\n",
       "      <td>0</td>\n",
       "      <td>582</td>\n",
       "      <td>0</td>\n",
       "      <td>35</td>\n",
       "      <td>0</td>\n",
       "      <td>1.00</td>\n",
       "      <td>145</td>\n",
       "    </tr>\n",
       "    <tr>\n",
       "      <th>292</th>\n",
       "      <td>52.0</td>\n",
       "      <td>0</td>\n",
       "      <td>190</td>\n",
       "      <td>1</td>\n",
       "      <td>38</td>\n",
       "      <td>0</td>\n",
       "      <td>1.00</td>\n",
       "      <td>140</td>\n",
       "    </tr>\n",
       "    <tr>\n",
       "      <th>284</th>\n",
       "      <td>50.0</td>\n",
       "      <td>1</td>\n",
       "      <td>54</td>\n",
       "      <td>0</td>\n",
       "      <td>40</td>\n",
       "      <td>0</td>\n",
       "      <td>0.80</td>\n",
       "      <td>141</td>\n",
       "    </tr>\n",
       "    <tr>\n",
       "      <th>...</th>\n",
       "      <td>...</td>\n",
       "      <td>...</td>\n",
       "      <td>...</td>\n",
       "      <td>...</td>\n",
       "      <td>...</td>\n",
       "      <td>...</td>\n",
       "      <td>...</td>\n",
       "      <td>...</td>\n",
       "    </tr>\n",
       "    <tr>\n",
       "      <th>251</th>\n",
       "      <td>55.0</td>\n",
       "      <td>0</td>\n",
       "      <td>572</td>\n",
       "      <td>1</td>\n",
       "      <td>35</td>\n",
       "      <td>0</td>\n",
       "      <td>0.80</td>\n",
       "      <td>143</td>\n",
       "    </tr>\n",
       "    <tr>\n",
       "      <th>192</th>\n",
       "      <td>50.0</td>\n",
       "      <td>1</td>\n",
       "      <td>121</td>\n",
       "      <td>1</td>\n",
       "      <td>40</td>\n",
       "      <td>0</td>\n",
       "      <td>0.70</td>\n",
       "      <td>130</td>\n",
       "    </tr>\n",
       "    <tr>\n",
       "      <th>117</th>\n",
       "      <td>85.0</td>\n",
       "      <td>1</td>\n",
       "      <td>102</td>\n",
       "      <td>0</td>\n",
       "      <td>60</td>\n",
       "      <td>0</td>\n",
       "      <td>3.20</td>\n",
       "      <td>138</td>\n",
       "    </tr>\n",
       "    <tr>\n",
       "      <th>47</th>\n",
       "      <td>60.0</td>\n",
       "      <td>0</td>\n",
       "      <td>582</td>\n",
       "      <td>1</td>\n",
       "      <td>38</td>\n",
       "      <td>1</td>\n",
       "      <td>0.60</td>\n",
       "      <td>138</td>\n",
       "    </tr>\n",
       "    <tr>\n",
       "      <th>172</th>\n",
       "      <td>70.0</td>\n",
       "      <td>1</td>\n",
       "      <td>171</td>\n",
       "      <td>0</td>\n",
       "      <td>60</td>\n",
       "      <td>1</td>\n",
       "      <td>1.10</td>\n",
       "      <td>145</td>\n",
       "    </tr>\n",
       "  </tbody>\n",
       "</table>\n",
       "<p>239 rows × 8 columns</p>\n",
       "</div>"
      ],
      "text/plain": [
       "      age  anaemia  creatinine_phosphokinase  diabetes  ejection_fraction  \\\n",
       "134  81.0        0                      4540         0                 35   \n",
       "145  50.0        0                       185         0                 30   \n",
       "63   45.0        0                       582         0                 35   \n",
       "292  52.0        0                       190         1                 38   \n",
       "284  50.0        1                        54         0                 40   \n",
       "..    ...      ...                       ...       ...                ...   \n",
       "251  55.0        0                       572         1                 35   \n",
       "192  50.0        1                       121         1                 40   \n",
       "117  85.0        1                       102         0                 60   \n",
       "47   60.0        0                       582         1                 38   \n",
       "172  70.0        1                       171         0                 60   \n",
       "\n",
       "     high_blood_pressure  serum_creatinine  serum_sodium  \n",
       "134                    0              1.18           137  \n",
       "145                    0              0.70           141  \n",
       "63                     0              1.00           145  \n",
       "292                    0              1.00           140  \n",
       "284                    0              0.80           141  \n",
       "..                   ...               ...           ...  \n",
       "251                    0              0.80           143  \n",
       "192                    0              0.70           130  \n",
       "117                    0              3.20           138  \n",
       "47                     1              0.60           138  \n",
       "172                    1              1.10           145  \n",
       "\n",
       "[239 rows x 8 columns]"
      ]
     },
     "execution_count": 25,
     "metadata": {},
     "output_type": "execute_result"
    }
   ],
   "source": [
    "X"
   ]
  },
  {
   "cell_type": "code",
   "execution_count": 26,
   "metadata": {
    "execution": {
     "iopub.execute_input": "2020-08-29T01:04:56.119486Z",
     "iopub.status.busy": "2020-08-29T01:04:56.118536Z",
     "iopub.status.idle": "2020-08-29T01:04:56.175828Z",
     "shell.execute_reply": "2020-08-29T01:04:56.175094Z"
    },
    "papermill": {
     "duration": 0.095024,
     "end_time": "2020-08-29T01:04:56.175975",
     "exception": false,
     "start_time": "2020-08-29T01:04:56.080951",
     "status": "completed"
    },
    "tags": []
   },
   "outputs": [
    {
     "name": "stdout",
     "output_type": "stream",
     "text": [
      "LightGBM f1-score 0.5365853658536586\n",
      "LightGBM precision 0.6111111111111112\n",
      "LightGBM recall 0.4782608695652174\n"
     ]
    }
   ],
   "source": [
    "model = LGBMClassifier(random_state=0)\n",
    "model.fit(X, y)\n",
    "preds = model.predict(X_test)\n",
    "print('LightGBM f1-score', f1_score(y_test, preds))\n",
    "print('LightGBM precision', precision_score(y_test, preds))\n",
    "print('LightGBM recall', recall_score(y_test, preds))"
   ]
  },
  {
   "cell_type": "code",
   "execution_count": 27,
   "metadata": {
    "execution": {
     "iopub.execute_input": "2020-08-29T01:04:56.320922Z",
     "iopub.status.busy": "2020-08-29T01:04:56.320045Z",
     "iopub.status.idle": "2020-08-29T01:04:56.527107Z",
     "shell.execute_reply": "2020-08-29T01:04:56.526453Z"
    },
    "papermill": {
     "duration": 0.317716,
     "end_time": "2020-08-29T01:04:56.527235",
     "exception": false,
     "start_time": "2020-08-29T01:04:56.209519",
     "status": "completed"
    },
    "tags": []
   },
   "outputs": [
    {
     "data": {
      "image/png": "[encoded data removed]",
      "text/plain": [
       "<Figure size 432x288 with 2 Axes>"
      ]
     },
     "metadata": {
      "needs_background": "light"
     },
     "output_type": "display_data"
    }
   ],
   "source": [
    "plot_confusion_matrix(model, X_test, y_test)\n",
    "plt.show()"
   ]
  },
  {
   "cell_type": "markdown",
   "metadata": {
    "papermill": {
     "duration": 0.0455,
     "end_time": "2020-08-29T01:04:56.598932",
     "exception": false,
     "start_time": "2020-08-29T01:04:56.553432",
     "status": "completed"
    },
    "tags": []
   },
   "source": [
    "## Lets try XGBoost model"
   ]
  },
  {
   "cell_type": "code",
   "execution_count": 28,
   "metadata": {
    "execution": {
     "iopub.execute_input": "2020-08-29T01:04:56.660507Z",
     "iopub.status.busy": "2020-08-29T01:04:56.659145Z",
     "iopub.status.idle": "2020-08-29T01:04:56.736482Z",
     "shell.execute_reply": "2020-08-29T01:04:56.737663Z"
    },
    "papermill": {
     "duration": 0.1128,
     "end_time": "2020-08-29T01:04:56.738041",
     "exception": false,
     "start_time": "2020-08-29T01:04:56.625241",
     "status": "completed"
    },
    "tags": []
   },
   "outputs": [
    {
     "name": "stdout",
     "output_type": "stream",
     "text": [
      "XGBClassifier f1-score 0.4\n",
      "XGBClassifier precision 0.5833333333333334\n",
      "XGBClassifier recall 0.30434782608695654\n"
     ]
    }
   ],
   "source": [
    "model = XGBClassifier(random_state=0)\n",
    "model.fit(X, y)\n",
    "preds = model.predict(X_test)\n",
    "print('XGBClassifier f1-score', f1_score(y_test, preds))\n",
    "print('XGBClassifier precision', precision_score(y_test, preds))\n",
    "print('XGBClassifier recall', recall_score(y_test, preds))"
   ]
  },
  {
   "cell_type": "code",
   "execution_count": 29,
   "metadata": {
    "execution": {
     "iopub.execute_input": "2020-08-29T01:04:56.976616Z",
     "iopub.status.busy": "2020-08-29T01:04:56.975725Z",
     "iopub.status.idle": "2020-08-29T01:04:57.152643Z",
     "shell.execute_reply": "2020-08-29T01:04:57.152020Z"
    },
    "papermill": {
     "duration": 0.380481,
     "end_time": "2020-08-29T01:04:57.152776",
     "exception": false,
     "start_time": "2020-08-29T01:04:56.772295",
     "status": "completed"
    },
    "tags": []
   },
   "outputs": [
    {
     "data": {
      "image/png": "[encoded data removed]",
      "text/plain": [
       "<Figure size 432x288 with 2 Axes>"
      ]
     },
     "metadata": {
      "needs_background": "light"
     },
     "output_type": "display_data"
    }
   ],
   "source": [
    "plot_confusion_matrix(model, X_test, y_test)\n",
    "plt.show()"
   ]
  },
  {
   "cell_type": "markdown",
   "metadata": {
    "papermill": {
     "duration": 0.031185,
     "end_time": "2020-08-29T01:04:57.211200",
     "exception": false,
     "start_time": "2020-08-29T01:04:57.180015",
     "status": "completed"
    },
    "tags": []
   },
   "source": [
    "## The score for LightGBM became better. Lets do hyperparameters optimization next. We will use optuna for it."
   ]
  },
  {
   "cell_type": "markdown",
   "metadata": {
    "papermill": {
     "duration": 0.027305,
     "end_time": "2020-08-29T01:04:57.266800",
     "exception": false,
     "start_time": "2020-08-29T01:04:57.239495",
     "status": "completed"
    },
    "tags": []
   },
   "source": [
    "<a id=\"3\"></a>\n",
    "<h2 style='background:red; border:0; color:white'><center>Optimization<center><h2>"
   ]
  },
  {
   "cell_type": "code",
   "execution_count": 30,
   "metadata": {
    "execution": {
     "iopub.execute_input": "2020-08-29T01:04:57.341388Z",
     "iopub.status.busy": "2020-08-29T01:04:57.340584Z",
     "iopub.status.idle": "2020-08-29T01:05:06.524209Z",
     "shell.execute_reply": "2020-08-29T01:05:06.522333Z"
    },
    "papermill": {
     "duration": 9.23002,
     "end_time": "2020-08-29T01:05:06.524398",
     "exception": false,
     "start_time": "2020-08-29T01:04:57.294378",
     "status": "completed"
    },
    "tags": []
   },
   "outputs": [
    {
     "name": "stderr",
     "output_type": "stream",
     "text": [
      "[I 2020-08-29 01:04:57,351] Trial 0 finished with value: 0.0 and parameters: {'max_depth': 14, 'n_estimators': 48, 'learning_rate': 0.7151893948534829, 'num_leaves': 4933, 'min_child_samples': 198}. Best is trial 0 with value: 0.0.\n",
      "[I 2020-08-29 01:04:57,377] Trial 1 finished with value: 0.36363636363636365 and parameters: {'max_depth': 9, 'n_estimators': 10, 'learning_rate': 0.6235637344296027, 'num_leaves': 3470, 'min_child_samples': 61}. Best is trial 1 with value: 0.36363636363636365.\n",
      "[I 2020-08-29 01:04:57,430] Trial 2 finished with value: 0.25806451612903225 and parameters: {'max_depth': 3, 'n_estimators': 487, 'learning_rate': 0.8121687475586203, 'num_leaves': 2224, 'min_child_samples': 91}. Best is trial 1 with value: 0.36363636363636365.\n",
      "[I 2020-08-29 01:04:57,449] Trial 3 finished with value: 0.0 and parameters: {'max_depth': 19, 'n_estimators': 166, 'learning_rate': 0.8360787799295012, 'num_leaves': 2165, 'min_child_samples': 200}. Best is trial 1 with value: 0.36363636363636365.\n",
      "[I 2020-08-29 01:04:57,473] Trial 4 finished with value: 0.0 and parameters: {'max_depth': 17, 'n_estimators': 432, 'learning_rate': 0.8700872713497105, 'num_leaves': 101, 'min_child_samples': 180}. Best is trial 1 with value: 0.36363636363636365.\n",
      "[I 2020-08-29 01:04:57,536] Trial 5 finished with value: 0.5238095238095238 and parameters: {'max_depth': 21, 'n_estimators': 286, 'learning_rate': 0.7805291982335378, 'num_leaves': 425, 'min_child_samples': 35}. Best is trial 5 with value: 0.5238095238095238.\n",
      "[I 2020-08-29 01:04:57,581] Trial 6 finished with value: 0.39999999999999997 and parameters: {'max_depth': 3, 'n_estimators': 266, 'learning_rate': 0.5373732757116877, 'num_leaves': 546, 'min_child_samples': 34}. Best is trial 5 with value: 0.5238095238095238.\n",
      "[I 2020-08-29 01:04:57,776] Trial 7 finished with value: 0.0 and parameters: {'max_depth': 12, 'n_estimators': 245, 'learning_rate': 0.47360047198661553, 'num_leaves': 3533, 'min_child_samples': 117}. Best is trial 5 with value: 0.5238095238095238.\n",
      "[I 2020-08-29 01:04:57,794] Trial 8 finished with value: 0.0 and parameters: {'max_depth': 25, 'n_estimators': 29, 'learning_rate': 0.5684339920252536, 'num_leaves': 2178, 'min_child_samples': 167}. Best is trial 5 with value: 0.5238095238095238.\n",
      "[I 2020-08-29 01:04:57,877] Trial 9 finished with value: 0.4390243902439025 and parameters: {'max_depth': 23, 'n_estimators': 390, 'learning_rate': 0.6120957615128492, 'num_leaves': 758, 'min_child_samples': 20}. Best is trial 5 with value: 0.5238095238095238.\n",
      "[I 2020-08-29 01:04:58,127] Trial 10 finished with value: 0.5789473684210527 and parameters: {'max_depth': 29, 'n_estimators': 335, 'learning_rate': 0.02076893269004998, 'num_leaves': 1230, 'min_child_samples': 6}. Best is trial 10 with value: 0.5789473684210527.\n",
      "[I 2020-08-29 01:04:58,628] Trial 11 finished with value: 0.4864864864864865 and parameters: {'max_depth': 30, 'n_estimators': 324, 'learning_rate': 0.007187425733340358, 'num_leaves': 1229, 'min_child_samples': 3}. Best is trial 10 with value: 0.5789473684210527.\n",
      "[I 2020-08-29 01:04:58,680] Trial 12 finished with value: 0.3125 and parameters: {'max_depth': 30, 'n_estimators': 177, 'learning_rate': 0.24187289053416502, 'num_leaves': 1294, 'min_child_samples': 55}. Best is trial 10 with value: 0.5789473684210527.\n",
      "[I 2020-08-29 01:04:58,750] Trial 13 finished with value: 0.4 and parameters: {'max_depth': 25, 'n_estimators': 354, 'learning_rate': 0.0031714288364195764, 'num_leaves': 6, 'min_child_samples': 19}. Best is trial 10 with value: 0.5789473684210527.\n",
      "[I 2020-08-29 01:04:58,862] Trial 14 finished with value: 0.55 and parameters: {'max_depth': 21, 'n_estimators': 274, 'learning_rate': 0.3277709490663164, 'num_leaves': 1461, 'min_child_samples': 5}. Best is trial 10 with value: 0.5789473684210527.\n",
      "[I 2020-08-29 01:04:58,979] Trial 15 finished with value: 0.55 and parameters: {'max_depth': 28, 'n_estimators': 194, 'learning_rate': 0.22305097664642243, 'num_leaves': 1405, 'min_child_samples': 4}. Best is trial 10 with value: 0.5789473684210527.\n",
      "[I 2020-08-29 01:04:59,013] Trial 16 finished with value: 0.0 and parameters: {'max_depth': 27, 'n_estimators': 440, 'learning_rate': 0.21278491044983747, 'num_leaves': 2828, 'min_child_samples': 129}. Best is trial 10 with value: 0.5789473684210527.\n",
      "[I 2020-08-29 01:04:59,080] Trial 17 finished with value: 0.411764705882353 and parameters: {'max_depth': 21, 'n_estimators': 333, 'learning_rate': 0.38081826763427506, 'num_leaves': 1530, 'min_child_samples': 78}. Best is trial 10 with value: 0.5789473684210527.\n",
      "[I 2020-08-29 01:04:59,154] Trial 18 finished with value: 0.4 and parameters: {'max_depth': 30, 'n_estimators': 156, 'learning_rate': 0.10509019609010418, 'num_leaves': 2935, 'min_child_samples': 51}. Best is trial 10 with value: 0.5789473684210527.\n",
      "[I 2020-08-29 01:04:59,217] Trial 19 finished with value: 0.5714285714285715 and parameters: {'max_depth': 27, 'n_estimators': 118, 'learning_rate': 0.11981681344512984, 'num_leaves': 1029, 'min_child_samples': 14}. Best is trial 10 with value: 0.5789473684210527.\n",
      "[I 2020-08-29 01:04:59,249] Trial 20 finished with value: 0.0 and parameters: {'max_depth': 27, 'n_estimators': 89, 'learning_rate': 0.0492730052062193, 'num_leaves': 893, 'min_child_samples': 148}. Best is trial 10 with value: 0.5789473684210527.\n",
      "[I 2020-08-29 01:04:59,385] Trial 21 finished with value: 0.5263157894736841 and parameters: {'max_depth': 28, 'n_estimators': 216, 'learning_rate': 0.1610658741519602, 'num_leaves': 1775, 'min_child_samples': 5}. Best is trial 10 with value: 0.5789473684210527.\n",
      "[I 2020-08-29 01:04:59,433] Trial 22 finished with value: 0.46153846153846156 and parameters: {'max_depth': 25, 'n_estimators': 103, 'learning_rate': 0.2942212755096268, 'num_leaves': 872, 'min_child_samples': 25}. Best is trial 10 with value: 0.5789473684210527.\n",
      "[I 2020-08-29 01:04:59,582] Trial 23 finished with value: 0.5641025641025642 and parameters: {'max_depth': 30, 'n_estimators': 204, 'learning_rate': 0.1267686942895093, 'num_leaves': 1724, 'min_child_samples': 5}. Best is trial 10 with value: 0.5789473684210527.\n",
      "[I 2020-08-29 01:04:59,626] Trial 24 finished with value: 0.3684210526315789 and parameters: {'max_depth': 30, 'n_estimators': 72, 'learning_rate': 0.9695038896358292, 'num_leaves': 1954, 'min_child_samples': 39}. Best is trial 10 with value: 0.5789473684210527.\n",
      "[I 2020-08-29 01:04:59,681] Trial 25 finished with value: 0.3529411764705882 and parameters: {'max_depth': 24, 'n_estimators': 129, 'learning_rate': 0.115399396731506, 'num_leaves': 2628, 'min_child_samples': 67}. Best is trial 10 with value: 0.5789473684210527.\n",
      "[I 2020-08-29 01:04:59,758] Trial 26 finished with value: 0.5853658536585366 and parameters: {'max_depth': 28, 'n_estimators': 211, 'learning_rate': 0.08528045282288252, 'num_leaves': 353, 'min_child_samples': 15}. Best is trial 26 with value: 0.5853658536585366.\n",
      "[I 2020-08-29 01:04:59,833] Trial 27 finished with value: 0.5 and parameters: {'max_depth': 27, 'n_estimators': 235, 'learning_rate': 0.0444160465161988, 'num_leaves': 272, 'min_child_samples': 18}. Best is trial 26 with value: 0.5853658536585366.\n",
      "[I 2020-08-29 01:04:59,893] Trial 28 finished with value: 0.3783783783783784 and parameters: {'max_depth': 7, 'n_estimators': 300, 'learning_rate': 0.4351698818822388, 'num_leaves': 1011, 'min_child_samples': 46}. Best is trial 26 with value: 0.5853658536585366.\n",
      "[I 2020-08-29 01:04:59,937] Trial 29 finished with value: 0.36363636363636365 and parameters: {'max_depth': 15, 'n_estimators': 141, 'learning_rate': 0.06227115316354093, 'num_leaves': 538, 'min_child_samples': 71}. Best is trial 26 with value: 0.5853658536585366.\n",
      "[I 2020-08-29 01:05:00,029] Trial 30 finished with value: 0.5454545454545454 and parameters: {'max_depth': 23, 'n_estimators': 383, 'learning_rate': 0.1752485606796723, 'num_leaves': 189, 'min_child_samples': 23}. Best is trial 26 with value: 0.5853658536585366.\n",
      "[I 2020-08-29 01:05:00,323] Trial 31 finished with value: 0.5263157894736841 and parameters: {'max_depth': 29, 'n_estimators': 210, 'learning_rate': 0.12693276743710183, 'num_leaves': 4872, 'min_child_samples': 3}. Best is trial 26 with value: 0.5853658536585366.\n",
      "[I 2020-08-29 01:05:00,534] Trial 32 finished with value: 0.55 and parameters: {'max_depth': 26, 'n_estimators': 234, 'learning_rate': 0.28720531401318183, 'num_leaves': 1750, 'min_child_samples': 14}. Best is trial 26 with value: 0.5853658536585366.\n",
      "[I 2020-08-29 01:05:00,612] Trial 33 finished with value: 0.21428571428571427 and parameters: {'max_depth': 30, 'n_estimators': 60, 'learning_rate': 0.015458507148253031, 'num_leaves': 1053, 'min_child_samples': 38}. Best is trial 26 with value: 0.5853658536585366.\n",
      "[I 2020-08-29 01:05:00,681] Trial 34 finished with value: 0.3428571428571428 and parameters: {'max_depth': 28, 'n_estimators': 122, 'learning_rate': 0.0965869292232241, 'num_leaves': 650, 'min_child_samples': 30}. Best is trial 26 with value: 0.5853658536585366.\n",
      "[I 2020-08-29 01:05:00,994] Trial 35 finished with value: 0.55 and parameters: {'max_depth': 19, 'n_estimators': 185, 'learning_rate': 0.17778881386201503, 'num_leaves': 1714, 'min_child_samples': 13}. Best is trial 26 with value: 0.5853658536585366.\n",
      "[I 2020-08-29 01:05:01,027] Trial 36 finished with value: 0.3125 and parameters: {'max_depth': 12, 'n_estimators': 7, 'learning_rate': 0.3676851649145998, 'num_leaves': 2435, 'min_child_samples': 83}. Best is trial 26 with value: 0.5853658536585366.\n",
      "[I 2020-08-29 01:05:01,101] Trial 37 finished with value: 0.27586206896551724 and parameters: {'max_depth': 22, 'n_estimators': 300, 'learning_rate': 0.0037484459169696283, 'num_leaves': 1113, 'min_child_samples': 46}. Best is trial 26 with value: 0.5853658536585366.\n",
      "[I 2020-08-29 01:05:01,268] Trial 38 finished with value: 0.5 and parameters: {'max_depth': 19, 'n_estimators': 260, 'learning_rate': 0.07415814700432213, 'num_leaves': 1918, 'min_child_samples': 8}. Best is trial 26 with value: 0.5853658536585366.\n",
      "[I 2020-08-29 01:05:01,312] Trial 39 finished with value: 0.3870967741935483 and parameters: {'max_depth': 26, 'n_estimators': 157, 'learning_rate': 0.14096702205978642, 'num_leaves': 404, 'min_child_samples': 102}. Best is trial 26 with value: 0.5853658536585366.\n",
      "[I 2020-08-29 01:05:01,404] Trial 40 finished with value: 0.5116279069767442 and parameters: {'max_depth': 17, 'n_estimators': 209, 'learning_rate': 0.7247848102594698, 'num_leaves': 1572, 'min_child_samples': 29}. Best is trial 26 with value: 0.5853658536585366.\n",
      "[I 2020-08-29 01:05:01,517] Trial 41 finished with value: 0.5365853658536586 and parameters: {'max_depth': 26, 'n_estimators': 237, 'learning_rate': 0.22112074361597223, 'num_leaves': 1995, 'min_child_samples': 14}. Best is trial 26 with value: 0.5853658536585366.\n",
      "[I 2020-08-29 01:05:01,624] Trial 42 finished with value: 0.6 and parameters: {'max_depth': 29, 'n_estimators': 225, 'learning_rate': 0.3041346821867264, 'num_leaves': 2215, 'min_child_samples': 11}. Best is trial 42 with value: 0.6.\n",
      "[I 2020-08-29 01:05:01,725] Trial 43 finished with value: 0.47619047619047616 and parameters: {'max_depth': 29, 'n_estimators': 287, 'learning_rate': 0.2895237229307721, 'num_leaves': 3260, 'min_child_samples': 30}. Best is trial 42 with value: 0.6.\n",
      "[I 2020-08-29 01:05:01,848] Trial 44 finished with value: 0.4324324324324324 and parameters: {'max_depth': 29, 'n_estimators': 173, 'learning_rate': 0.2636197776865623, 'num_leaves': 2353, 'min_child_samples': 3}. Best is trial 42 with value: 0.6.\n",
      "[I 2020-08-29 01:05:01,931] Trial 45 finished with value: 0.2857142857142857 and parameters: {'max_depth': 28, 'n_estimators': 329, 'learning_rate': 0.19074024971719672, 'num_leaves': 1266, 'min_child_samples': 39}. Best is trial 42 with value: 0.6.\n",
      "[I 2020-08-29 01:05:01,969] Trial 46 finished with value: 0.4 and parameters: {'max_depth': 24, 'n_estimators': 37, 'learning_rate': 0.3804315350796246, 'num_leaves': 2128, 'min_child_samples': 57}. Best is trial 42 with value: 0.6.\n",
      "[I 2020-08-29 01:05:02,122] Trial 47 finished with value: 0.55 and parameters: {'max_depth': 30, 'n_estimators': 475, 'learning_rate': 0.4653590641190851, 'num_leaves': 2574, 'min_child_samples': 15}. Best is trial 42 with value: 0.6.\n",
      "[I 2020-08-29 01:05:02,236] Trial 48 finished with value: 0.3888888888888889 and parameters: {'max_depth': 27, 'n_estimators': 260, 'learning_rate': 0.02974249885853468, 'num_leaves': 4160, 'min_child_samples': 24}. Best is trial 42 with value: 0.6.\n",
      "[I 2020-08-29 01:05:02,308] Trial 49 finished with value: 0.6666666666666666 and parameters: {'max_depth': 5, 'n_estimators': 215, 'learning_rate': 0.3328652901231337, 'num_leaves': 750, 'min_child_samples': 11}. Best is trial 49 with value: 0.6666666666666666.\n",
      "[I 2020-08-29 01:05:02,370] Trial 50 finished with value: 0.3684210526315789 and parameters: {'max_depth': 5, 'n_estimators': 303, 'learning_rate': 0.535085299154768, 'num_leaves': 745, 'min_child_samples': 44}. Best is trial 49 with value: 0.6666666666666666.\n",
      "[I 2020-08-29 01:05:02,447] Trial 51 finished with value: 0.6190476190476191 and parameters: {'max_depth': 9, 'n_estimators': 196, 'learning_rate': 0.34185418399996587, 'num_leaves': 1304, 'min_child_samples': 10}. Best is trial 49 with value: 0.6666666666666666.\n",
      "[I 2020-08-29 01:05:02,492] Trial 52 finished with value: 0.55 and parameters: {'max_depth': 2, 'n_estimators': 182, 'learning_rate': 0.3389826994529328, 'num_leaves': 1189, 'min_child_samples': 10}. Best is trial 49 with value: 0.6666666666666666.\n",
      "[I 2020-08-29 01:05:02,568] Trial 53 finished with value: 0.45 and parameters: {'max_depth': 10, 'n_estimators': 223, 'learning_rate': 0.3276608599235406, 'num_leaves': 553, 'min_child_samples': 18}. Best is trial 49 with value: 0.6666666666666666.\n",
      "[I 2020-08-29 01:05:02,663] Trial 54 finished with value: 0.5 and parameters: {'max_depth': 7, 'n_estimators': 144, 'learning_rate': 0.4111897929923948, 'num_leaves': 5, 'min_child_samples': 34}. Best is trial 49 with value: 0.6666666666666666.\n",
      "[I 2020-08-29 01:05:02,738] Trial 55 finished with value: 0.5116279069767442 and parameters: {'max_depth': 4, 'n_estimators': 357, 'learning_rate': 0.6126971463602383, 'num_leaves': 854, 'min_child_samples': 23}. Best is trial 49 with value: 0.6666666666666666.\n",
      "[I 2020-08-29 01:05:02,796] Trial 56 finished with value: 0.5641025641025642 and parameters: {'max_depth': 7, 'n_estimators': 101, 'learning_rate': 0.4994389995952131, 'num_leaves': 386, 'min_child_samples': 3}. Best is trial 49 with value: 0.6666666666666666.\n",
      "[I 2020-08-29 01:05:02,884] Trial 57 finished with value: 0.6 and parameters: {'max_depth': 10, 'n_estimators': 249, 'learning_rate': 0.42749754230724724, 'num_leaves': 1424, 'min_child_samples': 11}. Best is trial 49 with value: 0.6666666666666666.\n",
      "[I 2020-08-29 01:05:02,968] Trial 58 finished with value: 0.55 and parameters: {'max_depth': 9, 'n_estimators': 279, 'learning_rate': 0.4465276545282127, 'num_leaves': 1444, 'min_child_samples': 9}. Best is trial 49 with value: 0.6666666666666666.\n",
      "[I 2020-08-29 01:05:03,000] Trial 59 finished with value: 0.0 and parameters: {'max_depth': 13, 'n_estimators': 225, 'learning_rate': 0.40600711679431645, 'num_leaves': 1382, 'min_child_samples': 197}. Best is trial 49 with value: 0.6666666666666666.\n",
      "[I 2020-08-29 01:05:03,064] Trial 60 finished with value: 0.5454545454545454 and parameters: {'max_depth': 10, 'n_estimators': 196, 'learning_rate': 0.5249332935097514, 'num_leaves': 1573, 'min_child_samples': 29}. Best is trial 49 with value: 0.6666666666666666.\n",
      "[I 2020-08-29 01:05:03,133] Trial 61 finished with value: 0.4878048780487805 and parameters: {'max_depth': 5, 'n_estimators': 252, 'learning_rate': 0.2542421836682936, 'num_leaves': 976, 'min_child_samples': 21}. Best is trial 49 with value: 0.6666666666666666.\n",
      "[I 2020-08-29 01:05:03,209] Trial 62 finished with value: 0.5641025641025642 and parameters: {'max_depth': 6, 'n_estimators': 249, 'learning_rate': 0.3156924457506198, 'num_leaves': 785, 'min_child_samples': 10}. Best is trial 49 with value: 0.6666666666666666.\n",
      "[I 2020-08-29 01:05:03,290] Trial 63 finished with value: 0.4864864864864865 and parameters: {'max_depth': 11, 'n_estimators': 197, 'learning_rate': 0.3403432386935736, 'num_leaves': 1245, 'min_child_samples': 18}. Best is trial 49 with value: 0.6666666666666666.\n",
      "[I 2020-08-29 01:05:03,365] Trial 64 finished with value: 0.5714285714285715 and parameters: {'max_depth': 8, 'n_estimators': 273, 'learning_rate': 0.5677984485040635, 'num_leaves': 227, 'min_child_samples': 11}. Best is trial 49 with value: 0.6666666666666666.\n",
      "[I 2020-08-29 01:05:03,437] Trial 65 finished with value: 0.5128205128205128 and parameters: {'max_depth': 8, 'n_estimators': 271, 'learning_rate': 0.6717302416722761, 'num_leaves': 196, 'min_child_samples': 4}. Best is trial 49 with value: 0.6666666666666666.\n",
      "[I 2020-08-29 01:05:03,479] Trial 66 finished with value: 0.3684210526315789 and parameters: {'max_depth': 2, 'n_estimators': 157, 'learning_rate': 0.4107496603496909, 'num_leaves': 581, 'min_child_samples': 27}. Best is trial 49 with value: 0.6666666666666666.\n",
      "[I 2020-08-29 01:05:03,568] Trial 67 finished with value: 0.6511627906976744 and parameters: {'max_depth': 9, 'n_estimators': 348, 'learning_rate': 0.5596529513473083, 'num_leaves': 352, 'min_child_samples': 3}. Best is trial 49 with value: 0.6666666666666666.\n",
      "[I 2020-08-29 01:05:03,659] Trial 68 finished with value: 0.4444444444444444 and parameters: {'max_depth': 14, 'n_estimators': 376, 'learning_rate': 0.5064796722353304, 'num_leaves': 61, 'min_child_samples': 3}. Best is trial 49 with value: 0.6666666666666666.\n",
      "[I 2020-08-29 01:05:03,694] Trial 69 finished with value: 0.0 and parameters: {'max_depth': 9, 'n_estimators': 407, 'learning_rate': 0.5649772738996265, 'num_leaves': 696, 'min_child_samples': 143}. Best is trial 49 with value: 0.6666666666666666.\n",
      "[I 2020-08-29 01:05:03,759] Trial 70 finished with value: 0.46153846153846156 and parameters: {'max_depth': 3, 'n_estimators': 320, 'learning_rate': 0.6652478518828516, 'num_leaves': 407, 'min_child_samples': 21}. Best is trial 49 with value: 0.6666666666666666.\n",
      "[I 2020-08-29 01:05:03,841] Trial 71 finished with value: 0.47368421052631576 and parameters: {'max_depth': 8, 'n_estimators': 337, 'learning_rate': 0.5595815570208074, 'num_leaves': 291, 'min_child_samples': 10}. Best is trial 49 with value: 0.6666666666666666.\n",
      "[I 2020-08-29 01:05:03,941] Trial 72 finished with value: 0.5714285714285715 and parameters: {'max_depth': 10, 'n_estimators': 350, 'learning_rate': 0.4844195814288415, 'num_leaves': 935, 'min_child_samples': 15}. Best is trial 49 with value: 0.6666666666666666.\n",
      "[I 2020-08-29 01:05:04,047] Trial 73 finished with value: 0.4878048780487805 and parameters: {'max_depth': 11, 'n_estimators': 420, 'learning_rate': 0.09134506312123875, 'num_leaves': 1094, 'min_child_samples': 34}. Best is trial 49 with value: 0.6666666666666666.\n",
      "[I 2020-08-29 01:05:04,122] Trial 74 finished with value: 0.5641025641025642 and parameters: {'max_depth': 8, 'n_estimators': 314, 'learning_rate': 0.6211745113084848, 'num_leaves': 125, 'min_child_samples': 10}. Best is trial 49 with value: 0.6666666666666666.\n",
      "[I 2020-08-29 01:05:04,220] Trial 75 finished with value: 0.5714285714285715 and parameters: {'max_depth': 12, 'n_estimators': 348, 'learning_rate': 0.47775060904790045, 'num_leaves': 892, 'min_child_samples': 17}. Best is trial 49 with value: 0.6666666666666666.\n",
      "[I 2020-08-29 01:05:04,338] Trial 76 finished with value: 0.5714285714285715 and parameters: {'max_depth': 13, 'n_estimators': 368, 'learning_rate': 0.3594427140334396, 'num_leaves': 1349, 'min_child_samples': 18}. Best is trial 49 with value: 0.6666666666666666.\n",
      "[I 2020-08-29 01:05:04,413] Trial 77 finished with value: 0.5641025641025642 and parameters: {'max_depth': 6, 'n_estimators': 288, 'learning_rate': 0.5778832995359238, 'num_leaves': 485, 'min_child_samples': 3}. Best is trial 49 with value: 0.6666666666666666.\n",
      "[I 2020-08-29 01:05:04,493] Trial 78 finished with value: 0.4210526315789474 and parameters: {'max_depth': 29, 'n_estimators': 222, 'learning_rate': 0.4360052088042573, 'num_leaves': 1601, 'min_child_samples': 25}. Best is trial 49 with value: 0.6666666666666666.\n",
      "[I 2020-08-29 01:05:04,548] Trial 79 finished with value: 0.3529411764705882 and parameters: {'max_depth': 4, 'n_estimators': 397, 'learning_rate': 0.6647464253278241, 'num_leaves': 276, 'min_child_samples': 99}. Best is trial 49 with value: 0.6666666666666666.\n",
      "[I 2020-08-29 01:05:04,629] Trial 80 finished with value: 0.4 and parameters: {'max_depth': 15, 'n_estimators': 368, 'learning_rate': 0.37582347014711487, 'num_leaves': 1320, 'min_child_samples': 52}. Best is trial 49 with value: 0.6666666666666666.\n",
      "[I 2020-08-29 01:05:04,696] Trial 81 finished with value: 0.55 and parameters: {'max_depth': 9, 'n_estimators': 171, 'learning_rate': 0.5875967129673768, 'num_leaves': 1120, 'min_child_samples': 8}. Best is trial 49 with value: 0.6666666666666666.\n",
      "[I 2020-08-29 01:05:04,787] Trial 82 finished with value: 0.5 and parameters: {'max_depth': 11, 'n_estimators': 346, 'learning_rate': 0.5110994390500895, 'num_leaves': 638, 'min_child_samples': 14}. Best is trial 49 with value: 0.6666666666666666.\n",
      "[I 2020-08-29 01:05:04,903] Trial 83 finished with value: 0.5365853658536586 and parameters: {'max_depth': 12, 'n_estimators': 367, 'learning_rate': 0.46667712723317406, 'num_leaves': 1833, 'min_child_samples': 19}. Best is trial 49 with value: 0.6666666666666666.\n",
      "[I 2020-08-29 01:05:05,006] Trial 84 finished with value: 0.47619047619047616 and parameters: {'max_depth': 10, 'n_estimators': 446, 'learning_rate': 0.47572422901617745, 'num_leaves': 979, 'min_child_samples': 32}. Best is trial 49 with value: 0.6666666666666666.\n",
      "[I 2020-08-29 01:05:05,106] Trial 85 finished with value: 0.5 and parameters: {'max_depth': 28, 'n_estimators': 238, 'learning_rate': 0.3062649693771783, 'num_leaves': 823, 'min_child_samples': 5}. Best is trial 49 with value: 0.6666666666666666.\n",
      "[I 2020-08-29 01:05:05,181] Trial 86 finished with value: 0.3783783783783784 and parameters: {'max_depth': 13, 'n_estimators': 208, 'learning_rate': 0.36577012048913776, 'num_leaves': 2865, 'min_child_samples': 41}. Best is trial 49 with value: 0.6666666666666666.\n",
      "[I 2020-08-29 01:05:05,266] Trial 87 finished with value: 0.4878048780487805 and parameters: {'max_depth': 16, 'n_estimators': 193, 'learning_rate': 0.23128725073215262, 'num_leaves': 3124, 'min_child_samples': 26}. Best is trial 49 with value: 0.6666666666666666.\n",
      "[I 2020-08-29 01:05:05,336] Trial 88 finished with value: 0.6046511627906976 and parameters: {'max_depth': 26, 'n_estimators': 129, 'learning_rate': 0.15632177873132586, 'num_leaves': 1183, 'min_child_samples': 14}. Best is trial 49 with value: 0.6666666666666666.\n",
      "[I 2020-08-29 01:05:05,448] Trial 89 finished with value: 0.6153846153846153 and parameters: {'max_depth': 29, 'n_estimators': 256, 'learning_rate': 0.34718097274327364, 'num_leaves': 2105, 'min_child_samples': 7}. Best is trial 49 with value: 0.6666666666666666.\n",
      "[I 2020-08-29 01:05:05,549] Trial 90 finished with value: 0.5365853658536586 and parameters: {'max_depth': 29, 'n_estimators': 134, 'learning_rate': 0.1943962986250739, 'num_leaves': 2251, 'min_child_samples': 8}. Best is trial 49 with value: 0.6666666666666666.\n",
      "[I 2020-08-29 01:05:05,618] Trial 91 finished with value: 0.55 and parameters: {'max_depth': 26, 'n_estimators': 114, 'learning_rate': 0.2817893541793348, 'num_leaves': 2108, 'min_child_samples': 14}. Best is trial 49 with value: 0.6666666666666666.\n",
      "[I 2020-08-29 01:05:05,715] Trial 92 finished with value: 0.5263157894736841 and parameters: {'max_depth': 27, 'n_estimators': 260, 'learning_rate': 0.4044593413739676, 'num_leaves': 1676, 'min_child_samples': 11}. Best is trial 49 with value: 0.6666666666666666.\n",
      "[I 2020-08-29 01:05:06,017] Trial 93 finished with value: 0.4324324324324324 and parameters: {'max_depth': 30, 'n_estimators': 307, 'learning_rate': 0.06977735123917199, 'num_leaves': 1869, 'min_child_samples': 3}. Best is trial 49 with value: 0.6666666666666666.\n",
      "[I 2020-08-29 01:05:06,084] Trial 94 finished with value: 0.5 and parameters: {'max_depth': 6, 'n_estimators': 244, 'learning_rate': 0.2609642241683083, 'num_leaves': 1455, 'min_child_samples': 22}. Best is trial 49 with value: 0.6666666666666666.\n",
      "[I 2020-08-29 01:05:06,163] Trial 95 finished with value: 0.55 and parameters: {'max_depth': 25, 'n_estimators': 77, 'learning_rate': 0.1467448503517899, 'num_leaves': 2343, 'min_child_samples': 7}. Best is trial 49 with value: 0.6666666666666666.\n",
      "[I 2020-08-29 01:05:06,244] Trial 96 finished with value: 0.5789473684210527 and parameters: {'max_depth': 28, 'n_estimators': 163, 'learning_rate': 0.01585300626137503, 'num_leaves': 1156, 'min_child_samples': 14}. Best is trial 49 with value: 0.6666666666666666.\n",
      "[I 2020-08-29 01:05:06,307] Trial 97 finished with value: 0.4324324324324324 and parameters: {'max_depth': 28, 'n_estimators': 159, 'learning_rate': 0.017303810583180243, 'num_leaves': 1252, 'min_child_samples': 27}. Best is trial 49 with value: 0.6666666666666666.\n",
      "[I 2020-08-29 01:05:06,368] Trial 98 finished with value: 0.3428571428571428 and parameters: {'max_depth': 29, 'n_estimators': 148, 'learning_rate': 0.0419982463713815, 'num_leaves': 2066, 'min_child_samples': 36}. Best is trial 49 with value: 0.6666666666666666.\n",
      "[I 2020-08-29 01:05:06,440] Trial 99 finished with value: 0.4390243902439025 and parameters: {'max_depth': 28, 'n_estimators': 183, 'learning_rate': 0.3485437373928956, 'num_leaves': 1164, 'min_child_samples': 21}. Best is trial 49 with value: 0.6666666666666666.\n"
     ]
    },
    {
     "name": "stdout",
     "output_type": "stream",
     "text": [
      "Optimized LightGBM:  0.7666666666666667\n",
      "Optimized LightGBM f1-score 0.6666666666666666\n",
      "Optimized LightGBM precision 0.7368421052631579\n",
      "Optimized LightGBM recall 0.6086956521739131\n"
     ]
    }
   ],
   "source": [
    "def create_model(trial):\n",
    "    max_depth = trial.suggest_int(\"max_depth\", 2, 30)\n",
    "    n_estimators = trial.suggest_int(\"n_estimators\", 1, 500)\n",
    "    learning_rate = trial.suggest_uniform('learning_rate', 0.0000001, 1)\n",
    "    num_leaves = trial.suggest_int(\"num_leaves\", 2, 5000)\n",
    "    min_child_samples = trial.suggest_int('min_child_samples', 3, 200)\n",
    "    model = LGBMClassifier(learning_rate=learning_rate, n_estimators=n_estimators, max_depth=max_depth, num_leaves=num_leaves, min_child_samples=min_child_samples,\n",
    "                           random_state=0)\n",
    "    return model\n",
    "\n",
    "sampler = TPESampler(seed=0)\n",
    "def objective(trial):\n",
    "    model = create_model(trial)\n",
    "    model.fit(X, y)\n",
    "    preds = model.predict(X_test)\n",
    "    score = f1_score(y_test, preds)\n",
    "    return score\n",
    "\n",
    "# 自动化调参\n",
    "study = optuna.create_study(direction=\"maximize\", sampler=sampler)\n",
    "study.optimize(objective, n_trials=100)\n",
    "\n",
    "lgb_params = study.best_params\n",
    "lgb_params['random_state'] = 0\n",
    "lgb = LGBMClassifier(**lgb_params)\n",
    "lgb.fit(X, y)\n",
    "preds = lgb.predict(X_test)\n",
    "print('Optimized LightGBM: ', accuracy_score(y_test, preds))\n",
    "print('Optimized LightGBM f1-score', f1_score(y_test, preds))\n",
    "print('Optimized LightGBM precision', precision_score(y_test, preds))\n",
    "print('Optimized LightGBM recall', recall_score(y_test, preds))"
   ]
  },
  {
   "cell_type": "code",
   "execution_count": 31,
   "metadata": {
    "execution": {
     "iopub.execute_input": "2020-08-29T01:05:06.658493Z",
     "iopub.status.busy": "2020-08-29T01:05:06.657660Z",
     "iopub.status.idle": "2020-08-29T01:05:06.855101Z",
     "shell.execute_reply": "2020-08-29T01:05:06.854438Z"
    },
    "papermill": {
     "duration": 0.273067,
     "end_time": "2020-08-29T01:05:06.855410",
     "exception": false,
     "start_time": "2020-08-29T01:05:06.582343",
     "status": "completed"
    },
    "tags": []
   },
   "outputs": [
    {
     "data": {
      "image/png": "[encoded data removed]",
      "text/plain": [
       "<Figure size 432x288 with 2 Axes>"
      ]
     },
     "metadata": {
      "needs_background": "light"
     },
     "output_type": "display_data"
    }
   ],
   "source": [
    "plot_confusion_matrix(lgb, X_test, y_test)\n",
    "plt.show()"
   ]
  },
  {
   "cell_type": "markdown",
   "metadata": {
    "papermill": {
     "duration": 0.046563,
     "end_time": "2020-08-29T01:05:06.949441",
     "exception": false,
     "start_time": "2020-08-29T01:05:06.902878",
     "status": "completed"
    },
    "tags": []
   },
   "source": [
    "### We can see that f1-score became better."
   ]
  },
  {
   "cell_type": "markdown",
   "metadata": {
    "papermill": {
     "duration": 0.047008,
     "end_time": "2020-08-29T01:05:07.043463",
     "exception": false,
     "start_time": "2020-08-29T01:05:06.996455",
     "status": "completed"
    },
    "tags": []
   },
   "source": [
    "### Now we will try to improve model using Recursive feature elimination and find best the set of features for empty LightGBM model"
   ]
  },
  {
   "cell_type": "code",
   "execution_count": 32,
   "metadata": {
    "execution": {
     "iopub.execute_input": "2020-08-29T01:05:07.154656Z",
     "iopub.status.busy": "2020-08-29T01:05:07.150912Z",
     "iopub.status.idle": "2020-08-29T01:05:07.595989Z",
     "shell.execute_reply": "2020-08-29T01:05:07.592118Z"
    },
    "papermill": {
     "duration": 0.505267,
     "end_time": "2020-08-29T01:05:07.596176",
     "exception": false,
     "start_time": "2020-08-29T01:05:07.090909",
     "status": "completed"
    },
    "tags": []
   },
   "outputs": [
    {
     "name": "stdout",
     "output_type": "stream",
     "text": [
      "Number of features:  1\n",
      "LightGBM f1-score 0.2\n",
      "Number of features:  2\n",
      "LightGBM f1-score 0.5263157894736841\n",
      "Number of features:  3\n",
      "LightGBM f1-score 0.4210526315789474\n",
      "Number of features:  4\n",
      "LightGBM f1-score 0.5\n",
      "Number of features:  5\n",
      "LightGBM f1-score 0.3888888888888889\n",
      "Number of features:  6\n",
      "LightGBM f1-score 0.4210526315789474\n",
      "Number of features:  7\n",
      "LightGBM f1-score 0.46153846153846156\n",
      "Number of features:  8\n",
      "LightGBM f1-score 0.5365853658536586\n"
     ]
    }
   ],
   "source": [
    "for i in range(1, len(X.columns)+1):\n",
    "    rfe = RFE(estimator=DecisionTreeClassifier(random_state=0), n_features_to_select=i)\n",
    "    pipeline = Pipeline(steps=[('s',rfe),('m',LGBMClassifier(random_state=0))])\n",
    "    pipeline.fit(X, y)\n",
    "    preds = pipeline.predict(X_test)\n",
    "    print('Number of features: ', i)\n",
    "    print('LightGBM f1-score', f1_score(y_test, preds))"
   ]
  },
  {
   "cell_type": "markdown",
   "metadata": {
    "papermill": {
     "duration": 0.06309,
     "end_time": "2020-08-29T01:05:07.724469",
     "exception": false,
     "start_time": "2020-08-29T01:05:07.661379",
     "status": "completed"
    },
    "tags": []
   },
   "source": [
    "### We can see good scores for N_features = 2 and N_features = 8. For second case we already know results of optimization. Let's check the same for N_feauters = 2."
   ]
  },
  {
   "cell_type": "code",
   "execution_count": 33,
   "metadata": {
    "execution": {
     "iopub.execute_input": "2020-08-29T01:05:07.859581Z",
     "iopub.status.busy": "2020-08-29T01:05:07.858406Z",
     "iopub.status.idle": "2020-08-29T01:05:22.883767Z",
     "shell.execute_reply": "2020-08-29T01:05:22.881671Z"
    },
    "papermill": {
     "duration": 15.099314,
     "end_time": "2020-08-29T01:05:22.883928",
     "exception": false,
     "start_time": "2020-08-29T01:05:07.784614",
     "status": "completed"
    },
    "tags": []
   },
   "outputs": [
    {
     "name": "stderr",
     "output_type": "stream",
     "text": [
      "[I 2020-08-29 01:05:08,160] Trial 0 finished with value: 0.4878048780487805 and parameters: {'max_depth': 17, 'n_estimators': 389, 'learning_rate': 0.6818203309214534, 'num_leaves': 4986, 'min_child_samples': 4}. Best is trial 0 with value: 0.4878048780487805.\n",
      "[I 2020-08-29 01:05:08,208] Trial 1 finished with value: 0.0 and parameters: {'max_depth': 3, 'n_estimators': 488, 'learning_rate': 0.060225565606722674, 'num_leaves': 3944, 'min_child_samples': 122}. Best is trial 0 with value: 0.4878048780487805.\n",
      "[I 2020-08-29 01:05:08,306] Trial 2 finished with value: 0.0 and parameters: {'max_depth': 13, 'n_estimators': 431, 'learning_rate': 0.35815223115430833, 'num_leaves': 2448, 'min_child_samples': 102}. Best is trial 0 with value: 0.4878048780487805.\n",
      "[I 2020-08-29 01:05:08,424] Trial 3 finished with value: 0.18750000000000003 and parameters: {'max_depth': 23, 'n_estimators': 397, 'learning_rate': 0.5701968133982026, 'num_leaves': 4182, 'min_child_samples': 71}. Best is trial 0 with value: 0.4878048780487805.\n",
      "[I 2020-08-29 01:05:08,495] Trial 4 finished with value: 0.14814814814814817 and parameters: {'max_depth': 8, 'n_estimators': 453, 'learning_rate': 0.6527903517264592, 'num_leaves': 1206, 'min_child_samples': 81}. Best is trial 0 with value: 0.4878048780487805.\n",
      "[I 2020-08-29 01:05:08,536] Trial 5 finished with value: 0.0 and parameters: {'max_depth': 17, 'n_estimators': 149, 'learning_rate': 0.24442566755904355, 'num_leaves': 2769, 'min_child_samples': 144}. Best is trial 0 with value: 0.4878048780487805.\n",
      "[I 2020-08-29 01:05:08,581] Trial 6 finished with value: 0.0 and parameters: {'max_depth': 23, 'n_estimators': 342, 'learning_rate': 0.31720181034912187, 'num_leaves': 1607, 'min_child_samples': 172}. Best is trial 0 with value: 0.4878048780487805.\n",
      "[I 2020-08-29 01:05:08,689] Trial 7 finished with value: 0.46153846153846156 and parameters: {'max_depth': 5, 'n_estimators': 449, 'learning_rate': 0.6625269006973575, 'num_leaves': 3680, 'min_child_samples': 3}. Best is trial 0 with value: 0.4878048780487805.\n",
      "[I 2020-08-29 01:05:08,744] Trial 8 finished with value: 0.0 and parameters: {'max_depth': 19, 'n_estimators': 179, 'learning_rate': 0.6736596634698263, 'num_leaves': 818, 'min_child_samples': 96}. Best is trial 0 with value: 0.4878048780487805.\n",
      "[I 2020-08-29 01:05:08,784] Trial 9 finished with value: 0.0 and parameters: {'max_depth': 5, 'n_estimators': 99, 'learning_rate': 0.5096244257574625, 'num_leaves': 4466, 'min_child_samples': 152}. Best is trial 0 with value: 0.4878048780487805.\n",
      "[I 2020-08-29 01:05:08,987] Trial 10 finished with value: 0.4878048780487805 and parameters: {'max_depth': 29, 'n_estimators': 265, 'learning_rate': 0.8495632673517918, 'num_leaves': 4728, 'min_child_samples': 4}. Best is trial 0 with value: 0.4878048780487805.\n",
      "[I 2020-08-29 01:05:09,189] Trial 11 finished with value: 0.5 and parameters: {'max_depth': 30, 'n_estimators': 281, 'learning_rate': 0.9935015948926434, 'num_leaves': 5000, 'min_child_samples': 5}. Best is trial 11 with value: 0.5.\n",
      "[I 2020-08-29 01:05:09,309] Trial 12 finished with value: 0.5909090909090909 and parameters: {'max_depth': 28, 'n_estimators': 295, 'learning_rate': 0.9133036270559908, 'num_leaves': 4810, 'min_child_samples': 40}. Best is trial 12 with value: 0.5909090909090909.\n",
      "[I 2020-08-29 01:05:09,412] Trial 13 finished with value: 0.5365853658536586 and parameters: {'max_depth': 30, 'n_estimators': 279, 'learning_rate': 0.9998452472896944, 'num_leaves': 3100, 'min_child_samples': 45}. Best is trial 12 with value: 0.5909090909090909.\n",
      "[I 2020-08-29 01:05:09,501] Trial 14 finished with value: 0.5909090909090909 and parameters: {'max_depth': 26, 'n_estimators': 204, 'learning_rate': 0.9661051443228658, 'num_leaves': 3002, 'min_child_samples': 39}. Best is trial 12 with value: 0.5909090909090909.\n",
      "[I 2020-08-29 01:05:09,549] Trial 15 finished with value: 0.47368421052631576 and parameters: {'max_depth': 25, 'n_estimators': 29, 'learning_rate': 0.8612689616363931, 'num_leaves': 101, 'min_child_samples': 43}. Best is trial 12 with value: 0.5909090909090909.\n",
      "[I 2020-08-29 01:05:09,626] Trial 16 finished with value: 0.5 and parameters: {'max_depth': 26, 'n_estimators': 200, 'learning_rate': 0.8589191645356825, 'num_leaves': 1901, 'min_child_samples': 43}. Best is trial 12 with value: 0.5909090909090909.\n",
      "[I 2020-08-29 01:05:09,694] Trial 17 finished with value: 0.5365853658536586 and parameters: {'max_depth': 21, 'n_estimators': 86, 'learning_rate': 0.9572844149890053, 'num_leaves': 3421, 'min_child_samples': 28}. Best is trial 12 with value: 0.5909090909090909.\n",
      "[I 2020-08-29 01:05:09,789] Trial 18 finished with value: 0.25 and parameters: {'max_depth': 27, 'n_estimators': 331, 'learning_rate': 0.7869037432860112, 'num_leaves': 2284, 'min_child_samples': 63}. Best is trial 12 with value: 0.5909090909090909.\n",
      "[I 2020-08-29 01:05:09,879] Trial 19 finished with value: 0.5581395348837209 and parameters: {'max_depth': 11, 'n_estimators': 202, 'learning_rate': 0.9309752002070599, 'num_leaves': 3141, 'min_child_samples': 26}. Best is trial 12 with value: 0.5909090909090909.\n",
      "[I 2020-08-29 01:05:09,968] Trial 20 finished with value: 0.5581395348837209 and parameters: {'max_depth': 28, 'n_estimators': 329, 'learning_rate': 0.7535993446389391, 'num_leaves': 142, 'min_child_samples': 26}. Best is trial 12 with value: 0.5909090909090909.\n",
      "[I 2020-08-29 01:05:10,067] Trial 21 finished with value: 0.5909090909090909 and parameters: {'max_depth': 28, 'n_estimators': 338, 'learning_rate': 0.7594422989674814, 'num_leaves': 709, 'min_child_samples': 27}. Best is trial 12 with value: 0.5909090909090909.\n",
      "[I 2020-08-29 01:05:10,139] Trial 22 finished with value: 0.25 and parameters: {'max_depth': 24, 'n_estimators': 217, 'learning_rate': 0.9138597191649938, 'num_leaves': 1176, 'min_child_samples': 63}. Best is trial 12 with value: 0.5909090909090909.\n",
      "[I 2020-08-29 01:05:10,228] Trial 23 finished with value: 0.5116279069767442 and parameters: {'max_depth': 21, 'n_estimators': 241, 'learning_rate': 0.7841074507299551, 'num_leaves': 445, 'min_child_samples': 21}. Best is trial 12 with value: 0.5909090909090909.\n",
      "[I 2020-08-29 01:05:10,321] Trial 24 finished with value: 0.46153846153846156 and parameters: {'max_depth': 30, 'n_estimators': 296, 'learning_rate': 0.9865113523883369, 'num_leaves': 1976, 'min_child_samples': 51}. Best is trial 12 with value: 0.5909090909090909.\n",
      "[I 2020-08-29 01:05:10,437] Trial 25 finished with value: 0.14814814814814817 and parameters: {'max_depth': 27, 'n_estimators': 366, 'learning_rate': 0.7540735140381747, 'num_leaves': 4257, 'min_child_samples': 85}. Best is trial 12 with value: 0.5909090909090909.\n",
      "[I 2020-08-29 01:05:10,531] Trial 26 finished with value: 0.4888888888888889 and parameters: {'max_depth': 21, 'n_estimators': 140, 'learning_rate': 0.8783728074775152, 'num_leaves': 2791, 'min_child_samples': 16}. Best is trial 12 with value: 0.5909090909090909.\n",
      "[I 2020-08-29 01:05:10,609] Trial 27 finished with value: 0.5128205128205128 and parameters: {'max_depth': 25, 'n_estimators': 240, 'learning_rate': 0.5783881002235496, 'num_leaves': 1427, 'min_child_samples': 55}. Best is trial 12 with value: 0.5909090909090909.\n",
      "[I 2020-08-29 01:05:10,693] Trial 28 finished with value: 0.5581395348837209 and parameters: {'max_depth': 30, 'n_estimators': 310, 'learning_rate': 0.8106376241071583, 'num_leaves': 500, 'min_child_samples': 40}. Best is trial 12 with value: 0.5909090909090909.\n",
      "[I 2020-08-29 01:05:10,877] Trial 29 finished with value: 0.5454545454545454 and parameters: {'max_depth': 16, 'n_estimators': 383, 'learning_rate': 0.7211549111641188, 'num_leaves': 3638, 'min_child_samples': 14}. Best is trial 12 with value: 0.5909090909090909.\n",
      "[I 2020-08-29 01:05:11,034] Trial 30 finished with value: 0.6046511627906976 and parameters: {'max_depth': 28, 'n_estimators': 405, 'learning_rate': 0.9334471167814914, 'num_leaves': 4678, 'min_child_samples': 33}. Best is trial 30 with value: 0.6046511627906976.\n",
      "[I 2020-08-29 01:05:11,188] Trial 31 finished with value: 0.5714285714285715 and parameters: {'max_depth': 27, 'n_estimators': 406, 'learning_rate': 0.9201769970242943, 'num_leaves': 4793, 'min_child_samples': 34}. Best is trial 30 with value: 0.6046511627906976.\n",
      "[I 2020-08-29 01:05:11,656] Trial 32 finished with value: 0.4878048780487805 and parameters: {'max_depth': 27, 'n_estimators': 496, 'learning_rate': 0.9726006907009445, 'num_leaves': 4724, 'min_child_samples': 13}. Best is trial 30 with value: 0.6046511627906976.\n",
      "[I 2020-08-29 01:05:11,775] Trial 33 finished with value: 0.21428571428571427 and parameters: {'max_depth': 29, 'n_estimators': 362, 'learning_rate': 0.008766666098701026, 'num_leaves': 3938, 'min_child_samples': 59}. Best is trial 30 with value: 0.6046511627906976.\n",
      "[I 2020-08-29 01:05:11,910] Trial 34 finished with value: 0.18181818181818182 and parameters: {'max_depth': 24, 'n_estimators': 426, 'learning_rate': 0.916274171106659, 'num_leaves': 4531, 'min_child_samples': 70}. Best is trial 30 with value: 0.6046511627906976.\n",
      "[I 2020-08-29 01:05:12,010] Trial 35 finished with value: 0.0 and parameters: {'max_depth': 22, 'n_estimators': 314, 'learning_rate': 0.8204096658802347, 'num_leaves': 3974, 'min_child_samples': 118}. Best is trial 30 with value: 0.6046511627906976.\n",
      "[I 2020-08-29 01:05:12,185] Trial 36 finished with value: 0.6046511627906976 and parameters: {'max_depth': 19, 'n_estimators': 479, 'learning_rate': 0.6093156996507758, 'num_leaves': 4205, 'min_child_samples': 33}. Best is trial 30 with value: 0.6046511627906976.\n",
      "[I 2020-08-29 01:05:12,321] Trial 37 finished with value: 0.2 and parameters: {'max_depth': 14, 'n_estimators': 467, 'learning_rate': 0.4627730780461496, 'num_leaves': 4263, 'min_child_samples': 77}. Best is trial 30 with value: 0.6046511627906976.\n",
      "[I 2020-08-29 01:05:12,489] Trial 38 finished with value: 0.5714285714285715 and parameters: {'max_depth': 18, 'n_estimators': 419, 'learning_rate': 0.6126255370616931, 'num_leaves': 4999, 'min_child_samples': 34}. Best is trial 30 with value: 0.6046511627906976.\n",
      "[I 2020-08-29 01:05:12,600] Trial 39 finished with value: 0.14814814814814817 and parameters: {'max_depth': 14, 'n_estimators': 446, 'learning_rate': 0.511751245024065, 'num_leaves': 2605, 'min_child_samples': 89}. Best is trial 30 with value: 0.6046511627906976.\n",
      "[I 2020-08-29 01:05:12,726] Trial 40 finished with value: 0.0 and parameters: {'max_depth': 19, 'n_estimators': 483, 'learning_rate': 0.1159398571625635, 'num_leaves': 3944, 'min_child_samples': 119}. Best is trial 30 with value: 0.6046511627906976.\n",
      "[I 2020-08-29 01:05:12,870] Trial 41 finished with value: 0.6046511627906976 and parameters: {'max_depth': 28, 'n_estimators': 365, 'learning_rate': 0.7060364411104965, 'num_leaves': 4513, 'min_child_samples': 34}. Best is trial 30 with value: 0.6046511627906976.\n",
      "[I 2020-08-29 01:05:13,121] Trial 42 finished with value: 0.47619047619047616 and parameters: {'max_depth': 25, 'n_estimators': 387, 'learning_rate': 0.7181398529154175, 'num_leaves': 4431, 'min_child_samples': 9}. Best is trial 30 with value: 0.6046511627906976.\n",
      "[I 2020-08-29 01:05:13,281] Trial 43 finished with value: 0.6046511627906976 and parameters: {'max_depth': 23, 'n_estimators': 465, 'learning_rate': 0.6311571631507833, 'num_leaves': 3358, 'min_child_samples': 32}. Best is trial 30 with value: 0.6046511627906976.\n",
      "[I 2020-08-29 01:05:13,440] Trial 44 finished with value: 0.6046511627906976 and parameters: {'max_depth': 23, 'n_estimators': 478, 'learning_rate': 0.43210080696247405, 'num_leaves': 3299, 'min_child_samples': 34}. Best is trial 30 with value: 0.6046511627906976.\n",
      "[I 2020-08-29 01:05:13,584] Trial 45 finished with value: 0.5 and parameters: {'max_depth': 20, 'n_estimators': 472, 'learning_rate': 0.4646905639292528, 'num_leaves': 3375, 'min_child_samples': 48}. Best is trial 30 with value: 0.6046511627906976.\n",
      "[I 2020-08-29 01:05:13,729] Trial 46 finished with value: 0.5128205128205128 and parameters: {'max_depth': 23, 'n_estimators': 495, 'learning_rate': 0.3388739145618219, 'num_leaves': 3683, 'min_child_samples': 54}. Best is trial 30 with value: 0.6046511627906976.\n",
      "[I 2020-08-29 01:05:13,786] Trial 47 finished with value: 0.0 and parameters: {'max_depth': 17, 'n_estimators': 445, 'learning_rate': 0.37622190018780405, 'num_leaves': 4113, 'min_child_samples': 200}. Best is trial 30 with value: 0.6046511627906976.\n",
      "[I 2020-08-29 01:05:13,981] Trial 48 finished with value: 0.5 and parameters: {'max_depth': 23, 'n_estimators': 464, 'learning_rate': 0.6359637304800587, 'num_leaves': 3386, 'min_child_samples': 19}. Best is trial 30 with value: 0.6046511627906976.\n",
      "[I 2020-08-29 01:05:14,130] Trial 49 finished with value: 0.6046511627906976 and parameters: {'max_depth': 19, 'n_estimators': 415, 'learning_rate': 0.555284199101992, 'num_leaves': 3649, 'min_child_samples': 32}. Best is trial 30 with value: 0.6046511627906976.\n",
      "[I 2020-08-29 01:05:14,438] Trial 50 finished with value: 0.5365853658536586 and parameters: {'max_depth': 22, 'n_estimators': 410, 'learning_rate': 0.39269546391360544, 'num_leaves': 3696, 'min_child_samples': 3}. Best is trial 30 with value: 0.6046511627906976.\n",
      "[I 2020-08-29 01:05:14,602] Trial 51 finished with value: 0.6046511627906976 and parameters: {'max_depth': 19, 'n_estimators': 432, 'learning_rate': 0.5597173644489313, 'num_leaves': 4534, 'min_child_samples': 33}. Best is trial 30 with value: 0.6046511627906976.\n",
      "[I 2020-08-29 01:05:14,791] Trial 52 finished with value: 0.6046511627906976 and parameters: {'max_depth': 16, 'n_estimators': 497, 'learning_rate': 0.5491052703655632, 'num_leaves': 4448, 'min_child_samples': 35}. Best is trial 30 with value: 0.6046511627906976.\n",
      "[I 2020-08-29 01:05:14,937] Trial 53 finished with value: 0.2 and parameters: {'max_depth': 13, 'n_estimators': 494, 'learning_rate': 0.43591951839350596, 'num_leaves': 4371, 'min_child_samples': 67}. Best is trial 30 with value: 0.6046511627906976.\n",
      "[I 2020-08-29 01:05:15,109] Trial 54 finished with value: 0.5116279069767442 and parameters: {'max_depth': 16, 'n_estimators': 435, 'learning_rate': 0.5528322408243288, 'num_leaves': 3023, 'min_child_samples': 21}. Best is trial 30 with value: 0.6046511627906976.\n",
      "[I 2020-08-29 01:05:15,260] Trial 55 finished with value: 0.5 and parameters: {'max_depth': 17, 'n_estimators': 433, 'learning_rate': 0.5374446693647583, 'num_leaves': 4642, 'min_child_samples': 48}. Best is trial 30 with value: 0.6046511627906976.\n",
      "[I 2020-08-29 01:05:15,407] Trial 56 finished with value: 0.5909090909090909 and parameters: {'max_depth': 19, 'n_estimators': 361, 'learning_rate': 0.6212694111465514, 'num_leaves': 4082, 'min_child_samples': 28}. Best is trial 30 with value: 0.6046511627906976.\n",
      "[I 2020-08-29 01:05:15,519] Trial 57 finished with value: 0.5581395348837209 and parameters: {'max_depth': 10, 'n_estimators': 458, 'learning_rate': 0.28504401094801923, 'num_leaves': 3514, 'min_child_samples': 39}. Best is trial 30 with value: 0.6046511627906976.\n",
      "[I 2020-08-29 01:05:15,782] Trial 58 finished with value: 0.46511627906976744 and parameters: {'max_depth': 19, 'n_estimators': 478, 'learning_rate': 0.5892459617589797, 'num_leaves': 3213, 'min_child_samples': 10}. Best is trial 30 with value: 0.6046511627906976.\n",
      "[I 2020-08-29 01:05:15,895] Trial 59 finished with value: 0.42424242424242425 and parameters: {'max_depth': 18, 'n_estimators': 395, 'learning_rate': 0.692660054959397, 'num_leaves': 3775, 'min_child_samples': 76}. Best is trial 30 with value: 0.6046511627906976.\n",
      "[I 2020-08-29 01:05:16,042] Trial 60 finished with value: 0.5454545454545454 and parameters: {'max_depth': 22, 'n_estimators': 369, 'learning_rate': 0.4101858154633227, 'num_leaves': 2851, 'min_child_samples': 22}. Best is trial 30 with value: 0.6046511627906976.\n",
      "[I 2020-08-29 01:05:16,207] Trial 61 finished with value: 0.6046511627906976 and parameters: {'max_depth': 15, 'n_estimators': 416, 'learning_rate': 0.48607655676249395, 'num_leaves': 4907, 'min_child_samples': 33}. Best is trial 30 with value: 0.6046511627906976.\n",
      "[I 2020-08-29 01:05:16,366] Trial 62 finished with value: 0.5365853658536586 and parameters: {'max_depth': 20, 'n_estimators': 452, 'learning_rate': 0.5259057891770633, 'num_leaves': 4555, 'min_child_samples': 45}. Best is trial 30 with value: 0.6046511627906976.\n",
      "[I 2020-08-29 01:05:16,521] Trial 63 finished with value: 0.5714285714285715 and parameters: {'max_depth': 15, 'n_estimators': 417, 'learning_rate': 0.4849291328621108, 'num_leaves': 4839, 'min_child_samples': 37}. Best is trial 30 with value: 0.6046511627906976.\n",
      "[I 2020-08-29 01:05:16,685] Trial 64 finished with value: 0.5909090909090909 and parameters: {'max_depth': 12, 'n_estimators': 434, 'learning_rate': 0.6684082713819831, 'num_leaves': 4959, 'min_child_samples': 28}. Best is trial 30 with value: 0.6046511627906976.\n",
      "[I 2020-08-29 01:05:16,820] Trial 65 finished with value: 0.5128205128205128 and parameters: {'max_depth': 24, 'n_estimators': 401, 'learning_rate': 0.5963458134673677, 'num_leaves': 4229, 'min_child_samples': 56}. Best is trial 30 with value: 0.6046511627906976.\n",
      "[I 2020-08-29 01:05:16,937] Trial 66 finished with value: 0.5 and parameters: {'max_depth': 26, 'n_estimators': 383, 'learning_rate': 0.44269439765518154, 'num_leaves': 2366, 'min_child_samples': 42}. Best is trial 30 with value: 0.6046511627906976.\n",
      "[I 2020-08-29 01:05:17,076] Trial 67 finished with value: 0.24242424242424243 and parameters: {'max_depth': 14, 'n_estimators': 414, 'learning_rate': 0.5570200114958165, 'num_leaves': 4372, 'min_child_samples': 61}. Best is trial 30 with value: 0.6046511627906976.\n",
      "[I 2020-08-29 01:05:17,506] Trial 68 finished with value: 0.47619047619047616 and parameters: {'max_depth': 18, 'n_estimators': 497, 'learning_rate': 0.28692189082388503, 'num_leaves': 4890, 'min_child_samples': 7}. Best is trial 30 with value: 0.6046511627906976.\n",
      "[I 2020-08-29 01:05:17,685] Trial 69 finished with value: 0.5116279069767442 and parameters: {'max_depth': 15, 'n_estimators': 349, 'learning_rate': 0.49857111922435315, 'num_leaves': 3892, 'min_child_samples': 17}. Best is trial 30 with value: 0.6046511627906976.\n",
      "[I 2020-08-29 01:05:17,766] Trial 70 finished with value: 0.5238095238095238 and parameters: {'max_depth': 2, 'n_estimators': 377, 'learning_rate': 0.7015436618032513, 'num_leaves': 4610, 'min_child_samples': 24}. Best is trial 30 with value: 0.6046511627906976.\n",
      "[I 2020-08-29 01:05:17,915] Trial 71 finished with value: 0.5714285714285715 and parameters: {'max_depth': 29, 'n_estimators': 441, 'learning_rate': 0.637661187833909, 'num_leaves': 3226, 'min_child_samples': 32}. Best is trial 30 with value: 0.6046511627906976.\n",
      "[I 2020-08-29 01:05:18,076] Trial 72 finished with value: 0.5 and parameters: {'max_depth': 20, 'n_estimators': 483, 'learning_rate': 0.568878658871787, 'num_leaves': 4697, 'min_child_samples': 50}. Best is trial 30 with value: 0.6046511627906976.\n",
      "[I 2020-08-29 01:05:18,233] Trial 73 finished with value: 0.6086956521739131 and parameters: {'max_depth': 21, 'n_estimators': 460, 'learning_rate': 0.6507871600124412, 'num_leaves': 3506, 'min_child_samples': 36}. Best is trial 73 with value: 0.6086956521739131.\n",
      "[I 2020-08-29 01:05:18,403] Trial 74 finished with value: 0.5909090909090909 and parameters: {'max_depth': 21, 'n_estimators': 459, 'learning_rate': 0.6590637692419756, 'num_leaves': 3517, 'min_child_samples': 29}. Best is trial 73 with value: 0.6086956521739131.\n",
      "[I 2020-08-29 01:05:18,562] Trial 75 finished with value: 0.6086956521739131 and parameters: {'max_depth': 18, 'n_estimators': 476, 'learning_rate': 0.5271279843902574, 'num_leaves': 4099, 'min_child_samples': 37}. Best is trial 73 with value: 0.6086956521739131.\n",
      "[I 2020-08-29 01:05:18,719] Trial 76 finished with value: 0.5 and parameters: {'max_depth': 15, 'n_estimators': 477, 'learning_rate': 0.48064559875166857, 'num_leaves': 4113, 'min_child_samples': 43}. Best is trial 73 with value: 0.6086956521739131.\n",
      "[I 2020-08-29 01:05:18,941] Trial 77 finished with value: 0.4545454545454545 and parameters: {'max_depth': 20, 'n_estimators': 467, 'learning_rate': 0.1823124131058319, 'num_leaves': 3787, 'min_child_samples': 14}. Best is trial 73 with value: 0.6086956521739131.\n",
      "[I 2020-08-29 01:05:19,088] Trial 78 finished with value: 0.5909090909090909 and parameters: {'max_depth': 26, 'n_estimators': 450, 'learning_rate': 0.5281919610553535, 'num_leaves': 3299, 'min_child_samples': 39}. Best is trial 73 with value: 0.6086956521739131.\n",
      "[I 2020-08-29 01:05:19,144] Trial 79 finished with value: 0.0 and parameters: {'max_depth': 22, 'n_estimators': 399, 'learning_rate': 0.43190077080258393, 'num_leaves': 3570, 'min_child_samples': 144}. Best is trial 73 with value: 0.6086956521739131.\n",
      "[I 2020-08-29 01:05:19,320] Trial 80 finished with value: 0.5454545454545454 and parameters: {'max_depth': 18, 'n_estimators': 423, 'learning_rate': 0.611209711643197, 'num_leaves': 4022, 'min_child_samples': 22}. Best is trial 73 with value: 0.6086956521739131.\n",
      "[I 2020-08-29 01:05:19,501] Trial 81 finished with value: 0.6046511627906976 and parameters: {'max_depth': 17, 'n_estimators': 489, 'learning_rate': 0.5071911939014324, 'num_leaves': 4447, 'min_child_samples': 34}. Best is trial 73 with value: 0.6086956521739131.\n",
      "[I 2020-08-29 01:05:19,679] Trial 82 finished with value: 0.5714285714285715 and parameters: {'max_depth': 17, 'n_estimators': 491, 'learning_rate': 0.642013528935513, 'num_leaves': 4343, 'min_child_samples': 36}. Best is trial 73 with value: 0.6086956521739131.\n",
      "[I 2020-08-29 01:05:19,814] Trial 83 finished with value: 0.5 and parameters: {'max_depth': 21, 'n_estimators': 474, 'learning_rate': 0.7359408807214605, 'num_leaves': 2897, 'min_child_samples': 52}. Best is trial 73 with value: 0.6086956521739131.\n",
      "[I 2020-08-29 01:05:19,962] Trial 84 finished with value: 0.5365853658536586 and parameters: {'max_depth': 16, 'n_estimators': 425, 'learning_rate': 0.5792438346458649, 'num_leaves': 4209, 'min_child_samples': 45}. Best is trial 73 with value: 0.6086956521739131.\n",
      "[I 2020-08-29 01:05:20,098] Trial 85 finished with value: 0.0 and parameters: {'max_depth': 18, 'n_estimators': 445, 'learning_rate': 0.5066881870821155, 'num_leaves': 4482, 'min_child_samples': 103}. Best is trial 73 with value: 0.6086956521739131.\n",
      "[I 2020-08-29 01:05:20,299] Trial 86 finished with value: 0.5365853658536586 and parameters: {'max_depth': 19, 'n_estimators': 495, 'learning_rate': 0.5462274227205004, 'num_leaves': 4778, 'min_child_samples': 30}. Best is trial 73 with value: 0.6086956521739131.\n",
      "[I 2020-08-29 01:05:20,437] Trial 87 finished with value: 0.5128205128205128 and parameters: {'max_depth': 23, 'n_estimators': 459, 'learning_rate': 0.45582827499303924, 'num_leaves': 3580, 'min_child_samples': 57}. Best is trial 73 with value: 0.6086956521739131.\n",
      "[I 2020-08-29 01:05:20,585] Trial 88 finished with value: 0.46153846153846156 and parameters: {'max_depth': 20, 'n_estimators': 470, 'learning_rate': 0.6022762465694445, 'num_leaves': 3847, 'min_child_samples': 48}. Best is trial 73 with value: 0.6086956521739131.\n",
      "[I 2020-08-29 01:05:20,743] Trial 89 finished with value: 0.5365853658536586 and parameters: {'max_depth': 24, 'n_estimators': 411, 'learning_rate': 0.6757895238921272, 'num_leaves': 3080, 'min_child_samples': 25}. Best is trial 73 with value: 0.6086956521739131.\n",
      "[I 2020-08-29 01:05:20,891] Trial 90 finished with value: 0.5 and parameters: {'max_depth': 25, 'n_estimators': 434, 'learning_rate': 0.5732590873716529, 'num_leaves': 3737, 'min_child_samples': 38}. Best is trial 73 with value: 0.6086956521739131.\n",
      "[I 2020-08-29 01:05:21,074] Trial 91 finished with value: 0.5714285714285715 and parameters: {'max_depth': 17, 'n_estimators': 500, 'learning_rate': 0.41018081383455196, 'num_leaves': 4294, 'min_child_samples': 32}. Best is trial 73 with value: 0.6086956521739131.\n",
      "[I 2020-08-29 01:05:21,252] Trial 92 finished with value: 0.6086956521739131 and parameters: {'max_depth': 15, 'n_estimators': 482, 'learning_rate': 0.4907658242050099, 'num_leaves': 4664, 'min_child_samples': 36}. Best is trial 73 with value: 0.6086956521739131.\n",
      "[I 2020-08-29 01:05:21,309] Trial 93 finished with value: 0.5555555555555555 and parameters: {'max_depth': 16, 'n_estimators': 9, 'learning_rate': 0.35822718483206306, 'num_leaves': 4949, 'min_child_samples': 41}. Best is trial 73 with value: 0.6086956521739131.\n",
      "[I 2020-08-29 01:05:21,595] Trial 94 finished with value: 0.47619047619047616 and parameters: {'max_depth': 19, 'n_estimators': 484, 'learning_rate': 0.5232820544583765, 'num_leaves': 4499, 'min_child_samples': 11}. Best is trial 73 with value: 0.6086956521739131.\n",
      "[I 2020-08-29 01:05:21,800] Trial 95 finished with value: 0.5116279069767442 and parameters: {'max_depth': 21, 'n_estimators': 459, 'learning_rate': 0.624814149916044, 'num_leaves': 4724, 'min_child_samples': 20}. Best is trial 73 with value: 0.6086956521739131.\n",
      "[I 2020-08-29 01:05:21,976] Trial 96 finished with value: 0.5581395348837209 and parameters: {'max_depth': 28, 'n_estimators': 479, 'learning_rate': 0.46893353400153825, 'num_leaves': 3430, 'min_child_samples': 26}. Best is trial 73 with value: 0.6086956521739131.\n",
      "[I 2020-08-29 01:05:22,182] Trial 97 finished with value: 0.4888888888888889 and parameters: {'max_depth': 15, 'n_estimators': 442, 'learning_rate': 0.48701651586211053, 'num_leaves': 4056, 'min_child_samples': 17}. Best is trial 73 with value: 0.6086956521739131.\n",
      "[I 2020-08-29 01:05:22,526] Trial 98 finished with value: 0.46153846153846156 and parameters: {'max_depth': 13, 'n_estimators': 500, 'learning_rate': 0.5549888199124245, 'num_leaves': 4614, 'min_child_samples': 48}. Best is trial 73 with value: 0.6086956521739131.\n",
      "[I 2020-08-29 01:05:22,682] Trial 99 finished with value: 0.5365853658536586 and parameters: {'max_depth': 17, 'n_estimators': 392, 'learning_rate': 0.4261390057910074, 'num_leaves': 4140, 'min_child_samples': 36}. Best is trial 73 with value: 0.6086956521739131.\n"
     ]
    },
    {
     "name": "stdout",
     "output_type": "stream",
     "text": [
      "Optimized LightGBM:  0.7\n",
      "Optimized LightGBM f1-score 0.6086956521739131\n",
      "Optimized LightGBM precision 0.6086956521739131\n",
      "Optimized LightGBM recall 0.6086956521739131\n"
     ]
    }
   ],
   "source": [
    "def create_model(trial):\n",
    "    rfe = RFE(estimator=DecisionTreeClassifier(random_state=0), n_features_to_select=2)\n",
    "    max_depth = trial.suggest_int(\"max_depth\", 2, 30)\n",
    "    n_estimators = trial.suggest_int(\"n_estimators\", 1, 500)\n",
    "    learning_rate = trial.suggest_uniform('learning_rate', 0.0000001, 1)\n",
    "    num_leaves = trial.suggest_int(\"num_leaves\", 2, 5000)\n",
    "    min_child_samples = trial.suggest_int('min_child_samples', 3, 200)\n",
    "    model = Pipeline(steps=[('s',rfe), ('m', LGBMClassifier(learning_rate=learning_rate, n_estimators=n_estimators, \n",
    "                                                            max_depth=max_depth, num_leaves=num_leaves, \n",
    "                                                            min_child_samples=min_child_samples, random_state=0))\n",
    "                           ]\n",
    "                    )\n",
    "    return model\n",
    "\n",
    "def objective(trial):\n",
    "    model = create_model(trial)\n",
    "    model.fit(X, y)\n",
    "    preds = model.predict(X_test)\n",
    "    score = f1_score(y_test, preds)\n",
    "    return score\n",
    "\n",
    "study = optuna.create_study(direction=\"maximize\", sampler=sampler)\n",
    "study.optimize(objective, n_trials=100)\n",
    "\n",
    "lgb_params = study.best_params\n",
    "lgb_params['random_state'] = 0\n",
    "lgb = LGBMClassifier(**lgb_params)\n",
    "rfe = RFE(estimator=DecisionTreeClassifier(random_state=0), n_features_to_select=2)\n",
    "model = Pipeline(steps=[('s',rfe), ('m', lgb)])\n",
    "model.fit(X, y)\n",
    "preds = model.predict(X_test)\n",
    "print('Optimized LightGBM: ', accuracy_score(y_test, preds))\n",
    "print('Optimized LightGBM f1-score', f1_score(y_test, preds))\n",
    "print('Optimized LightGBM precision', precision_score(y_test, preds))\n",
    "print('Optimized LightGBM recall', recall_score(y_test, preds))"
   ]
  },
  {
   "cell_type": "code",
   "execution_count": 34,
   "metadata": {
    "execution": {
     "iopub.execute_input": "2020-08-29T01:05:23.068020Z",
     "iopub.status.busy": "2020-08-29T01:05:23.066930Z",
     "iopub.status.idle": "2020-08-29T01:05:23.283950Z",
     "shell.execute_reply": "2020-08-29T01:05:23.283174Z"
    },
    "papermill": {
     "duration": 0.31279,
     "end_time": "2020-08-29T01:05:23.284078",
     "exception": false,
     "start_time": "2020-08-29T01:05:22.971288",
     "status": "completed"
    },
    "tags": []
   },
   "outputs": [
    {
     "data": {
      "image/png": "[encoded data removed]",
      "text/plain": [
       "<Figure size 432x288 with 2 Axes>"
      ]
     },
     "metadata": {
      "needs_background": "light"
     },
     "output_type": "display_data"
    }
   ],
   "source": [
    "plot_confusion_matrix(model, X_test, y_test)\n",
    "plt.show()"
   ]
  },
  {
   "cell_type": "markdown",
   "metadata": {
    "papermill": {
     "duration": 0.071477,
     "end_time": "2020-08-29T01:05:23.427657",
     "exception": false,
     "start_time": "2020-08-29T01:05:23.356180",
     "status": "completed"
    },
    "tags": []
   },
   "source": [
    "## TBD"
   ]
  },
  {
   "cell_type": "code",
   "execution_count": null,
   "metadata": {
    "papermill": {
     "duration": 0.070721,
     "end_time": "2020-08-29T01:05:23.569364",
     "exception": false,
     "start_time": "2020-08-29T01:05:23.498643",
     "status": "completed"
    },
    "tags": []
   },
   "outputs": [],
   "source": []
  }
 ],
 "metadata": {
  "kernelspec": {
   "display_name": "Python 3",
   "language": "python",
   "name": "python3"
  },
  "language_info": {
   "codemirror_mode": {
    "name": "ipython",
    "version": 3
   },
   "file_extension": ".py",
   "mimetype": "text/x-python",
   "name": "python",
   "nbconvert_exporter": "python",
   "pygments_lexer": "ipython3",
   "version": "3.7.7"
  },
  "papermill": {
   "duration": 42.471616,
   "end_time": "2020-08-29T01:05:23.748371",
   "environment_variables": {},
   "exception": null,
   "input_path": "__notebook__.ipynb",
   "output_path": "__notebook__.ipynb",
   "parameters": {},
   "start_time": "2020-08-29T01:04:41.276755",
   "version": "2.1.0"
  },
  "toc": {
   "base_numbering": 1,
   "nav_menu": {},
   "number_sections": true,
   "sideBar": true,
   "skip_h1_title": false,
   "title_cell": "Table of Contents",
   "title_sidebar": "Contents",
   "toc_cell": false,
   "toc_position": {},
   "toc_section_display": true,
   "toc_window_display": false
  }
 },
 "nbformat": 4,
 "nbformat_minor": 4
}
